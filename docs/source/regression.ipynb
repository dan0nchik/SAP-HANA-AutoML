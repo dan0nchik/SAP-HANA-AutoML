{
 "metadata": {
  "orig_nbformat": 2,
  "kernelspec": {
   "name": "python3",
   "display_name": "Python 3",
   "language": "python"
  }
 },
 "nbformat": 4,
 "nbformat_minor": 2,
 "cells": [
  {
   "source": [
    "# Regression\n",
    "In this example we are building a model that predicts house prices in Boston  \n"
   ],
   "cell_type": "markdown",
   "metadata": {}
  },
  {
   "source": [
    "[![Open In Colab](https://colab.research.google.com/assets/colab-badge.svg)](https://colab.research.google.com/github/dan0nchik/SAP-HANA-AutoML/blob/dev/docs/source/regression.ipynb)"
   ],
   "cell_type": "markdown",
   "metadata": {}
  },
  {
   "cell_type": "code",
   "execution_count": 1,
   "metadata": {},
   "outputs": [],
   "source": [
    "from hana_automl.automl import AutoML\n",
    "import pandas as pd\n",
    "from hana_ml.dataframe import ConnectionContext\n",
    "from hana_automl.storage import Storage"
   ]
  },
  {
   "source": [
    "Let's get used to the dataset"
   ],
   "cell_type": "markdown",
   "metadata": {}
  },
  {
   "source": [
    "test_df = pd.read_csv('https://raw.githubusercontent.com/dan0nchik/SAP-HANA-AutoML/dev/docs/source/datasets/boston_test_data.csv')\n",
    "df = pd.read_csv('https://raw.githubusercontent.com/dan0nchik/SAP-HANA-AutoML/dev/docs/source/datasets/boston_data.csv')\n",
    "df.head()"
   ],
   "cell_type": "code",
   "metadata": {},
   "execution_count": 11,
   "outputs": [
    {
     "output_type": "execute_result",
     "data": {
      "text/plain": [
       "   ID     crim    zn  indus  chas    nox     rm   age     dis  rad    tax  \\\n",
       "0   0  0.15876   0.0  10.81   0.0  0.413  5.961  17.5  5.2873  4.0  305.0   \n",
       "1   1  0.10328  25.0   5.13   0.0  0.453  5.927  47.2  6.9320  8.0  284.0   \n",
       "2   2  0.34940   0.0   9.90   0.0  0.544  5.972  76.7  3.1025  4.0  304.0   \n",
       "3   3  2.73397   0.0  19.58   0.0  0.871  5.597  94.9  1.5257  5.0  403.0   \n",
       "4   4  0.04337  21.0   5.64   0.0  0.439  6.115  63.0  6.8147  4.0  243.0   \n",
       "\n",
       "   ptratio   black  lstat  medv  \n",
       "0     19.2  376.94   9.88  21.7  \n",
       "1     19.7  396.90   9.22  19.6  \n",
       "2     18.4  396.24   9.97  20.3  \n",
       "3     14.7  351.85  21.45  15.4  \n",
       "4     16.8  393.97   9.43  20.5  "
      ],
      "text/html": "<div>\n<style scoped>\n    .dataframe tbody tr th:only-of-type {\n        vertical-align: middle;\n    }\n\n    .dataframe tbody tr th {\n        vertical-align: top;\n    }\n\n    .dataframe thead th {\n        text-align: right;\n    }\n</style>\n<table border=\"1\" class=\"dataframe\">\n  <thead>\n    <tr style=\"text-align: right;\">\n      <th></th>\n      <th>ID</th>\n      <th>crim</th>\n      <th>zn</th>\n      <th>indus</th>\n      <th>chas</th>\n      <th>nox</th>\n      <th>rm</th>\n      <th>age</th>\n      <th>dis</th>\n      <th>rad</th>\n      <th>tax</th>\n      <th>ptratio</th>\n      <th>black</th>\n      <th>lstat</th>\n      <th>medv</th>\n    </tr>\n  </thead>\n  <tbody>\n    <tr>\n      <th>0</th>\n      <td>0</td>\n      <td>0.15876</td>\n      <td>0.0</td>\n      <td>10.81</td>\n      <td>0.0</td>\n      <td>0.413</td>\n      <td>5.961</td>\n      <td>17.5</td>\n      <td>5.2873</td>\n      <td>4.0</td>\n      <td>305.0</td>\n      <td>19.2</td>\n      <td>376.94</td>\n      <td>9.88</td>\n      <td>21.7</td>\n    </tr>\n    <tr>\n      <th>1</th>\n      <td>1</td>\n      <td>0.10328</td>\n      <td>25.0</td>\n      <td>5.13</td>\n      <td>0.0</td>\n      <td>0.453</td>\n      <td>5.927</td>\n      <td>47.2</td>\n      <td>6.9320</td>\n      <td>8.0</td>\n      <td>284.0</td>\n      <td>19.7</td>\n      <td>396.90</td>\n      <td>9.22</td>\n      <td>19.6</td>\n    </tr>\n    <tr>\n      <th>2</th>\n      <td>2</td>\n      <td>0.34940</td>\n      <td>0.0</td>\n      <td>9.90</td>\n      <td>0.0</td>\n      <td>0.544</td>\n      <td>5.972</td>\n      <td>76.7</td>\n      <td>3.1025</td>\n      <td>4.0</td>\n      <td>304.0</td>\n      <td>18.4</td>\n      <td>396.24</td>\n      <td>9.97</td>\n      <td>20.3</td>\n    </tr>\n    <tr>\n      <th>3</th>\n      <td>3</td>\n      <td>2.73397</td>\n      <td>0.0</td>\n      <td>19.58</td>\n      <td>0.0</td>\n      <td>0.871</td>\n      <td>5.597</td>\n      <td>94.9</td>\n      <td>1.5257</td>\n      <td>5.0</td>\n      <td>403.0</td>\n      <td>14.7</td>\n      <td>351.85</td>\n      <td>21.45</td>\n      <td>15.4</td>\n    </tr>\n    <tr>\n      <th>4</th>\n      <td>4</td>\n      <td>0.04337</td>\n      <td>21.0</td>\n      <td>5.64</td>\n      <td>0.0</td>\n      <td>0.439</td>\n      <td>6.115</td>\n      <td>63.0</td>\n      <td>6.8147</td>\n      <td>4.0</td>\n      <td>243.0</td>\n      <td>16.8</td>\n      <td>393.97</td>\n      <td>9.43</td>\n      <td>20.5</td>\n    </tr>\n  </tbody>\n</table>\n</div>"
     },
     "metadata": {},
     "execution_count": 11
    }
   ]
  },
  {
   "source": [
    "Pass credentials to the database."
   ],
   "cell_type": "markdown",
   "metadata": {}
  },
  {
   "cell_type": "code",
   "execution_count": 3,
   "metadata": {},
   "outputs": [],
   "source": [
    "cc = ConnectionContext(address='localhost', port=39015, user='DEVELOPER')"
   ]
  },
  {
   "cell_type": "code",
   "execution_count": 4,
   "metadata": {},
   "outputs": [],
   "source": [
    "automl = AutoML(connection_context=cc)"
   ]
  },
  {
   "cell_type": "code",
   "execution_count": 5,
   "metadata": {},
   "outputs": [
    {
     "output_type": "stream",
     "name": "stdout",
     "text": [
      "Recreating table REGRESSION with data from dataframe\n",
      "100%|██████████| 1/1 [00:00<00:00,  1.84it/s]\n",
      "Task: reg\n",
      "All iterations completed successfully!\n",
      "Starting model accuracy evaluation on the validation data!\n"
     ]
    }
   ],
   "source": [
    "automl.fit(\n",
    "    df=df,\n",
    "    task=None, # library will try to determine task\n",
    "    steps=10,\n",
    "    target='medv',\n",
    "    table_name='REGRESSION', # optional\n",
    "    id_column='ID', # pass None if no ID column in dataset\n",
    "    verbosity=1\n",
    ")"
   ]
  },
  {
   "source": [
    "Save model"
   ],
   "cell_type": "markdown",
   "metadata": {}
  },
  {
   "cell_type": "code",
   "execution_count": 6,
   "metadata": {},
   "outputs": [
    {
     "output_type": "execute_result",
     "data": {
      "text/plain": [
       "    MODEL  VERSION                                               JSON\n",
       "0  boston        1  {\"num_strategy\": [\"mean\", \"median\", \"zero\"], \"...\n",
       "1  boston        2  {\"num_strategy\": [\"mean\", \"median\", \"zero\"], \"...\n",
       "2  boston        3  {\"num_strategy\": [\"mean\", \"median\", \"zero\"], \"...\n",
       "3  boston        4  {\"num_strategy\": [\"mean\", \"median\", \"zero\"], \"...\n",
       "4  boston        5  {\"num_strategy\": [\"mean\", \"median\", \"zero\"], \"..."
      ],
      "text/html": "<div>\n<style scoped>\n    .dataframe tbody tr th:only-of-type {\n        vertical-align: middle;\n    }\n\n    .dataframe tbody tr th {\n        vertical-align: top;\n    }\n\n    .dataframe thead th {\n        text-align: right;\n    }\n</style>\n<table border=\"1\" class=\"dataframe\">\n  <thead>\n    <tr style=\"text-align: right;\">\n      <th></th>\n      <th>MODEL</th>\n      <th>VERSION</th>\n      <th>JSON</th>\n    </tr>\n  </thead>\n  <tbody>\n    <tr>\n      <th>0</th>\n      <td>boston</td>\n      <td>1</td>\n      <td>{\"num_strategy\": [\"mean\", \"median\", \"zero\"], \"...</td>\n    </tr>\n    <tr>\n      <th>1</th>\n      <td>boston</td>\n      <td>2</td>\n      <td>{\"num_strategy\": [\"mean\", \"median\", \"zero\"], \"...</td>\n    </tr>\n    <tr>\n      <th>2</th>\n      <td>boston</td>\n      <td>3</td>\n      <td>{\"num_strategy\": [\"mean\", \"median\", \"zero\"], \"...</td>\n    </tr>\n    <tr>\n      <th>3</th>\n      <td>boston</td>\n      <td>4</td>\n      <td>{\"num_strategy\": [\"mean\", \"median\", \"zero\"], \"...</td>\n    </tr>\n    <tr>\n      <th>4</th>\n      <td>boston</td>\n      <td>5</td>\n      <td>{\"num_strategy\": [\"mean\", \"median\", \"zero\"], \"...</td>\n    </tr>\n  </tbody>\n</table>\n</div>"
     },
     "metadata": {},
     "execution_count": 6
    }
   ],
   "source": [
    "storage = Storage(connection_context=cc, schema='DEVELOPER')\n",
    "automl.model.name = \"boston\" # don't forget to specify the name\n",
    "storage.save_model(automl=automl)\n",
    "storage.list_models()\n",
    "storage.list_preprocessors()"
   ]
  },
  {
   "cell_type": "code",
   "execution_count": 7,
   "metadata": {},
   "outputs": [
    {
     "output_type": "execute_result",
     "data": {
      "text/plain": [
       "     NAME  VERSION LIBRARY                                              CLASS  \\\n",
       "0  boston        1     PAL  hana_ml.algorithms.pal.trees.GradientBoostingR...   \n",
       "1  boston        2     PAL  hana_ml.algorithms.pal.trees.GradientBoostingR...   \n",
       "2  boston        3     PAL  hana_ml.algorithms.pal.trees.GradientBoostingR...   \n",
       "3  boston        4     PAL  hana_ml.algorithms.pal.trees.GradientBoostingR...   \n",
       "4  boston        5     PAL  hana_ml.algorithms.pal.trees.GradientBoostingR...   \n",
       "\n",
       "                                                JSON           TIMESTAMP  \\\n",
       "0  {\"model_attributes\": {\"n_estimators\": 280, \"su... 2021-05-20 14:40:32   \n",
       "1  {\"model_attributes\": {\"n_estimators\": 280, \"su... 2021-05-20 14:45:29   \n",
       "2  {\"model_attributes\": {\"n_estimators\": 280, \"su... 2021-05-20 14:45:42   \n",
       "3  {\"model_attributes\": {\"n_estimators\": 294, \"su... 2021-05-20 14:52:14   \n",
       "4  {\"model_attributes\": {\"n_estimators\": 101, \"su... 2021-05-20 15:26:21   \n",
       "\n",
       "   MODEL_STORAGE_VER  \n",
       "0                  1  \n",
       "1                  1  \n",
       "2                  1  \n",
       "3                  1  \n",
       "4                  1  "
      ],
      "text/html": "<div>\n<style scoped>\n    .dataframe tbody tr th:only-of-type {\n        vertical-align: middle;\n    }\n\n    .dataframe tbody tr th {\n        vertical-align: top;\n    }\n\n    .dataframe thead th {\n        text-align: right;\n    }\n</style>\n<table border=\"1\" class=\"dataframe\">\n  <thead>\n    <tr style=\"text-align: right;\">\n      <th></th>\n      <th>NAME</th>\n      <th>VERSION</th>\n      <th>LIBRARY</th>\n      <th>CLASS</th>\n      <th>JSON</th>\n      <th>TIMESTAMP</th>\n      <th>MODEL_STORAGE_VER</th>\n    </tr>\n  </thead>\n  <tbody>\n    <tr>\n      <th>0</th>\n      <td>boston</td>\n      <td>1</td>\n      <td>PAL</td>\n      <td>hana_ml.algorithms.pal.trees.GradientBoostingR...</td>\n      <td>{\"model_attributes\": {\"n_estimators\": 280, \"su...</td>\n      <td>2021-05-20 14:40:32</td>\n      <td>1</td>\n    </tr>\n    <tr>\n      <th>1</th>\n      <td>boston</td>\n      <td>2</td>\n      <td>PAL</td>\n      <td>hana_ml.algorithms.pal.trees.GradientBoostingR...</td>\n      <td>{\"model_attributes\": {\"n_estimators\": 280, \"su...</td>\n      <td>2021-05-20 14:45:29</td>\n      <td>1</td>\n    </tr>\n    <tr>\n      <th>2</th>\n      <td>boston</td>\n      <td>3</td>\n      <td>PAL</td>\n      <td>hana_ml.algorithms.pal.trees.GradientBoostingR...</td>\n      <td>{\"model_attributes\": {\"n_estimators\": 280, \"su...</td>\n      <td>2021-05-20 14:45:42</td>\n      <td>1</td>\n    </tr>\n    <tr>\n      <th>3</th>\n      <td>boston</td>\n      <td>4</td>\n      <td>PAL</td>\n      <td>hana_ml.algorithms.pal.trees.GradientBoostingR...</td>\n      <td>{\"model_attributes\": {\"n_estimators\": 294, \"su...</td>\n      <td>2021-05-20 14:52:14</td>\n      <td>1</td>\n    </tr>\n    <tr>\n      <th>4</th>\n      <td>boston</td>\n      <td>5</td>\n      <td>PAL</td>\n      <td>hana_ml.algorithms.pal.trees.GradientBoostingR...</td>\n      <td>{\"model_attributes\": {\"n_estimators\": 101, \"su...</td>\n      <td>2021-05-20 15:26:21</td>\n      <td>1</td>\n    </tr>\n  </tbody>\n</table>\n</div>"
     },
     "metadata": {},
     "execution_count": 7
    }
   ],
   "source": [
    "storage.list_models()"
   ]
  },
  {
   "source": [
    "Load model and predict"
   ],
   "cell_type": "markdown",
   "metadata": {}
  },
  {
   "cell_type": "code",
   "execution_count": 8,
   "metadata": {},
   "outputs": [
    {
     "output_type": "stream",
     "name": "stdout",
     "text": [
      "Creating table with name: AUTOML70c8b478-6008-462b-8d72-83905a5158e3\n",
      "100%|██████████| 1/1 [00:00<00:00,  2.45it/s]\n",
      "Preprocessor settings: <hana_automl.preprocess.settings.PreprocessorSettings object at 0x1066e5f70>\n",
      "Prediction results (first 20 rows): \n",
      "     ID    SCORE CONFIDENCE\n",
      "0    1  34.6182       None\n",
      "1    2  20.7285       None\n",
      "2    3  15.3624       None\n",
      "3    4  25.2115       None\n",
      "4    5  22.3916       None\n",
      "5    6  23.9694       None\n",
      "6    7  20.4695       None\n",
      "7    8  21.3091       None\n",
      "8    9  19.0294       None\n",
      "9   10  41.3506       None\n",
      "10  11  39.9838       None\n",
      "11  12  13.5209       None\n",
      "12  13  10.0027       None\n",
      "13  14  44.5971       None\n",
      "14  15  23.6994       None\n",
      "15  16  12.5791       None\n",
      "16  17  19.8964       None\n",
      "17  18   17.987       None\n",
      "18  19  17.6412       None\n",
      "19  20  11.2817       None\n"
     ]
    },
    {
     "output_type": "execute_result",
     "data": {
      "text/plain": [
       "      ID    SCORE CONFIDENCE\n",
       "0      1  34.6182       None\n",
       "1      2  20.7285       None\n",
       "2      3  15.3624       None\n",
       "3      4  25.2115       None\n",
       "4      5  22.3916       None\n",
       "..   ...      ...        ...\n",
       "97    98  25.2976       None\n",
       "98    99  25.7257       None\n",
       "99   100  13.6407       None\n",
       "100  101  40.0866       None\n",
       "101  102  45.3147       None\n",
       "\n",
       "[102 rows x 3 columns]"
      ],
      "text/html": "<div>\n<style scoped>\n    .dataframe tbody tr th:only-of-type {\n        vertical-align: middle;\n    }\n\n    .dataframe tbody tr th {\n        vertical-align: top;\n    }\n\n    .dataframe thead th {\n        text-align: right;\n    }\n</style>\n<table border=\"1\" class=\"dataframe\">\n  <thead>\n    <tr style=\"text-align: right;\">\n      <th></th>\n      <th>ID</th>\n      <th>SCORE</th>\n      <th>CONFIDENCE</th>\n    </tr>\n  </thead>\n  <tbody>\n    <tr>\n      <th>0</th>\n      <td>1</td>\n      <td>34.6182</td>\n      <td>None</td>\n    </tr>\n    <tr>\n      <th>1</th>\n      <td>2</td>\n      <td>20.7285</td>\n      <td>None</td>\n    </tr>\n    <tr>\n      <th>2</th>\n      <td>3</td>\n      <td>15.3624</td>\n      <td>None</td>\n    </tr>\n    <tr>\n      <th>3</th>\n      <td>4</td>\n      <td>25.2115</td>\n      <td>None</td>\n    </tr>\n    <tr>\n      <th>4</th>\n      <td>5</td>\n      <td>22.3916</td>\n      <td>None</td>\n    </tr>\n    <tr>\n      <th>...</th>\n      <td>...</td>\n      <td>...</td>\n      <td>...</td>\n    </tr>\n    <tr>\n      <th>97</th>\n      <td>98</td>\n      <td>25.2976</td>\n      <td>None</td>\n    </tr>\n    <tr>\n      <th>98</th>\n      <td>99</td>\n      <td>25.7257</td>\n      <td>None</td>\n    </tr>\n    <tr>\n      <th>99</th>\n      <td>100</td>\n      <td>13.6407</td>\n      <td>None</td>\n    </tr>\n    <tr>\n      <th>100</th>\n      <td>101</td>\n      <td>40.0866</td>\n      <td>None</td>\n    </tr>\n    <tr>\n      <th>101</th>\n      <td>102</td>\n      <td>45.3147</td>\n      <td>None</td>\n    </tr>\n  </tbody>\n</table>\n<p>102 rows × 3 columns</p>\n</div>"
     },
     "metadata": {},
     "execution_count": 8
    }
   ],
   "source": [
    "new_model = storage.load_model('boston', version=1)\n",
    "new_model.predict(df=test_df)"
   ]
  },
  {
   "source": [
    "Cleanup storage"
   ],
   "cell_type": "markdown",
   "metadata": {}
  },
  {
   "cell_type": "code",
   "execution_count": 9,
   "metadata": {},
   "outputs": [],
   "source": [
    "storage.clean_up()"
   ]
  },
  {
   "source": [
    "For more information, visit AutoML class and Storage class in documentation"
   ],
   "cell_type": "markdown",
   "metadata": {}
  }
 ]
}