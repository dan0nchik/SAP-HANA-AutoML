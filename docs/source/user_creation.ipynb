{
 "cells": [
  {
   "cell_type": "markdown",
   "id": "c01a0be6",
   "metadata": {},
   "source": [
    "# 2. How to create/setup user\n",
    "## To run PAL functions\n",
    "What is PAL? Predictive Analysis Library. We take all algrithms from there."
   ]
  },
  {
   "cell_type": "markdown",
   "id": "0e52254d",
   "metadata": {},
   "source": [
    "### If  user exists\n",
    "Run these sql commands to grant him role  \n",
    "Details [here](https://help.sap.com/viewer/f2ba2229f63148ef862cf2ef28e981eb/2.5.0.0/en-US/e7930a9c80b7101487253286b0e91070.html)  \n",
    "and [here](https://help.sap.com/viewer/2cfbc5cf2bc14f028cfbe2a2bba60a50/2.0.05/en-US/253f2b552f55436ba1243ff0d7b374b3.html)"
   ]
  },
  {
   "cell_type": "code",
   "execution_count": null,
   "id": "f815a9f3",
   "metadata": {},
   "outputs": [],
   "source": [
    "GRANT \"AFL__SYS_AFL_AFLPAL_EXECUTE\" TO <USER>;\n",
    "GRANT \"AFL__SYS_AFL_AFLPAL_EXECUTE_WITH_GRANT_OPTION\" TO <USER>;*\n",
    "\n",
    "Example:\n",
    "GRANT \"AFL__SYS_AFL_AFLPAL_EXECUTE\" TO DEVELOPER;\n",
    "GRANT \"AFL__SYS_AFL_AFLPAL_EXECUTE_WITH_GRANT_OPTION\" TO DEVELOPER;"
   ]
  },
  {
   "cell_type": "markdown",
   "id": "0a66fe52",
   "metadata": {},
   "source": [
    "Note that commands above work only if PAL is installed on your system. How to check it? Run these SQL commands to check. If there aren't any errors, everything is OK.  \n",
    "Details [here](https://help.sap.com/viewer/2cfbc5cf2bc14f028cfbe2a2bba60a50/2.0.05/en-US/fb49df9582fb411898070ee4a9ce6c4d.html)"
   ]
  },
  {
   "cell_type": "code",
   "execution_count": null,
   "id": "e8e50f8a",
   "metadata": {},
   "outputs": [],
   "source": [
    "SELECT * FROM \"SYS\".\"AFL_AREAS\" WHERE AREA_NAME = 'AFLPAL';\n",
    "SELECT * FROM \"SYS\".\"AFL_PACKAGES\" WHERE AREA_NAME = 'AFLPAL';\n",
    "SELECT * FROM \"SYS\".\"AFL_FUNCTIONS\" WHERE AREA_NAME = 'AFLPAL';"
   ]
  },
  {
   "cell_type": "markdown",
   "id": "ffa478d2",
   "metadata": {},
   "source": [
    "### If user doesn't exist/doesn't have role\n",
    "You can run our script that will setup everything for you."
   ]
  },
  {
   "cell_type": "code",
   "execution_count": null,
   "id": "14a3b6f8",
   "metadata": {},
   "outputs": [],
   "source": [
    "from hana_automl.utils.scripts import setup_user\n",
    "from hana_ml.dataframe import ConnectionContext"
   ]
  },
  {
   "cell_type": "code",
   "execution_count": 10,
   "id": "d889abf0",
   "metadata": {},
   "outputs": [],
   "source": [
    "# Create a connection to database (replace it with your credentials)\n",
    "# NOTE: you need to be logged in as user where PAL is installed!\n",
    "\n",
    "cc = ConnectionContext(address='address', user='user', password='password', port=39015)"
   ]
  },
  {
   "cell_type": "code",
   "execution_count": 11,
   "id": "e2dd0f09",
   "metadata": {},
   "outputs": [
    {
     "name": "stdout",
     "output_type": "stream",
     "text": [
      "Checking that PAL is installed...\n",
      "AFL_AREAS True\n",
      "AFL_PACKAGES True\n",
      "AFL_FUNCTIONS True\n",
      "Checking if user exists...\n",
      "User PAL_USER does not exist, creating new user with default password \"newUser1533HelloWorld\"...\n",
      "Done\n",
      "Changing PAL_USER's password to yours...\n",
      "Done\n",
      "Granting roles to PAL_USER to execute PAL functions...\n",
      "Done.\n"
     ]
    }
   ],
   "source": [
    "# Replace PAL_USER and password with any username you want, it's just an example\n",
    "# NOTE: if user exists, it will be assigned a role to run PAL. \n",
    "# Otherwise, a new user with provided password will be created\n",
    "\n",
    "setup_user(connection_context=cc, username='PAL_USER', password=\"PAL_USER's password\")"
   ]
  },
  {
   "cell_type": "code",
   "execution_count": 12,
   "id": "2ca0d54e",
   "metadata": {},
   "outputs": [],
   "source": [
    "# Recreate a connection to test if we can use library with this user. Note that PAL_USER is just an example, \n",
    "# Replace it with credentials from 'setup_user' function\n",
    "\n",
    "cc = ConnectionContext(address='address', user='PAL_USER', password=\"PAL_USER's password\", port=39015)"
   ]
  }
 ],
 "metadata": {
  "kernelspec": {
   "display_name": "venv",
   "language": "python",
   "name": "venv"
  },
  "language_info": {
   "codemirror_mode": {
    "name": "ipython",
    "version": 3
   },
   "file_extension": ".py",
   "mimetype": "text/x-python",
   "name": "python",
   "nbconvert_exporter": "python",
   "pygments_lexer": "ipython3",
   "version": "3.9.5"
  }
 },
 "nbformat": 4,
 "nbformat_minor": 5
}
