{
 "metadata": {
  "orig_nbformat": 2,
  "kernelspec": {
   "name": "python3",
   "display_name": "Python 3",
   "language": "python"
  }
 },
 "nbformat": 4,
 "nbformat_minor": 2,
 "cells": [
  {
   "source": [
    "# Classification\n",
    "In this example we are building a model that classifies iris flowers.  \n",
    "Dataset:"
   ],
   "cell_type": "markdown",
   "metadata": {}
  },
  {
   "source": [
    "[![Open In Colab](https://colab.research.google.com/assets/colab-badge.svg)](https://colab.research.google.com/github/googlecolab/colabtools/blob/master/notebooks/colab-github-demo.ipynb)"
   ],
   "cell_type": "markdown",
   "metadata": {}
  },
  {
   "cell_type": "code",
   "execution_count": 17,
   "metadata": {},
   "outputs": [],
   "source": [
    "from hana_automl.automl import AutoML\n",
    "import pandas as pd\n",
    "from hana_ml.dataframe import ConnectionContext\n",
    "from hana_automl.storage import Storage"
   ]
  },
  {
   "source": [
    "test_df = pd.read_csv('./docs/source/datasets/test_iris.csv', index_col='Unnamed: 0')\n",
    "df = pd.read_csv('./docs/source/datasets/iris.csv', index_col='Unnamed: 0')\n",
    "df.head()"
   ],
   "cell_type": "code",
   "metadata": {},
   "execution_count": 18,
   "outputs": [
    {
     "output_type": "execute_result",
     "data": {
      "text/plain": [
       "   ID  sepal_length  sepal_width  petal_length  petal_width species\n",
       "0  30           4.8          3.1           1.6          0.2  setosa\n",
       "1  31           5.4          3.4           1.5          0.4  setosa\n",
       "2  32           5.2          4.1           1.5          0.1  setosa\n",
       "3  33           5.5          4.2           1.4          0.2  setosa\n",
       "4  34           4.9          3.1           1.5          0.1  setosa"
      ],
      "text/html": "<div>\n<style scoped>\n    .dataframe tbody tr th:only-of-type {\n        vertical-align: middle;\n    }\n\n    .dataframe tbody tr th {\n        vertical-align: top;\n    }\n\n    .dataframe thead th {\n        text-align: right;\n    }\n</style>\n<table border=\"1\" class=\"dataframe\">\n  <thead>\n    <tr style=\"text-align: right;\">\n      <th></th>\n      <th>ID</th>\n      <th>sepal_length</th>\n      <th>sepal_width</th>\n      <th>petal_length</th>\n      <th>petal_width</th>\n      <th>species</th>\n    </tr>\n  </thead>\n  <tbody>\n    <tr>\n      <th>0</th>\n      <td>30</td>\n      <td>4.8</td>\n      <td>3.1</td>\n      <td>1.6</td>\n      <td>0.2</td>\n      <td>setosa</td>\n    </tr>\n    <tr>\n      <th>1</th>\n      <td>31</td>\n      <td>5.4</td>\n      <td>3.4</td>\n      <td>1.5</td>\n      <td>0.4</td>\n      <td>setosa</td>\n    </tr>\n    <tr>\n      <th>2</th>\n      <td>32</td>\n      <td>5.2</td>\n      <td>4.1</td>\n      <td>1.5</td>\n      <td>0.1</td>\n      <td>setosa</td>\n    </tr>\n    <tr>\n      <th>3</th>\n      <td>33</td>\n      <td>5.5</td>\n      <td>4.2</td>\n      <td>1.4</td>\n      <td>0.2</td>\n      <td>setosa</td>\n    </tr>\n    <tr>\n      <th>4</th>\n      <td>34</td>\n      <td>4.9</td>\n      <td>3.1</td>\n      <td>1.5</td>\n      <td>0.1</td>\n      <td>setosa</td>\n    </tr>\n  </tbody>\n</table>\n</div>"
     },
     "metadata": {},
     "execution_count": 18
    }
   ]
  },
  {
   "source": [
    "Pass credentials to the database."
   ],
   "cell_type": "markdown",
   "metadata": {}
  },
  {
   "cell_type": "code",
   "execution_count": 19,
   "metadata": {},
   "outputs": [],
   "source": [
    "cc = ConnectionContext(address='localhost', port=39015, user='DEVELOPER')"
   ]
  },
  {
   "cell_type": "code",
   "execution_count": 20,
   "metadata": {},
   "outputs": [],
   "source": [
    "automl = AutoML(connection_context=cc)"
   ]
  },
  {
   "cell_type": "code",
   "execution_count": 21,
   "metadata": {},
   "outputs": [
    {
     "output_type": "stream",
     "name": "stdout",
     "text": [
      "Recreating table CLASSIFICATION with data from dataframe\n",
      "100%|██████████| 1/1 [00:00<00:00,  6.92it/s]\n",
      "Task: cls\n",
      "All iterations completed successfully!\n",
      "Starting model accuracy evaluation on the validation data!\n"
     ]
    }
   ],
   "source": [
    "automl.fit(\n",
    "    df=df,\n",
    "    task='cls', # if task = None, we'll determine it for you\n",
    "    steps=10,\n",
    "    target='species',\n",
    "    table_name='CLASSIFICATION', # optional\n",
    "    categorical_features=['species'],\n",
    "    id_column='ID', # optional\n",
    "    verbosity=1\n",
    ")"
   ]
  },
  {
   "source": [
    "Save model"
   ],
   "cell_type": "markdown",
   "metadata": {}
  },
  {
   "cell_type": "code",
   "execution_count": 22,
   "metadata": {},
   "outputs": [
    {
     "output_type": "execute_result",
     "data": {
      "text/plain": [
       "   NAME  VERSION LIBRARY                           CLASS  \\\n",
       "0  iris        1     PAL  hana_ml.algorithms.pal.svm.SVC   \n",
       "\n",
       "                                                JSON           TIMESTAMP  \\\n",
       "0  {\"model_attributes\": {\"c\": 0.5398025983275939,... 2021-05-20 14:11:13   \n",
       "\n",
       "   MODEL_STORAGE_VER  \n",
       "0                  1  "
      ],
      "text/html": "<div>\n<style scoped>\n    .dataframe tbody tr th:only-of-type {\n        vertical-align: middle;\n    }\n\n    .dataframe tbody tr th {\n        vertical-align: top;\n    }\n\n    .dataframe thead th {\n        text-align: right;\n    }\n</style>\n<table border=\"1\" class=\"dataframe\">\n  <thead>\n    <tr style=\"text-align: right;\">\n      <th></th>\n      <th>NAME</th>\n      <th>VERSION</th>\n      <th>LIBRARY</th>\n      <th>CLASS</th>\n      <th>JSON</th>\n      <th>TIMESTAMP</th>\n      <th>MODEL_STORAGE_VER</th>\n    </tr>\n  </thead>\n  <tbody>\n    <tr>\n      <th>0</th>\n      <td>iris</td>\n      <td>1</td>\n      <td>PAL</td>\n      <td>hana_ml.algorithms.pal.svm.SVC</td>\n      <td>{\"model_attributes\": {\"c\": 0.5398025983275939,...</td>\n      <td>2021-05-20 14:11:13</td>\n      <td>1</td>\n    </tr>\n  </tbody>\n</table>\n</div>"
     },
     "metadata": {},
     "execution_count": 22
    }
   ],
   "source": [
    "storage = Storage(connection_context=cc, schema='DEVELOPER')\n",
    "automl.model.name = \"iris\" # don't forget to specify the name\n",
    "storage.save_model(automl=automl)\n",
    "storage.list_models()"
   ]
  },
  {
   "source": [
    "Load model and predict"
   ],
   "cell_type": "markdown",
   "metadata": {}
  },
  {
   "cell_type": "code",
   "execution_count": 23,
   "metadata": {},
   "outputs": [
    {
     "output_type": "stream",
     "name": "stdout",
     "text": [
      "Creating table with name: AUTOMLb758836b-8420-43ac-8a16-37176544d312\n",
      "100%|██████████| 1/1 [00:00<00:00,  7.08it/s]\n",
      "Preprocessor settings: <hana_automl.preprocess.settings.PreprocessorSettings object at 0x121094970>\n",
      "Prediction results (first 20 rows): \n",
      "     ID   SCORE PROBABILITY\n",
      "0    0  setosa        None\n",
      "1    1  setosa        None\n",
      "2    2  setosa        None\n",
      "3    3  setosa        None\n",
      "4    4  setosa        None\n",
      "5    5  setosa        None\n",
      "6    6  setosa        None\n",
      "7    7  setosa        None\n",
      "8    8  setosa        None\n",
      "9    9  setosa        None\n",
      "10  10  setosa        None\n",
      "11  11  setosa        None\n",
      "12  12  setosa        None\n",
      "13  13  setosa        None\n",
      "14  14  setosa        None\n",
      "15  15  setosa        None\n",
      "16  16  setosa        None\n",
      "17  17  setosa        None\n",
      "18  18  setosa        None\n",
      "19  19  setosa        None\n"
     ]
    },
    {
     "output_type": "execute_result",
     "data": {
      "text/plain": [
       "    ID   SCORE PROBABILITY\n",
       "0    0  setosa        None\n",
       "1    1  setosa        None\n",
       "2    2  setosa        None\n",
       "3    3  setosa        None\n",
       "4    4  setosa        None\n",
       "5    5  setosa        None\n",
       "6    6  setosa        None\n",
       "7    7  setosa        None\n",
       "8    8  setosa        None\n",
       "9    9  setosa        None\n",
       "10  10  setosa        None\n",
       "11  11  setosa        None\n",
       "12  12  setosa        None\n",
       "13  13  setosa        None\n",
       "14  14  setosa        None\n",
       "15  15  setosa        None\n",
       "16  16  setosa        None\n",
       "17  17  setosa        None\n",
       "18  18  setosa        None\n",
       "19  19  setosa        None\n",
       "20  20  setosa        None\n",
       "21  21  setosa        None\n",
       "22  22  setosa        None\n",
       "23  23  setosa        None\n",
       "24  24  setosa        None\n",
       "25  25  setosa        None\n",
       "26  26  setosa        None\n",
       "27  27  setosa        None\n",
       "28  28  setosa        None\n",
       "29  29  setosa        None"
      ],
      "text/html": "<div>\n<style scoped>\n    .dataframe tbody tr th:only-of-type {\n        vertical-align: middle;\n    }\n\n    .dataframe tbody tr th {\n        vertical-align: top;\n    }\n\n    .dataframe thead th {\n        text-align: right;\n    }\n</style>\n<table border=\"1\" class=\"dataframe\">\n  <thead>\n    <tr style=\"text-align: right;\">\n      <th></th>\n      <th>ID</th>\n      <th>SCORE</th>\n      <th>PROBABILITY</th>\n    </tr>\n  </thead>\n  <tbody>\n    <tr>\n      <th>0</th>\n      <td>0</td>\n      <td>setosa</td>\n      <td>None</td>\n    </tr>\n    <tr>\n      <th>1</th>\n      <td>1</td>\n      <td>setosa</td>\n      <td>None</td>\n    </tr>\n    <tr>\n      <th>2</th>\n      <td>2</td>\n      <td>setosa</td>\n      <td>None</td>\n    </tr>\n    <tr>\n      <th>3</th>\n      <td>3</td>\n      <td>setosa</td>\n      <td>None</td>\n    </tr>\n    <tr>\n      <th>4</th>\n      <td>4</td>\n      <td>setosa</td>\n      <td>None</td>\n    </tr>\n    <tr>\n      <th>5</th>\n      <td>5</td>\n      <td>setosa</td>\n      <td>None</td>\n    </tr>\n    <tr>\n      <th>6</th>\n      <td>6</td>\n      <td>setosa</td>\n      <td>None</td>\n    </tr>\n    <tr>\n      <th>7</th>\n      <td>7</td>\n      <td>setosa</td>\n      <td>None</td>\n    </tr>\n    <tr>\n      <th>8</th>\n      <td>8</td>\n      <td>setosa</td>\n      <td>None</td>\n    </tr>\n    <tr>\n      <th>9</th>\n      <td>9</td>\n      <td>setosa</td>\n      <td>None</td>\n    </tr>\n    <tr>\n      <th>10</th>\n      <td>10</td>\n      <td>setosa</td>\n      <td>None</td>\n    </tr>\n    <tr>\n      <th>11</th>\n      <td>11</td>\n      <td>setosa</td>\n      <td>None</td>\n    </tr>\n    <tr>\n      <th>12</th>\n      <td>12</td>\n      <td>setosa</td>\n      <td>None</td>\n    </tr>\n    <tr>\n      <th>13</th>\n      <td>13</td>\n      <td>setosa</td>\n      <td>None</td>\n    </tr>\n    <tr>\n      <th>14</th>\n      <td>14</td>\n      <td>setosa</td>\n      <td>None</td>\n    </tr>\n    <tr>\n      <th>15</th>\n      <td>15</td>\n      <td>setosa</td>\n      <td>None</td>\n    </tr>\n    <tr>\n      <th>16</th>\n      <td>16</td>\n      <td>setosa</td>\n      <td>None</td>\n    </tr>\n    <tr>\n      <th>17</th>\n      <td>17</td>\n      <td>setosa</td>\n      <td>None</td>\n    </tr>\n    <tr>\n      <th>18</th>\n      <td>18</td>\n      <td>setosa</td>\n      <td>None</td>\n    </tr>\n    <tr>\n      <th>19</th>\n      <td>19</td>\n      <td>setosa</td>\n      <td>None</td>\n    </tr>\n    <tr>\n      <th>20</th>\n      <td>20</td>\n      <td>setosa</td>\n      <td>None</td>\n    </tr>\n    <tr>\n      <th>21</th>\n      <td>21</td>\n      <td>setosa</td>\n      <td>None</td>\n    </tr>\n    <tr>\n      <th>22</th>\n      <td>22</td>\n      <td>setosa</td>\n      <td>None</td>\n    </tr>\n    <tr>\n      <th>23</th>\n      <td>23</td>\n      <td>setosa</td>\n      <td>None</td>\n    </tr>\n    <tr>\n      <th>24</th>\n      <td>24</td>\n      <td>setosa</td>\n      <td>None</td>\n    </tr>\n    <tr>\n      <th>25</th>\n      <td>25</td>\n      <td>setosa</td>\n      <td>None</td>\n    </tr>\n    <tr>\n      <th>26</th>\n      <td>26</td>\n      <td>setosa</td>\n      <td>None</td>\n    </tr>\n    <tr>\n      <th>27</th>\n      <td>27</td>\n      <td>setosa</td>\n      <td>None</td>\n    </tr>\n    <tr>\n      <th>28</th>\n      <td>28</td>\n      <td>setosa</td>\n      <td>None</td>\n    </tr>\n    <tr>\n      <th>29</th>\n      <td>29</td>\n      <td>setosa</td>\n      <td>None</td>\n    </tr>\n  </tbody>\n</table>\n</div>"
     },
     "metadata": {},
     "execution_count": 23
    }
   ],
   "source": [
    "new_model = storage.load_model('iris')\n",
    "new_model.predict(df=test_df, id_column='ID')"
   ]
  },
  {
   "source": [
    "Cleanup storage"
   ],
   "cell_type": "markdown",
   "metadata": {}
  },
  {
   "cell_type": "code",
   "execution_count": 24,
   "metadata": {},
   "outputs": [],
   "source": [
    "storage.clean_up()"
   ]
  },
  {
   "source": [
    "For more information, visit AutoML class and Storage class in documentation"
   ],
   "cell_type": "markdown",
   "metadata": {}
  }
 ]
}