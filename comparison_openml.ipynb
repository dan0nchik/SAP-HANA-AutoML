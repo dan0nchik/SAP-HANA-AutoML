{
 "cells": [
  {
   "cell_type": "markdown",
   "id": "08491fde",
   "metadata": {},
   "source": [
    "# Comparison with APL library on OpenML benchmark datasets"
   ]
  },
  {
   "cell_type": "markdown",
   "id": "2a2f1c0e",
   "metadata": {},
   "source": [
    "In this notebook we will compare our library with official SAP HANA Automated Predictive Library (details here: https://help.sap.com/viewer/cb31bd99d09747089754a0ba75067ed2/2.5.0.0/en-US). In most cases, our library beats it in accuracy. However, there is always room for improvement. "
   ]
  },
  {
   "cell_type": "code",
   "execution_count": 1,
   "id": "dcb1f14b",
   "metadata": {},
   "outputs": [],
   "source": [
    "from hana_automl.utils.perfomance import Benchmark\n",
    "from hana_automl.utils.connection import connection_context"
   ]
  },
  {
   "cell_type": "code",
   "execution_count": 2,
   "id": "e19d3aaa",
   "metadata": {},
   "outputs": [],
   "source": [
    "b = Benchmark(connection_context)"
   ]
  },
  {
   "cell_type": "markdown",
   "id": "3a930848",
   "metadata": {},
   "source": [
    "# Just APL, without Gradient Boosting enabled:\n",
    "Don't know what is Gradient Boosting? Check here: https://machinelearningmastery.com/gentle-introduction-gradient-boosting-algorithm-machine-learning/ . We are using special benchmark datasets from OpenML to compare model accuracy."
   ]
  },
  {
   "cell_type": "markdown",
   "id": "8812536f",
   "metadata": {},
   "source": [
    "## Classification"
   ]
  },
  {
   "cell_type": "code",
   "execution_count": 3,
   "id": "1a1acba7",
   "metadata": {},
   "outputs": [
    {
     "name": "stderr",
     "output_type": "stream",
     "text": [
      "100%|██████████| 1/1 [00:00<00:00,  1.61it/s]\n",
      "100%|██████████| 1/1 [00:00<00:00,  3.88it/s]\n"
     ]
    },
    {
     "name": "stdout",
     "output_type": "stream",
     "text": [
      "Finished in 6 seconds\n",
      "APL accuracy:  0.935349322210636\n",
      "Recreating table BENCHMARK_AUTOML with data from dataframe\n"
     ]
    },
    {
     "name": "stderr",
     "output_type": "stream",
     "text": [
      "100%|██████████| 1/1 [00:00<00:00,  2.25it/s]\n"
     ]
    },
    {
     "name": "stdout",
     "output_type": "stream",
     "text": [
      "Done\n",
      "Task: cls\n",
      "Finished in 291 seconds\n",
      "hana_automl accuracy: 0.985401\n"
     ]
    },
    {
     "data": {
      "image/png": "[encoded data removed]",
      "text/plain": [
       "<Figure size 432x288 with 1 Axes>"
      ]
     },
     "metadata": {
      "needs_background": "light"
     },
     "output_type": "display_data"
    }
   ],
   "source": [
    "# https://www.openml.org/d/3\n",
    "b.run('./data/benchmark/cls/kr-vs-kp.csv', task='cls', label='class', categorical=['class'], grad_boost=False)\n",
    "b.plot_results()"
   ]
  },
  {
   "cell_type": "code",
   "execution_count": 22,
   "id": "47c8edaf",
   "metadata": {},
   "outputs": [
    {
     "name": "stderr",
     "output_type": "stream",
     "text": [
      "100%|██████████| 1/1 [00:00<00:00,  6.04it/s]\n",
      "100%|██████████| 1/1 [00:00<00:00,  6.57it/s]\n"
     ]
    },
    {
     "name": "stdout",
     "output_type": "stream",
     "text": [
      "Finished in 6 seconds\n",
      "APL accuracy:  0.8647342995169082\n",
      "Recreating table BENCHMARK_AUTOML with data from dataframe\n"
     ]
    },
    {
     "name": "stderr",
     "output_type": "stream",
     "text": [
      "100%|██████████| 1/1 [00:00<00:00,  6.07it/s]\n"
     ]
    },
    {
     "name": "stdout",
     "output_type": "stream",
     "text": [
      "Done\n",
      "Task: cls\n",
      "Finished in 276 seconds\n",
      "hana_automl accuracy: 0.869565\n"
     ]
    },
    {
     "data": {
      "image/png": "[encoded data removed]",
      "text/plain": [
       "<Figure size 432x288 with 1 Axes>"
      ]
     },
     "metadata": {
      "needs_background": "light"
     },
     "output_type": "display_data"
    }
   ],
   "source": [
    "# https://www.openml.org/d/40981\n",
    "b.run('./data/benchmark/cls/australian.csv', task='cls', \n",
    "      label='A15', \n",
    "      categorical=['A15', 'A1', 'A4', 'A5', 'A6', 'A8', 'A9', 'A11', 'A12'],\n",
    "      grad_boost=False)\n",
    "b.plot_results()"
   ]
  },
  {
   "cell_type": "code",
   "execution_count": 5,
   "id": "f4e41289",
   "metadata": {},
   "outputs": [
    {
     "name": "stderr",
     "output_type": "stream",
     "text": [
      "100%|██████████| 1/1 [00:00<00:00,  3.36it/s]\n",
      "100%|██████████| 1/1 [00:00<00:00,  4.26it/s]\n"
     ]
    },
    {
     "name": "stdout",
     "output_type": "stream",
     "text": [
      "Finished in 6 seconds\n",
      "APL accuracy:  0.7885326757090012\n",
      "Recreating table BENCHMARK_AUTOML with data from dataframe\n"
     ]
    },
    {
     "name": "stderr",
     "output_type": "stream",
     "text": [
      "100%|██████████| 1/1 [00:00<00:00,  1.16it/s]\n"
     ]
    },
    {
     "name": "stdout",
     "output_type": "stream",
     "text": [
      "Done\n",
      "Task: cls\n",
      "Finished in 316 seconds\n",
      "hana_automl accuracy: 0.856966\n"
     ]
    },
    {
     "data": {
      "image/png": "[encoded data removed]",
      "text/plain": [
       "<Figure size 432x288 with 1 Axes>"
      ]
     },
     "metadata": {
      "needs_background": "light"
     },
     "output_type": "display_data"
    }
   ],
   "source": [
    "# https://www.openml.org/d/1489\n",
    "b.run('./data/benchmark/cls/phoneme.csv', task='cls', label='Class', categorical=['Class'], grad_boost=False)\n",
    "b.plot_results()"
   ]
  },
  {
   "cell_type": "markdown",
   "id": "dd5d2372",
   "metadata": {},
   "source": [
    "## Regression"
   ]
  },
  {
   "cell_type": "code",
   "execution_count": 6,
   "id": "fbc96bd7",
   "metadata": {
    "scrolled": false
   },
   "outputs": [
    {
     "name": "stderr",
     "output_type": "stream",
     "text": [
      "100%|██████████| 1/1 [00:01<00:00,  1.41s/it]\n",
      "100%|██████████| 1/1 [00:00<00:00,  1.67it/s]\n"
     ]
    },
    {
     "name": "stdout",
     "output_type": "stream",
     "text": [
      "Finished in 8 seconds\n",
      "APL accuracy:  0.8419784763283222\n",
      "Recreating table BENCHMARK_AUTOML with data from dataframe\n"
     ]
    },
    {
     "name": "stderr",
     "output_type": "stream",
     "text": [
      "100%|██████████| 1/1 [00:01<00:00,  1.20s/it]\n"
     ]
    },
    {
     "name": "stdout",
     "output_type": "stream",
     "text": [
      "Done\n",
      "Task: reg\n",
      "Finished in 290 seconds\n",
      "hana_automl accuracy: 0.8824106978377947\n"
     ]
    },
    {
     "data": {
      "image/png": "[encoded data removed]",
      "text/plain": [
       "<Figure size 432x288 with 1 Axes>"
      ]
     },
     "metadata": {
      "needs_background": "light"
     },
     "output_type": "display_data"
    }
   ],
   "source": [
    "# https://www.openml.org/d/216\n",
    "b.run('./data/benchmark/reg/elevators.csv', task='reg', label='Goal', grad_boost=False)\n",
    "b.plot_results()"
   ]
  },
  {
   "cell_type": "code",
   "execution_count": 11,
   "id": "cf74ac0f",
   "metadata": {},
   "outputs": [
    {
     "name": "stderr",
     "output_type": "stream",
     "text": [
      "100%|██████████| 1/1 [00:00<00:00,  1.82it/s]\n",
      "100%|██████████| 1/1 [00:00<00:00,  3.51it/s]\n"
     ]
    },
    {
     "name": "stdout",
     "output_type": "stream",
     "text": [
      "Finished in 7 seconds\n",
      "APL accuracy:  0.17613527248359825\n",
      "Recreating table BENCHMARK_AUTOML with data from dataframe\n"
     ]
    },
    {
     "name": "stderr",
     "output_type": "stream",
     "text": [
      "100%|██████████| 1/1 [00:00<00:00,  1.42it/s]\n"
     ]
    },
    {
     "name": "stdout",
     "output_type": "stream",
     "text": [
      "Done\n",
      "Task: reg\n",
      "Finished in 609 seconds\n",
      "hana_automl accuracy: 0.30802361988589755\n"
     ]
    },
    {
     "data": {
      "image/png": "[encoded data removed]",
      "text/plain": [
       "<Figure size 432x288 with 1 Axes>"
      ]
     },
     "metadata": {
      "needs_background": "light"
     },
     "output_type": "display_data"
    }
   ],
   "source": [
    "# https://www.openml.org/d/287\n",
    "b.run('./data/benchmark/reg/wine_quality.csv', task='reg', label='quality', grad_boost=False)\n",
    "b.plot_results()"
   ]
  },
  {
   "cell_type": "code",
   "execution_count": 13,
   "id": "c3e16853",
   "metadata": {},
   "outputs": [
    {
     "name": "stderr",
     "output_type": "stream",
     "text": [
      "100%|██████████| 1/1 [00:00<00:00,  5.39it/s]\n",
      "100%|██████████| 1/1 [00:00<00:00,  6.10it/s]\n"
     ]
    },
    {
     "name": "stdout",
     "output_type": "stream",
     "text": [
      "Finished in 6 seconds\n",
      "APL accuracy:  0.951712136703433\n",
      "Recreating table BENCHMARK_AUTOML with data from dataframe\n"
     ]
    },
    {
     "name": "stderr",
     "output_type": "stream",
     "text": [
      "100%|██████████| 1/1 [00:00<00:00,  5.27it/s]\n"
     ]
    },
    {
     "name": "stdout",
     "output_type": "stream",
     "text": [
      "Done\n",
      "Task: reg\n",
      "Finished in 321 seconds\n",
      "hana_automl accuracy: 0.9447441745574526\n"
     ]
    },
    {
     "data": {
      "image/png": "[encoded data removed]",
      "text/plain": [
       "<Figure size 432x288 with 1 Axes>"
      ]
     },
     "metadata": {
      "needs_background": "light"
     },
     "output_type": "display_data"
    }
   ],
   "source": [
    "# https://www.openml.org/d/41021\n",
    "b.run('./data/benchmark/reg/baseball.csv', task='reg', label='RS', grad_boost=False)\n",
    "b.plot_results()"
   ]
  },
  {
   "cell_type": "markdown",
   "id": "f7fbc216",
   "metadata": {},
   "source": [
    "# APL with Gradient Boosting enabled:\n",
    "(It will be harder to defeat)"
   ]
  },
  {
   "cell_type": "markdown",
   "id": "b0424d9b",
   "metadata": {},
   "source": [
    "## Classification"
   ]
  },
  {
   "cell_type": "code",
   "execution_count": 16,
   "id": "3b1e3915",
   "metadata": {},
   "outputs": [
    {
     "name": "stderr",
     "output_type": "stream",
     "text": [
      "100%|██████████| 1/1 [00:00<00:00,  2.57it/s]\n",
      "100%|██████████| 1/1 [00:00<00:00,  3.87it/s]\n"
     ]
    },
    {
     "name": "stdout",
     "output_type": "stream",
     "text": [
      "Finished in 7 seconds\n",
      "APL accuracy:  0.9947862356621481\n",
      "Recreating table BENCHMARK_AUTOML with data from dataframe\n"
     ]
    },
    {
     "name": "stderr",
     "output_type": "stream",
     "text": [
      "100%|██████████| 1/1 [00:00<00:00,  2.66it/s]\n"
     ]
    },
    {
     "name": "stdout",
     "output_type": "stream",
     "text": [
      "Done\n",
      "Task: cls\n",
      "Finished in 273 seconds\n",
      "hana_automl accuracy: 0.983315\n"
     ]
    },
    {
     "data": {
      "image/png": "[encoded data removed]",
      "text/plain": [
       "<Figure size 432x288 with 1 Axes>"
      ]
     },
     "metadata": {
      "needs_background": "light"
     },
     "output_type": "display_data"
    }
   ],
   "source": [
    "# https://www.openml.org/d/3\n",
    "b.run('./data/benchmark/cls/kr-vs-kp.csv', task='cls', label='class', categorical=['class'], grad_boost=True)\n",
    "b.plot_results()"
   ]
  },
  {
   "cell_type": "code",
   "execution_count": 23,
   "id": "e61b0946",
   "metadata": {},
   "outputs": [
    {
     "name": "stderr",
     "output_type": "stream",
     "text": [
      "100%|██████████| 1/1 [00:00<00:00,  5.64it/s]\n",
      "100%|██████████| 1/1 [00:00<00:00,  6.54it/s]\n"
     ]
    },
    {
     "name": "stdout",
     "output_type": "stream",
     "text": [
      "Finished in 6 seconds\n",
      "APL accuracy:  0.8840579710144928\n",
      "Recreating table BENCHMARK_AUTOML with data from dataframe\n"
     ]
    },
    {
     "name": "stderr",
     "output_type": "stream",
     "text": [
      "100%|██████████| 1/1 [00:00<00:00,  3.14it/s]\n"
     ]
    },
    {
     "name": "stdout",
     "output_type": "stream",
     "text": [
      "Done\n",
      "Task: cls\n",
      "Finished in 273 seconds\n",
      "hana_automl accuracy: 0.908212\n"
     ]
    },
    {
     "data": {
      "image/png": "[encoded data removed]",
      "text/plain": [
       "<Figure size 432x288 with 1 Axes>"
      ]
     },
     "metadata": {
      "needs_background": "light"
     },
     "output_type": "display_data"
    }
   ],
   "source": [
    "# https://www.openml.org/d/40981\n",
    "b.run('./data/benchmark/cls/australian.csv', task='cls', \n",
    "      label='A15', \n",
    "      categorical=['A15', 'A1', 'A4', 'A5', 'A6', 'A8', 'A9', 'A11', 'A12'],\n",
    "      grad_boost=True)\n",
    "b.plot_results()"
   ]
  },
  {
   "cell_type": "code",
   "execution_count": 24,
   "id": "f5328d4a",
   "metadata": {},
   "outputs": [
    {
     "name": "stderr",
     "output_type": "stream",
     "text": [
      "100%|██████████| 1/1 [00:02<00:00,  2.00s/it]\n",
      "100%|██████████| 1/1 [00:00<00:00,  1.82it/s]\n"
     ]
    },
    {
     "name": "stdout",
     "output_type": "stream",
     "text": [
      "Finished in 8 seconds\n",
      "APL accuracy:  0.8921085080147966\n",
      "Recreating table BENCHMARK_AUTOML with data from dataframe\n"
     ]
    },
    {
     "name": "stderr",
     "output_type": "stream",
     "text": [
      "100%|██████████| 1/1 [00:01<00:00,  1.31s/it]\n"
     ]
    },
    {
     "name": "stdout",
     "output_type": "stream",
     "text": [
      "Done\n",
      "Task: cls\n",
      "Finished in 343 seconds\n",
      "hana_automl accuracy: 0.869913\n"
     ]
    },
    {
     "data": {
      "image/png": "[encoded data removed]",
      "text/plain": [
       "<Figure size 432x288 with 1 Axes>"
      ]
     },
     "metadata": {
      "needs_background": "light"
     },
     "output_type": "display_data"
    }
   ],
   "source": [
    "# https://www.openml.org/d/1489\n",
    "b.run('./data/benchmark/cls/phoneme.csv', task='cls', label='Class', categorical=['Class'], grad_boost=True)\n",
    "b.plot_results()"
   ]
  },
  {
   "cell_type": "markdown",
   "id": "004e8c91",
   "metadata": {},
   "source": [
    "## Regression"
   ]
  },
  {
   "cell_type": "code",
   "execution_count": 26,
   "id": "c67bbff5",
   "metadata": {},
   "outputs": [
    {
     "name": "stderr",
     "output_type": "stream",
     "text": [
      "100%|██████████| 1/1 [00:01<00:00,  1.73s/it]\n",
      "100%|██████████| 1/1 [00:00<00:00,  1.72it/s]\n"
     ]
    },
    {
     "name": "stdout",
     "output_type": "stream",
     "text": [
      "Finished in 12 seconds\n",
      "APL accuracy:  0.8938241233815462\n",
      "Recreating table BENCHMARK_AUTOML with data from dataframe\n"
     ]
    },
    {
     "name": "stderr",
     "output_type": "stream",
     "text": [
      "100%|██████████| 1/1 [00:05<00:00,  5.18s/it]\n"
     ]
    },
    {
     "name": "stdout",
     "output_type": "stream",
     "text": [
      "Done\n",
      "Task: reg\n",
      "Finished in 352 seconds\n",
      "hana_automl accuracy: 0.8732336623552772\n"
     ]
    },
    {
     "data": {
      "image/png": "[encoded data removed]",
      "text/plain": [
       "<Figure size 432x288 with 1 Axes>"
      ]
     },
     "metadata": {
      "needs_background": "light"
     },
     "output_type": "display_data"
    }
   ],
   "source": [
    "# https://www.openml.org/d/216\n",
    "b.run('./data/benchmark/reg/elevators.csv', task='reg', label='Goal', grad_boost=True)\n",
    "b.plot_results()"
   ]
  },
  {
   "cell_type": "code",
   "execution_count": 27,
   "id": "d6479dce",
   "metadata": {
    "scrolled": true
   },
   "outputs": [
    {
     "name": "stderr",
     "output_type": "stream",
     "text": [
      "100%|██████████| 1/1 [00:01<00:00,  1.92s/it]\n",
      "100%|██████████| 1/1 [00:00<00:00,  1.51it/s]\n"
     ]
    },
    {
     "name": "stdout",
     "output_type": "stream",
     "text": [
      "Finished in 6 seconds\n",
      "APL accuracy:  0.3161423414134381\n",
      "Recreating table BENCHMARK_AUTOML with data from dataframe\n"
     ]
    },
    {
     "name": "stderr",
     "output_type": "stream",
     "text": [
      "100%|██████████| 1/1 [00:00<00:00,  1.19it/s]\n"
     ]
    },
    {
     "name": "stdout",
     "output_type": "stream",
     "text": [
      "Done\n",
      "Task: reg\n",
      "Finished in 1723 seconds\n",
      "hana_automl accuracy: 0.40260606378903163\n"
     ]
    },
    {
     "data": {
      "image/png": "[encoded data removed]",
      "text/plain": [
       "<Figure size 432x288 with 1 Axes>"
      ]
     },
     "metadata": {
      "needs_background": "light"
     },
     "output_type": "display_data"
    }
   ],
   "source": [
    "# https://www.openml.org/d/287\n",
    "b.run('./data/benchmark/reg/wine_quality.csv', task='reg', label='quality', grad_boost=True)\n",
    "b.plot_results()"
   ]
  },
  {
   "cell_type": "code",
   "execution_count": 29,
   "id": "d5c2fdf7",
   "metadata": {},
   "outputs": [
    {
     "name": "stderr",
     "output_type": "stream",
     "text": [
      "100%|██████████| 1/1 [00:01<00:00,  1.09s/it]\n",
      "100%|██████████| 1/1 [00:00<00:00,  3.11it/s]\n"
     ]
    },
    {
     "name": "stdout",
     "output_type": "stream",
     "text": [
      "Finished in 6 seconds\n",
      "APL accuracy:  0.9215074714973078\n",
      "Recreating table BENCHMARK_AUTOML with data from dataframe\n"
     ]
    },
    {
     "name": "stderr",
     "output_type": "stream",
     "text": [
      "100%|██████████| 1/1 [00:00<00:00,  4.69it/s]\n"
     ]
    },
    {
     "name": "stdout",
     "output_type": "stream",
     "text": [
      "Done\n",
      "Task: reg\n",
      "Finished in 299 seconds\n",
      "hana_automl accuracy: 0.9226860580464445\n"
     ]
    },
    {
     "data": {
      "image/png": "[encoded data removed]",
      "text/plain": [
       "<Figure size 432x288 with 1 Axes>"
      ]
     },
     "metadata": {
      "needs_background": "light"
     },
     "output_type": "display_data"
    }
   ],
   "source": [
    "# https://www.openml.org/d/41021\n",
    "b.run('./data/benchmark/reg/baseball.csv', task='reg', label='RS', grad_boost=True)\n",
    "b.plot_results()"
   ]
  }
 ],
 "metadata": {
  "kernelspec": {
   "display_name": "Python 3",
   "language": "python",
   "name": "python3"
  },
  "language_info": {
   "codemirror_mode": {
    "name": "ipython",
    "version": 3
   },
   "file_extension": ".py",
   "mimetype": "text/x-python",
   "name": "python",
   "nbconvert_exporter": "python",
   "pygments_lexer": "ipython3",
   "version": "3.9.2"
  }
 },
 "nbformat": 4,
 "nbformat_minor": 5
}
