{
 "cells": [
  {
   "cell_type": "markdown",
   "id": "66eb0613",
   "metadata": {},
   "source": [
    "# Comparison with APL library on OpenML benchmark datasets"
   ]
  },
  {
   "cell_type": "markdown",
   "id": "cd6b7fba",
   "metadata": {},
   "source": [
    "In this notebook we will compare our library with official SAP HANA Automated Predictive Library (details here: https://help.sap.com/viewer/cb31bd99d09747089754a0ba75067ed2/2.5.0.0/en-US). In most cases, our library beats it in accuracy. However, there is always room for improvement. "
   ]
  },
  {
   "cell_type": "code",
   "execution_count": 2,
   "id": "b20df02d",
   "metadata": {},
   "outputs": [
    {
     "data": {
      "application/javascript": [
       "if (!(\"Notification\" in window)) {\n",
       "    alert(\"This browser does not support desktop notifications, so the %%notify magic will not work.\");\n",
       "} else if (Notification.permission !== 'granted' && Notification.permission !== 'denied') {\n",
       "    Notification.requestPermission(function (permission) {\n",
       "        if(!('permission' in Notification)) {\n",
       "            Notification.permission = permission;\n",
       "        }\n",
       "    })\n",
       "}\n"
      ],
      "text/plain": [
       "<IPython.core.display.Javascript object>"
      ]
     },
     "metadata": {},
     "output_type": "display_data"
    }
   ],
   "source": [
    "%load_ext jupyternotify\n",
    "%load_ext autoreload\n",
    "%autoreload 2\n",
    "from benchmarks.perfomance import Benchmark\n",
    "from benchmarks.cleanup import clean\n",
    "from tests.connection import connection_context, schema\n",
    "import seaborn as sns\n",
    "import pandas as pd\n",
    "import numpy as np\n",
    "import matplotlib.pyplot as plt\n",
    "from hana_automl.utils.scripts import setup_user\n",
    "import time"
   ]
  },
  {
   "cell_type": "code",
   "execution_count": 3,
   "id": "83d7ccc7",
   "metadata": {
    "tags": [
     "hide-cell"
    ]
   },
   "outputs": [],
   "source": [
    "b = Benchmark(connection_context, schema)\n",
    "GRADIENT = True"
   ]
  },
  {
   "cell_type": "code",
   "execution_count": 4,
   "id": "ccbdd066",
   "metadata": {
    "tags": [
     "hide-cell"
    ]
   },
   "outputs": [],
   "source": [
    "df = pd.DataFrame()"
   ]
  },
  {
   "cell_type": "code",
   "execution_count": 5,
   "id": "6b57bcc1",
   "metadata": {
    "tags": [
     "hide-cell"
    ]
   },
   "outputs": [
    {
     "name": "stdout",
     "output_type": "stream",
     "text": [
      "['Solarize_Light2', '_classic_test_patch', 'bmh', 'classic', 'dark_background', 'fast', 'fivethirtyeight', 'ggplot', 'grayscale', 'seaborn', 'seaborn-bright', 'seaborn-colorblind', 'seaborn-dark', 'seaborn-dark-palette', 'seaborn-darkgrid', 'seaborn-deep', 'seaborn-muted', 'seaborn-notebook', 'seaborn-paper', 'seaborn-pastel', 'seaborn-poster', 'seaborn-talk', 'seaborn-ticks', 'seaborn-white', 'seaborn-whitegrid', 'tableau-colorblind10']\n"
     ]
    }
   ],
   "source": [
    "def plot_results(task: str, boosting: bool):\n",
    "    df['APL'] = apl_acc\n",
    "    df['HANA AutoML'] = hana_acc\n",
    "    df['Dataset'] = datasets\n",
    "    x = np.arange(len(datasets))  # the label locations\n",
    "    width = 0.45  # the width of the bars\n",
    "\n",
    "    fig, ax = plt.subplots()\n",
    "    rects1 = ax.bar(x - width/2, apl_acc, width, label='APL')\n",
    "    rects2 = ax.bar(x + width/2, hana_acc, width, label='HANA AutoML')\n",
    "    # Add some text for labels, title and custom x-axis tick labels, etc.\n",
    "    ax.set_ylabel('r2_score')\n",
    "    if boosting:\n",
    "        ax.set_title(f'{task} (APL with Gradient Boosting)')\n",
    "    else:\n",
    "        ax.set_title(f'{task} (APL without Gradient Boosting)')\n",
    "    \n",
    "    ax.set_xticks(x)\n",
    "    ax.set_xticklabels(datasets)\n",
    "    ax.legend()\n",
    "\n",
    "    ax.bar_label(rects1)\n",
    "    ax.bar_label(rects2)\n",
    "\n",
    "    plt.gcf().set_size_inches(25,15)\n",
    "    plt.style.use('default')\n",
    "    plt.show()\n",
    "    \n",
    "def finish(benchmark):\n",
    "    apl_acc.append(benchmark.apl_accuracy)\n",
    "    hana_acc.append(benchmark.automl_accuracy)\n",
    "    clean(connection_context, schema)\n",
    "    time.sleep(180)\n",
    "    \n",
    "print(plt.style.available)"
   ]
  },
  {
   "cell_type": "markdown",
   "id": "24ae45da",
   "metadata": {},
   "source": [
    "## Enable Gradient boosting in APL by setting GRADIENT to True\n",
    "Don't know what is Gradient Boosting? Check here: https://machinelearningmastery.com/gentle-introduction-gradient-boosting-algorithm-machine-learning/ . We are using special benchmark datasets from OpenML to compare model accuracy."
   ]
  },
  {
   "cell_type": "markdown",
   "id": "4bc9e6ad",
   "metadata": {},
   "source": [
    "## Classification"
   ]
  },
  {
   "cell_type": "code",
   "execution_count": 7,
   "id": "bd26b810",
   "metadata": {},
   "outputs": [],
   "source": [
    "apl_acc = []\n",
    "hana_acc = []\n",
    "datasets = ['kr-vs-kp.csv', 'australian.csv', 'phoneme.csv', 'adult.csv', 'blood.csv', 'sylvine.csv', 'credit.csv', 'kc1.csv']"
   ]
  },
  {
   "cell_type": "code",
   "execution_count": 7,
   "id": "416bab16",
   "metadata": {
    "tags": []
   },
   "outputs": [
    {
     "name": "stdout",
     "output_type": "stream",
     "text": [
      "REMOVED ALL TABLES FROM DEVELOPER\n",
      "100%|██████████| 1/1 [00:00<00:00,  2.10it/s]\n",
      "100%|██████████| 1/1 [00:00<00:00,  4.00it/s]\n",
      "Finished in 6 seconds\n",
      "APL accuracy:  0.9885297184567258\n",
      "REMOVED ALL TABLES FROM DEVELOPER\n",
      "Finished in 167 seconds\n",
      "hana_automl accuracy: 0.99373\n",
      "REMOVED ALL TABLES FROM DEVELOPER\n"
     ]
    }
   ],
   "source": [
    "clean(connection_context, schema)\n",
    "b.run('./data/benchmark/cls/kr-vs-kp.csv', task='cls', label='class', categorical=['class'], grad_boost=GRADIENT)\n",
    "finish(b)"
   ]
  },
  {
   "cell_type": "code",
   "execution_count": 8,
   "id": "61b9e1a2",
   "metadata": {
    "tags": [
     "hide-cell"
    ]
   },
   "outputs": [
    {
     "name": "stderr",
     "output_type": "stream",
     "text": [
      "100%|██████████| 1/1 [00:00<00:00,  6.04it/s]\n",
      "100%|██████████| 1/1 [00:00<00:00,  6.45it/s]\n",
      "Finished in 5 seconds\n",
      "APL accuracy:  0.8695652173913043\n",
      "REMOVED ALL TABLES FROM DEVELOPER\n",
      "Finished in 270 seconds\n",
      "hana_automl accuracy: 0.89855\n",
      "REMOVED ALL TABLES FROM DEVELOPER\n"
     ]
    }
   ],
   "source": [
    "b.run('./data/benchmark/cls/australian.csv', task='cls', \n",
    "      label='A15', \n",
    "      categorical=['A15', 'A1', 'A4', 'A5', 'A6', 'A8', 'A9', 'A11', 'A12'],\n",
    "      grad_boost=GRADIENT)\n",
    "finish(b)"
   ]
  },
  {
   "cell_type": "code",
   "execution_count": 9,
   "id": "25936031",
   "metadata": {
    "scrolled": true,
    "tags": [
     "hide-cell"
    ]
   },
   "outputs": [
    {
     "name": "stderr",
     "output_type": "stream",
     "text": [
      "100%|██████████| 1/1 [00:00<00:00,  3.28it/s]\n",
      "100%|██████████| 1/1 [00:00<00:00,  5.42it/s]\n",
      "Finished in 6 seconds\n",
      "APL accuracy:  0.8797780517879161\n",
      "REMOVED ALL TABLES FROM DEVELOPER\n",
      "Finished in 281 seconds\n",
      "hana_automl accuracy: 0.897959\n",
      "REMOVED ALL TABLES FROM DEVELOPER\n"
     ]
    }
   ],
   "source": [
    "b.run('./data/benchmark/cls/phoneme.csv', task='cls', label='Class', categorical=['Class'], grad_boost=GRADIENT)\n",
    "finish(b)"
   ]
  },
  {
   "cell_type": "code",
   "execution_count": 10,
   "id": "0c68d3e3",
   "metadata": {
    "tags": [
     "hide-cell"
    ]
   },
   "outputs": [
    {
     "name": "stderr",
     "output_type": "stream",
     "text": [
      "100%|██████████| 1/1 [00:03<00:00,  3.96s/it]\n",
      "100%|██████████| 1/1 [00:01<00:00,  1.26s/it]\n",
      "Finished in 12 seconds\n",
      "APL accuracy:  0.868832321026411\n",
      "REMOVED ALL TABLES FROM DEVELOPER\n",
      "Finished in 329 seconds\n",
      "hana_automl accuracy: 0.865751\n",
      "REMOVED ALL TABLES FROM DEVELOPER\n"
     ]
    }
   ],
   "source": [
    "b.run('./data/benchmark/cls/adult.csv', task='cls', label='class', categorical=['workclass', 'education', 'marital-status', 'occupation', 'relationship', 'race', 'sex', 'native-country', 'class'], grad_boost=GRADIENT)\n",
    "finish(b)"
   ]
  },
  {
   "cell_type": "code",
   "execution_count": 20,
   "id": "0bcb89fd",
   "metadata": {
    "tags": [
     "hide-cell"
    ]
   },
   "outputs": [
    {
     "name": "stderr",
     "output_type": "stream",
     "text": [
      "100%|██████████| 1/1 [00:00<00:00,  5.48it/s]\n",
      "100%|██████████| 1/1 [00:00<00:00,  6.19it/s]\n",
      "Finished in 5 seconds\n",
      "APL accuracy:  0.7733333333333333\n",
      "REMOVED ALL TABLES FROM DEVELOPER\n",
      "Finished in 275 seconds\n",
      "hana_automl accuracy: 0.81132\n",
      "REMOVED ALL TABLES FROM DEVELOPER\n"
     ]
    }
   ],
   "source": [
    "b.run('./data/benchmark/cls/blood.csv', task='cls', label='Class', categorical=['Class'], grad_boost=GRADIENT)\n",
    "finish(b)"
   ]
  },
  {
   "cell_type": "code",
   "execution_count": 8,
   "id": "b3737370",
   "metadata": {
    "tags": [
     "hide-cell"
    ]
   },
   "outputs": [
    {
     "name": "stderr",
     "output_type": "stream",
     "text": [
      "100%|██████████| 1/1 [00:00<00:00,  2.67it/s]\n",
      "100%|██████████| 1/1 [00:00<00:00,  4.57it/s]\n"
     ]
    },
    {
     "name": "stdout",
     "output_type": "stream",
     "text": [
      "Finished in 6 seconds\n",
      "APL accuracy:  0.9401820546163849\n",
      "REMOVED ALL TABLES FROM DEVELOPER\n",
      "Finished in 400 seconds\n",
      "hana_automl accuracy: 0.929687\n",
      "REMOVED ALL TABLES FROM DEVELOPER\n"
     ]
    }
   ],
   "source": [
    "b.run('./data/benchmark/cls/sylvine.csv', task='cls', label='class', categorical=['class'], grad_boost=GRADIENT)\n",
    "finish(b)"
   ]
  },
  {
   "cell_type": "code",
   "execution_count": 9,
   "id": "812d67ec",
   "metadata": {
    "tags": [
     "hide-cell"
    ]
   },
   "outputs": [
    {
     "name": "stderr",
     "output_type": "stream",
     "text": [
      "100%|██████████| 1/1 [00:00<00:00,  5.57it/s]\n",
      "100%|██████████| 1/1 [00:00<00:00,  6.48it/s]\n"
     ]
    },
    {
     "name": "stdout",
     "output_type": "stream",
     "text": [
      "Finished in 5 seconds\n",
      "APL accuracy:  0.7366666666666667\n",
      "REMOVED ALL TABLES FROM DEVELOPER\n",
      "Finished in 342 seconds\n",
      "hana_automl accuracy: 0.8\n",
      "REMOVED ALL TABLES FROM DEVELOPER\n"
     ]
    }
   ],
   "source": [
    "b.run('./data/benchmark/cls/credit.csv', task='cls', label='class', categorical=['class', 'checking_status', 'credit_history', 'purpose', 'savings_status', 'employment', 'personal_status', 'other_parties', 'property_magnitude', 'other_payment_plans', 'housing', 'job', 'own_telephone', 'foreign_worker'], grad_boost=GRADIENT)\n",
    "finish(b)"
   ]
  },
  {
   "cell_type": "code",
   "execution_count": 10,
   "id": "170c4f67",
   "metadata": {
    "tags": [
     "hide-cell"
    ]
   },
   "outputs": [
    {
     "name": "stderr",
     "output_type": "stream",
     "text": [
      "100%|██████████| 1/1 [00:00<00:00,  2.49it/s]\n",
      "100%|██████████| 1/1 [00:00<00:00,  3.87it/s]\n"
     ]
    },
    {
     "name": "stdout",
     "output_type": "stream",
     "text": [
      "Finished in 7 seconds\n",
      "APL accuracy:  0.8546603475513428\n",
      "REMOVED ALL TABLES FROM DEVELOPER\n",
      "Finished in 615 seconds\n",
      "hana_automl accuracy: 0.776859\n",
      "REMOVED ALL TABLES FROM DEVELOPER\n"
     ]
    }
   ],
   "source": [
    "b.run('./data/benchmark/cls/kc1.csv', task='cls', label='defects', categorical=['defects'], grad_boost=GRADIENT)\n",
    "finish(b)"
   ]
  },
  {
   "cell_type": "code",
   "execution_count": 11,
   "id": "85cdc6db",
   "metadata": {},
   "outputs": [
    {
     "data": {
      "image/png": "[encoded data removed]",
      "text/plain": [
       "<Figure size 1800x1080 with 1 Axes>"
      ]
     },
     "metadata": {
      "needs_background": "light"
     },
     "output_type": "display_data"
    }
   ],
   "source": [
    "hana_acc = [0.99373, 0.89855, 0.897959, 0.865751, 0.81132, 0.929687, 0.8, 0.776859]\n",
    "apl_acc = [0.9885297184567258, 0.8695652173913043, 0.8797780517879161, 0.868832321026411, 0.7733333333333333, 0.9401820546163849, 0.7366666666666667, 0.8546603475513428]\n",
    "plot_results(task='Classification', boosting=GRADIENT)"
   ]
  },
  {
   "cell_type": "markdown",
   "id": "3a94ec68",
   "metadata": {},
   "source": [
    "## Regression"
   ]
  },
  {
   "cell_type": "code",
   "execution_count": 6,
   "id": "ef213c34",
   "metadata": {},
   "outputs": [
    {
     "name": "stdout",
     "output_type": "stream",
     "text": [
      "REMOVED ALL TABLES FROM DEVELOPER\n"
     ]
    }
   ],
   "source": [
    "datasets = ['elevators.csv', 'wine_quality.csv', 'baseball.csv', 'boston.csv', 'tecator.csv', 'space_ga.csv', 'pol.csv', 'socmob.csv']\n",
    "hana_acc = []\n",
    "apl_acc = []\n",
    "clean(connection_context, schema)"
   ]
  },
  {
   "cell_type": "code",
   "execution_count": null,
   "id": "2afb4e2a",
   "metadata": {},
   "outputs": [],
   "source": [
    "%%notify\n",
    "b.run('./data/benchmark/reg/elevators.csv', task='reg', label='Goal', grad_boost=GRADIENT)\n",
    "finish(b) # apl - 0.9294002825634781, hana_automl - 0.9345000820384756 (output was cleared)"
   ]
  },
  {
   "cell_type": "code",
   "execution_count": 6,
   "id": "f66296c6",
   "metadata": {},
   "outputs": [
    {
     "name": "stderr",
     "output_type": "stream",
     "text": [
      "100%|██████████| 1/1 [00:02<00:00,  2.20s/it]\n",
      "100%|██████████| 1/1 [00:01<00:00,  1.16s/it]\n"
     ]
    },
    {
     "name": "stdout",
     "output_type": "stream",
     "text": [
      "Finished in 15 seconds\n",
      "APL accuracy:  0.3099873396557854\n",
      "REMOVED ALL TABLES FROM DEVELOPER\n",
      "\u001b[33m \n",
      "\n",
      "Ensemble consists of: HybridGradientBoostingRegressor, GradientBoostingRegressor, GradientBoostingRegressor\n",
      "Ensemble r2_score score: 0.3352677618858584\n",
      "\u001b[0m \n",
      "Finished in 1306 seconds\n",
      "hana_automl accuracy: 0.3352677618858584\n",
      "REMOVED ALL TABLES FROM DEVELOPER\n"
     ]
    },
    {
     "data": {
      "application/javascript": [
       "$(document).ready(\n",
       "    function() {\n",
       "        function appendUniqueDiv(){\n",
       "            // append a div with our uuid so we can check that it's already\n",
       "            // been sent and avoid duplicates on page reload\n",
       "            var notifiedDiv = document.createElement(\"div\")\n",
       "            notifiedDiv.id = \"4d2164b8-66d3-42a3-85a8-4073366d8943\"\n",
       "            element.append(notifiedDiv)\n",
       "        }\n",
       "\n",
       "        // only send notifications if the pageload is complete; this will\n",
       "        // help stop extra notifications when a saved notebook is loaded,\n",
       "        // which during testing gives us state \"interactive\", not \"complete\"\n",
       "        if (document.readyState === 'complete') {\n",
       "            // check for the div that signifies that the notification\n",
       "            // was already sent\n",
       "            if (document.getElementById(\"4d2164b8-66d3-42a3-85a8-4073366d8943\") === null) {\n",
       "                var notificationPayload = {\"requireInteraction\": false, \"icon\": \"/static/base/images/favicon.ico\", \"body\": \"Cell execution has finished!\"};\n",
       "                if (Notification.permission !== 'denied') {\n",
       "                    if (Notification.permission !== 'granted') { \n",
       "                        Notification.requestPermission(function (permission) {\n",
       "                            if(!('permission' in Notification)) {\n",
       "                                Notification.permission = permission\n",
       "                            }\n",
       "                        })\n",
       "                    }\n",
       "                    if (Notification.permission === 'granted') {\n",
       "                    var notification = new Notification(\"Jupyter Notebook\", notificationPayload)\n",
       "                    appendUniqueDiv()\n",
       "                    notification.onclick = function () {\n",
       "                        window.focus();\n",
       "                        this.close();\n",
       "                        };\n",
       "                    } \n",
       "                }     \n",
       "            }\n",
       "        }\n",
       "    }\n",
       ")\n"
      ],
      "text/plain": [
       "<IPython.core.display.Javascript object>"
      ]
     },
     "metadata": {},
     "output_type": "display_data"
    }
   ],
   "source": [
    "%%notify\n",
    "b.run('./data/benchmark/reg/wine_quality.csv', task='reg', label='quality', grad_boost=GRADIENT)\n",
    "finish(b)"
   ]
  },
  {
   "cell_type": "code",
   "execution_count": 17,
   "id": "bbc60e9f",
   "metadata": {},
   "outputs": [
    {
     "name": "stderr",
     "output_type": "stream",
     "text": [
      "100%|██████████| 1/1 [00:00<00:00,  2.82it/s]\n",
      "100%|██████████| 1/1 [00:00<00:00,  3.90it/s]\n"
     ]
    },
    {
     "name": "stdout",
     "output_type": "stream",
     "text": [
      "Finished in 7 seconds\n",
      "APL accuracy:  0.9396573145349141\n",
      "REMOVED ALL TABLES FROM DEVELOPER\n",
      "\u001b[32m[I 2021-06-16 17:24:10.107047] \u001b[36mA new bayesian optimization process created in memory\u001b[0m\n",
      "\u001b[33m \n",
      "\n",
      "Ensemble consists of: HybridGradientBoostingRegressor, HybridGradientBoostingRegressor, HybridGradientBoostingRegressor\n",
      "Ensemble r2_score score: 0.9187809116981492\n",
      "\u001b[0m \n",
      "Finished in 964 seconds\n",
      "hana_automl accuracy: 0.9187809116981492\n",
      "REMOVED ALL TABLES FROM DEVELOPER\n"
     ]
    },
    {
     "data": {
      "application/javascript": [
       "$(document).ready(\n",
       "    function() {\n",
       "        function appendUniqueDiv(){\n",
       "            // append a div with our uuid so we can check that it's already\n",
       "            // been sent and avoid duplicates on page reload\n",
       "            var notifiedDiv = document.createElement(\"div\")\n",
       "            notifiedDiv.id = \"37197302-6abd-4867-a886-8903bc8d8b40\"\n",
       "            element.append(notifiedDiv)\n",
       "        }\n",
       "\n",
       "        // only send notifications if the pageload is complete; this will\n",
       "        // help stop extra notifications when a saved notebook is loaded,\n",
       "        // which during testing gives us state \"interactive\", not \"complete\"\n",
       "        if (document.readyState === 'complete') {\n",
       "            // check for the div that signifies that the notification\n",
       "            // was already sent\n",
       "            if (document.getElementById(\"37197302-6abd-4867-a886-8903bc8d8b40\") === null) {\n",
       "                var notificationPayload = {\"requireInteraction\": false, \"icon\": \"/static/base/images/favicon.ico\", \"body\": \"Cell execution has finished!\"};\n",
       "                if (Notification.permission !== 'denied') {\n",
       "                    if (Notification.permission !== 'granted') { \n",
       "                        Notification.requestPermission(function (permission) {\n",
       "                            if(!('permission' in Notification)) {\n",
       "                                Notification.permission = permission\n",
       "                            }\n",
       "                        })\n",
       "                    }\n",
       "                    if (Notification.permission === 'granted') {\n",
       "                    var notification = new Notification(\"Jupyter Notebook\", notificationPayload)\n",
       "                    appendUniqueDiv()\n",
       "                    notification.onclick = function () {\n",
       "                        window.focus();\n",
       "                        this.close();\n",
       "                        };\n",
       "                    } \n",
       "                }     \n",
       "            }\n",
       "        }\n",
       "    }\n",
       ")\n"
      ],
      "text/plain": [
       "<IPython.core.display.Javascript object>"
      ]
     },
     "metadata": {},
     "output_type": "display_data"
    }
   ],
   "source": [
    "%%notify\n",
    "b.run('./data/benchmark/reg/baseball.csv', task='reg', label='RS', grad_boost=GRADIENT)\n",
    "finish(b)"
   ]
  },
  {
   "cell_type": "code",
   "execution_count": 8,
   "id": "08073822",
   "metadata": {},
   "outputs": [
    {
     "name": "stderr",
     "output_type": "stream",
     "text": [
      "100%|██████████| 1/1 [00:00<00:00,  3.46it/s]\n",
      "100%|██████████| 1/1 [00:00<00:00,  2.20it/s]\n"
     ]
    },
    {
     "name": "stdout",
     "output_type": "stream",
     "text": [
      "Finished in 8 seconds\n",
      "APL accuracy:  0.8448584138226907\n",
      "REMOVED ALL TABLES FROM DEVELOPER\n",
      "\u001b[33m \n",
      "\n",
      "Ensemble consists of: HybridGradientBoostingRegressor, Random_Decision_Tree_Regressor, Random_Decision_Tree_Regressor\n",
      "Ensemble r2_score score: 0.883268964633891\n",
      "\u001b[0m \n",
      "Finished in 1232 seconds\n",
      "hana_automl accuracy: 0.883268964633891\n",
      "REMOVED ALL TABLES FROM DEVELOPER\n"
     ]
    },
    {
     "data": {
      "application/javascript": [
       "$(document).ready(\n",
       "    function() {\n",
       "        function appendUniqueDiv(){\n",
       "            // append a div with our uuid so we can check that it's already\n",
       "            // been sent and avoid duplicates on page reload\n",
       "            var notifiedDiv = document.createElement(\"div\")\n",
       "            notifiedDiv.id = \"c0b8d99f-433b-4957-a8a5-0a27e9216448\"\n",
       "            element.append(notifiedDiv)\n",
       "        }\n",
       "\n",
       "        // only send notifications if the pageload is complete; this will\n",
       "        // help stop extra notifications when a saved notebook is loaded,\n",
       "        // which during testing gives us state \"interactive\", not \"complete\"\n",
       "        if (document.readyState === 'complete') {\n",
       "            // check for the div that signifies that the notification\n",
       "            // was already sent\n",
       "            if (document.getElementById(\"c0b8d99f-433b-4957-a8a5-0a27e9216448\") === null) {\n",
       "                var notificationPayload = {\"requireInteraction\": false, \"icon\": \"/static/base/images/favicon.ico\", \"body\": \"Cell execution has finished!\"};\n",
       "                if (Notification.permission !== 'denied') {\n",
       "                    if (Notification.permission !== 'granted') { \n",
       "                        Notification.requestPermission(function (permission) {\n",
       "                            if(!('permission' in Notification)) {\n",
       "                                Notification.permission = permission\n",
       "                            }\n",
       "                        })\n",
       "                    }\n",
       "                    if (Notification.permission === 'granted') {\n",
       "                    var notification = new Notification(\"Jupyter Notebook\", notificationPayload)\n",
       "                    appendUniqueDiv()\n",
       "                    notification.onclick = function () {\n",
       "                        window.focus();\n",
       "                        this.close();\n",
       "                        };\n",
       "                    } \n",
       "                }     \n",
       "            }\n",
       "        }\n",
       "    }\n",
       ")\n"
      ],
      "text/plain": [
       "<IPython.core.display.Javascript object>"
      ]
     },
     "metadata": {},
     "output_type": "display_data"
    }
   ],
   "source": [
    "%%notify\n",
    "b.run('./data/benchmark/reg/boston.csv', task='reg', label='MEDV', grad_boost=GRADIENT)\n",
    "finish(b)"
   ]
  },
  {
   "cell_type": "code",
   "execution_count": null,
   "id": "beb35bae",
   "metadata": {},
   "outputs": [],
   "source": [
    "%%notify\n",
    "b.run('./data/benchmark/reg/tecator.csv', task='reg', label='fat', grad_boost=GRADIENT)\n",
    "finish(b) # hana_automl - 0.9932003960127456, APL - 0.9900203214204571"
   ]
  },
  {
   "cell_type": "code",
   "execution_count": 16,
   "id": "6088a956",
   "metadata": {},
   "outputs": [
    {
     "name": "stderr",
     "output_type": "stream",
     "text": [
      "100%|██████████| 1/1 [00:00<00:00,  1.58it/s]\n",
      "100%|██████████| 1/1 [00:00<00:00,  3.17it/s]\n"
     ]
    },
    {
     "name": "stdout",
     "output_type": "stream",
     "text": [
      "Finished in 8 seconds\n",
      "APL accuracy:  0.7045760787415289\n",
      "REMOVED ALL TABLES FROM DEVELOPER\n",
      "\u001b[32m[I 2021-06-16 17:07:48.965197] \u001b[36mA new bayesian optimization process created in memory\u001b[0m\n",
      "\u001b[33m \n",
      "\n",
      "Ensemble consists of: GradientBoostingRegressor, GradientBoostingRegressor, GradientBoostingRegressor\n",
      "Ensemble r2_score score: 0.6276758240475446\n",
      "\u001b[0m \n",
      "Finished in 783 seconds\n",
      "hana_automl accuracy: 0.6276758240475446\n",
      "REMOVED ALL TABLES FROM DEVELOPER\n"
     ]
    },
    {
     "data": {
      "application/javascript": [
       "$(document).ready(\n",
       "    function() {\n",
       "        function appendUniqueDiv(){\n",
       "            // append a div with our uuid so we can check that it's already\n",
       "            // been sent and avoid duplicates on page reload\n",
       "            var notifiedDiv = document.createElement(\"div\")\n",
       "            notifiedDiv.id = \"248100ca-3b8a-46db-83ef-19f9dc84a0c4\"\n",
       "            element.append(notifiedDiv)\n",
       "        }\n",
       "\n",
       "        // only send notifications if the pageload is complete; this will\n",
       "        // help stop extra notifications when a saved notebook is loaded,\n",
       "        // which during testing gives us state \"interactive\", not \"complete\"\n",
       "        if (document.readyState === 'complete') {\n",
       "            // check for the div that signifies that the notification\n",
       "            // was already sent\n",
       "            if (document.getElementById(\"248100ca-3b8a-46db-83ef-19f9dc84a0c4\") === null) {\n",
       "                var notificationPayload = {\"requireInteraction\": false, \"icon\": \"/static/base/images/favicon.ico\", \"body\": \"Cell execution has finished!\"};\n",
       "                if (Notification.permission !== 'denied') {\n",
       "                    if (Notification.permission !== 'granted') { \n",
       "                        Notification.requestPermission(function (permission) {\n",
       "                            if(!('permission' in Notification)) {\n",
       "                                Notification.permission = permission\n",
       "                            }\n",
       "                        })\n",
       "                    }\n",
       "                    if (Notification.permission === 'granted') {\n",
       "                    var notification = new Notification(\"Jupyter Notebook\", notificationPayload)\n",
       "                    appendUniqueDiv()\n",
       "                    notification.onclick = function () {\n",
       "                        window.focus();\n",
       "                        this.close();\n",
       "                        };\n",
       "                    } \n",
       "                }     \n",
       "            }\n",
       "        }\n",
       "    }\n",
       ")\n"
      ],
      "text/plain": [
       "<IPython.core.display.Javascript object>"
      ]
     },
     "metadata": {},
     "output_type": "display_data"
    }
   ],
   "source": [
    "%%notify\n",
    "b.run('./data/benchmark/reg/space_ga.csv', task='reg', label='ln(VOTES/POP)', grad_boost=GRADIENT)\n",
    "finish(b)"
   ]
  },
  {
   "cell_type": "code",
   "execution_count": 6,
   "id": "efea68c9",
   "metadata": {},
   "outputs": [
    {
     "name": "stderr",
     "output_type": "stream",
     "text": [
      "100%|██████████| 1/1 [00:11<00:00, 11.61s/it]\n",
      "100%|██████████| 1/1 [00:03<00:00,  3.55s/it]\n"
     ]
    },
    {
     "name": "stdout",
     "output_type": "stream",
     "text": [
      "Finished in 12 seconds\n",
      "APL accuracy:  0.9756879425836702\n",
      "REMOVED ALL TABLES FROM DEVELOPER\n",
      "\u001b[32m[I 2021-06-15 22:18:20.591905] \u001b[36mA new bayesian optimization process created in memory\u001b[0m\n",
      "\u001b[33m \n",
      "\n",
      "Ensemble consists of: HybridGradientBoostingRegressor, HybridGradientBoostingRegressor, GradientBoostingRegressor\n",
      "Ensemble r2_score score: 0.9914697452103169\n",
      "\u001b[0m \n",
      "Finished in 3332 seconds\n",
      "hana_automl accuracy: 0.9914697452103169\n",
      "REMOVED ALL TABLES FROM DEVELOPER\n"
     ]
    },
    {
     "data": {
      "application/javascript": [
       "$(document).ready(\n",
       "    function() {\n",
       "        function appendUniqueDiv(){\n",
       "            // append a div with our uuid so we can check that it's already\n",
       "            // been sent and avoid duplicates on page reload\n",
       "            var notifiedDiv = document.createElement(\"div\")\n",
       "            notifiedDiv.id = \"47c23be8-b124-483e-8435-d59c188dd436\"\n",
       "            element.append(notifiedDiv)\n",
       "        }\n",
       "\n",
       "        // only send notifications if the pageload is complete; this will\n",
       "        // help stop extra notifications when a saved notebook is loaded,\n",
       "        // which during testing gives us state \"interactive\", not \"complete\"\n",
       "        if (document.readyState === 'complete') {\n",
       "            // check for the div that signifies that the notification\n",
       "            // was already sent\n",
       "            if (document.getElementById(\"47c23be8-b124-483e-8435-d59c188dd436\") === null) {\n",
       "                var notificationPayload = {\"requireInteraction\": false, \"icon\": \"/static/base/images/favicon.ico\", \"body\": \"Cell execution has finished!\"};\n",
       "                if (Notification.permission !== 'denied') {\n",
       "                    if (Notification.permission !== 'granted') { \n",
       "                        Notification.requestPermission(function (permission) {\n",
       "                            if(!('permission' in Notification)) {\n",
       "                                Notification.permission = permission\n",
       "                            }\n",
       "                        })\n",
       "                    }\n",
       "                    if (Notification.permission === 'granted') {\n",
       "                    var notification = new Notification(\"Jupyter Notebook\", notificationPayload)\n",
       "                    appendUniqueDiv()\n",
       "                    notification.onclick = function () {\n",
       "                        window.focus();\n",
       "                        this.close();\n",
       "                        };\n",
       "                    } \n",
       "                }     \n",
       "            }\n",
       "        }\n",
       "    }\n",
       ")\n"
      ],
      "text/plain": [
       "<IPython.core.display.Javascript object>"
      ]
     },
     "metadata": {},
     "output_type": "display_data"
    }
   ],
   "source": [
    "%%notify\n",
    "b.run('./data/benchmark/reg/pol.csv', task='reg', label='foo', grad_boost=GRADIENT)\n",
    "finish(b)"
   ]
  },
  {
   "cell_type": "code",
   "execution_count": 9,
   "id": "d69a8608",
   "metadata": {},
   "outputs": [
    {
     "name": "stderr",
     "output_type": "stream",
     "text": [
      "100%|██████████| 1/1 [00:00<00:00,  2.40it/s]\n",
      "100%|██████████| 1/1 [00:00<00:00,  3.13it/s]\n"
     ]
    },
    {
     "name": "stdout",
     "output_type": "stream",
     "text": [
      "Finished in 10 seconds\n",
      "APL accuracy:  0.8162364498109816\n",
      "REMOVED ALL TABLES FROM DEVELOPER\n",
      "\u001b[32m[I 2021-06-15 17:37:02.855571] \u001b[36mA new bayesian optimization process created in memory\u001b[0m\n",
      "\u001b[33m \n",
      "\n",
      "Ensemble consists of: HybridGradientBoostingRegressor, GradientBoostingRegressor, GradientBoostingRegressor\n",
      "Ensemble r2_score score: 0.8629195161294358\n",
      "\u001b[0m \n",
      "Finished in 764 seconds\n",
      "hana_automl accuracy: 0.8629195161294358\n",
      "REMOVED ALL TABLES FROM DEVELOPER\n"
     ]
    },
    {
     "data": {
      "application/javascript": [
       "$(document).ready(\n",
       "    function() {\n",
       "        function appendUniqueDiv(){\n",
       "            // append a div with our uuid so we can check that it's already\n",
       "            // been sent and avoid duplicates on page reload\n",
       "            var notifiedDiv = document.createElement(\"div\")\n",
       "            notifiedDiv.id = \"ed133717-2cfa-41a2-91a3-1837b779c38c\"\n",
       "            element.append(notifiedDiv)\n",
       "        }\n",
       "\n",
       "        // only send notifications if the pageload is complete; this will\n",
       "        // help stop extra notifications when a saved notebook is loaded,\n",
       "        // which during testing gives us state \"interactive\", not \"complete\"\n",
       "        if (document.readyState === 'complete') {\n",
       "            // check for the div that signifies that the notification\n",
       "            // was already sent\n",
       "            if (document.getElementById(\"ed133717-2cfa-41a2-91a3-1837b779c38c\") === null) {\n",
       "                var notificationPayload = {\"requireInteraction\": false, \"icon\": \"/static/base/images/favicon.ico\", \"body\": \"Cell execution has finished!\"};\n",
       "                if (Notification.permission !== 'denied') {\n",
       "                    if (Notification.permission !== 'granted') { \n",
       "                        Notification.requestPermission(function (permission) {\n",
       "                            if(!('permission' in Notification)) {\n",
       "                                Notification.permission = permission\n",
       "                            }\n",
       "                        })\n",
       "                    }\n",
       "                    if (Notification.permission === 'granted') {\n",
       "                    var notification = new Notification(\"Jupyter Notebook\", notificationPayload)\n",
       "                    appendUniqueDiv()\n",
       "                    notification.onclick = function () {\n",
       "                        window.focus();\n",
       "                        this.close();\n",
       "                        };\n",
       "                    } \n",
       "                }     \n",
       "            }\n",
       "        }\n",
       "    }\n",
       ")\n"
      ],
      "text/plain": [
       "<IPython.core.display.Javascript object>"
      ]
     },
     "metadata": {},
     "output_type": "display_data"
    }
   ],
   "source": [
    "%%notify\n",
    "b.run('./data/benchmark/reg/socmob.csv', task='reg', label='counts_for_sons_current_occupation', categorical=['fathers_occupation','sons_occupation', 'family_structure', 'race'],grad_boost=GRADIENT)\n",
    "finish(b)"
   ]
  },
  {
   "cell_type": "code",
   "execution_count": null,
   "id": "fd68ac92",
   "metadata": {},
   "outputs": [],
   "source": [
    "apl_acc = [0.9294002825634781, 0.3099873396557854, 0.9396573145349141, 0.8448584138226907, 0.9900203214204571, 0.7045760787415289, 0.9756879425836702, 0.8162364498109816]\n",
    "hana_acc = [0.9345000820384756, 0.3352677618858584, 0.9187809116981492, 0.883268964633891, 0.9932003960127456, 0.6276758240475446, 0.9914697452103169, 0.8629195161294358]\n",
    "\n",
    "print('APL ACCURACY', apl_acc)\n",
    "print('AutoML ACCURACY', hana_acc)\n",
    "print(len(datasets), len(hana_acc), len(apl_acc))\n",
    "plot_results(task='Regression', boosting=True)"
   ]
  }
 ],
 "metadata": {
  "kernelspec": {
   "display_name": "venv",
   "language": "python",
   "name": "venv"
  },
  "language_info": {
   "codemirror_mode": {
    "name": "ipython",
    "version": 3
   },
   "file_extension": ".py",
   "mimetype": "text/x-python",
   "name": "python",
   "nbconvert_exporter": "python",
   "pygments_lexer": "ipython3",
   "version": "3.9.5"
  }
 },
 "nbformat": 4,
 "nbformat_minor": 5
}
