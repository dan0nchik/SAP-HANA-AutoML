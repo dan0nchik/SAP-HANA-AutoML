{
 "cells": [
  {
   "cell_type": "markdown",
   "id": "08491fde",
   "metadata": {},
   "source": [
    "# Comparison with APL library on OpenML benchmark datasets"
   ]
  },
  {
   "cell_type": "markdown",
   "id": "2a2f1c0e",
   "metadata": {},
   "source": [
    "In this notebook we will compare our library with official SAP HANA Automated Predictive Library (details here: https://help.sap.com/viewer/cb31bd99d09747089754a0ba75067ed2/2.5.0.0/en-US). In most cases, our library beats it in accuracy. However, there is always room for improvement. "
   ]
  },
  {
   "cell_type": "code",
   "execution_count": 9,
   "id": "dcb1f14b",
   "metadata": {},
   "outputs": [],
   "source": [
    "from hana_automl.utils.perfomance import Benchmark\n",
    "from hana_automl.utils.connection import connection_context\n",
    "import seaborn as sns\n",
    "import pandas as pd\n",
    "import numpy as np\n",
    "import matplotlib.pyplot as plt"
   ]
  },
  {
   "cell_type": "code",
   "execution_count": 10,
   "id": "e19d3aaa",
   "metadata": {
    "tags": [
     "hide-cell"
    ]
   },
   "outputs": [
    {
     "name": "stdout",
     "output_type": "stream",
     "text": [
      "Traceback (most recent call last):\r\n",
      "  File \"/Users/danonchik/dev/SAP-HANA-AutoML/hana_automl/utils/cleanup.py\", line 3, in <module>\r\n",
      "    from hana_automl.storage import table_exists\r\n",
      "ModuleNotFoundError: No module named 'hana_automl'\r\n"
     ]
    }
   ],
   "source": [
    "b = Benchmark(connection_context)\n",
    "GRADIENT = False\n",
    "apl_acc = []\n",
    "hana_acc = []\n",
    "datasets = ['kr-vs-kp.csv', 'australian.csv', 'phoneme.csv', 'adult.csv', 'blood.csv', 'higgs.csv', 'sylvine.csv', 'credit.csv', 'kc1.csv']\n",
    "df = pd.DataFrame()\n",
    "!python3 hana_automl/utils/cleanup.py\n",
    "\n",
    "def plot_results(task: str, boosting: bool):\n",
    "    df['APL'] = apl_acc\n",
    "    df['HANA AutoML'] = hana_acc\n",
    "    df['Dataset'] = datasets\n",
    "    x = np.arange(len(datasets))  # the label locations\n",
    "    width = 0.35  # the width of the bars\n",
    "\n",
    "    fig, ax = plt.subplots()\n",
    "    rects1 = ax.bar(x - width/2, apl_acc, width, label='APL')\n",
    "    rects2 = ax.bar(x + width/2, hana_acc, width, label='HANA AutoML')\n",
    "\n",
    "    # Add some text for labels, title and custom x-axis tick labels, etc.\n",
    "    ax.set_ylabel('Accuracy')\n",
    "    if boosting:\n",
    "        ax.set_title(f'{task} (APL with Gradient Boosting)')\n",
    "    else:\n",
    "        ax.set_title(f'{task} (APL without Gradient Boosting)')\n",
    "    \n",
    "    ax.set_xticks(x)\n",
    "    ax.set_xticklabels(datasets)\n",
    "    ax.legend()\n",
    "\n",
    "    ax.bar_label(rects1)\n",
    "    ax.bar_label(rects2)\n",
    "\n",
    "    plt.gcf().set_size_inches(10,5)\n",
    "    plt.show()\n"
   ]
  },
  {
   "cell_type": "markdown",
   "id": "3a930848",
   "metadata": {},
   "source": [
    "## Just APL, without Gradient Boosting enabled:\n",
    "Don't know what is Gradient Boosting? Check here: https://machinelearningmastery.com/gentle-introduction-gradient-boosting-algorithm-machine-learning/ . We are using special benchmark datasets from OpenML to compare model accuracy."
   ]
  },
  {
   "cell_type": "markdown",
   "id": "8812536f",
   "metadata": {},
   "source": [
    "## Classification"
   ]
  },
  {
   "cell_type": "code",
   "execution_count": 8,
   "id": "1a1acba7",
   "metadata": {
    "tags": [
     "hide-cell"
    ]
   },
   "outputs": [
    {
     "name": "stderr",
     "output_type": "stream",
     "text": [
      "100%|██████████| 1/1 [00:01<00:00,  1.46s/it]\n",
      "100%|██████████| 1/1 [00:00<00:00,  2.09it/s]\n"
     ]
    },
    {
     "name": "stdout",
     "output_type": "stream",
     "text": [
      "Finished in 6 seconds\n",
      "APL accuracy:  0.9395203336809176\n",
      "Recreating table BENCHMARK_AUTOML with data from dataframe\n"
     ]
    },
    {
     "name": "stderr",
     "output_type": "stream",
     "text": [
      "100%|██████████| 1/1 [00:00<00:00,  2.47it/s]\n"
     ]
    },
    {
     "name": "stdout",
     "output_type": "stream",
     "text": [
      "Done\n"
     ]
    },
    {
     "name": "stderr",
     "output_type": "stream",
     "text": [
      "\u001b[32m[I 2021-05-04 01:20:13,404]\u001b[0m A new study created in memory with name: no-name-4666e428-e0a7-4070-ac6c-f69be5590eba\u001b[0m\n"
     ]
    },
    {
     "name": "stdout",
     "output_type": "stream",
     "text": [
      "Task: cls\n"
     ]
    },
    {
     "name": "stderr",
     "output_type": "stream",
     "text": [
      "(256, 'sql processing error: \"DEVELOPER\".\"(DO statement)\": line 9 col 1 (at pos 1309): search table error: _SYS_AFL.AFLPAL:HGBTPREDICT_ANY: [102] (range 1) TypeMismatch exception: Column \\'age\\' does not exist')\n",
      "Traceback (most recent call last):\n",
      "  File \"/Users/danonchik/dev/SAP-HANA-AutoML/venv/lib/python3.9/site-packages/hana_ml/algorithms/pal/trees.py\", line 3769, in _predict\n",
      "    call_pal_auto(conn,\n",
      "  File \"/Users/danonchik/dev/SAP-HANA-AutoML/venv/lib/python3.9/site-packages/hana_ml/algorithms/pal/pal_base.py\", line 338, in call_pal_auto\n",
      "    if try_exec(cur, sql):\n",
      "  File \"/Users/danonchik/dev/SAP-HANA-AutoML/venv/lib/python3.9/site-packages/hana_ml/algorithms/pal/pal_base.py\", line 309, in try_exec\n",
      "    execute_logged(cur, sql, conn.sql_tracer) # SQLTRACE added sql_tracer\n",
      "  File \"/Users/danonchik/dev/SAP-HANA-AutoML/venv/lib/python3.9/site-packages/hana_ml/ml_base.py\", line 338, in execute_logged\n",
      "    cursor.execute(statement)\n",
      "hdbcli.dbapi.Error: (256, 'sql processing error: \"DEVELOPER\".\"(DO statement)\": line 9 col 1 (at pos 1309): search table error: _SYS_AFL.AFLPAL:HGBTPREDICT_ANY: [102] (range 1) TypeMismatch exception: Column \\'age\\' does not exist')\n",
      "\u001b[33m[W 2021-05-04 01:20:26,689]\u001b[0m Trial 0 failed because of the following error: Error(256, 'sql processing error: \"DEVELOPER\".\"(DO statement)\": line 9 col 1 (at pos 1309): search table error: _SYS_AFL.AFLPAL:HGBTPREDICT_ANY: [102] (range 1) TypeMismatch exception: Column \\'age\\' does not exist')\n",
      "Traceback (most recent call last):\n",
      "  File \"/Users/danonchik/dev/SAP-HANA-AutoML/venv/lib/python3.9/site-packages/optuna/_optimize.py\", line 217, in _run_trial\n",
      "    value_or_values = func(trial)\n",
      "  File \"/Users/danonchik/dev/SAP-HANA-AutoML/hana_automl/optimizers/optuna_optimizer.py\", line 138, in objective\n",
      "    acc = algo.score(data=data, df=data.test)\n",
      "  File \"/Users/danonchik/dev/SAP-HANA-AutoML/hana_automl/algorithms/base_algo.py\", line 23, in score\n",
      "    return self.model.score(df, key=data.id_colm, label=data.target)\n",
      "  File \"/Users/danonchik/dev/SAP-HANA-AutoML/venv/lib/python3.9/site-packages/hana_ml/algorithms/pal/trees.py\", line 4372, in score\n",
      "    prediction = self.predict(data=data, key=key, features=features,\n",
      "  File \"/Users/danonchik/dev/SAP-HANA-AutoML/venv/lib/python3.9/site-packages/hana_ml/algorithms/pal/trees.py\", line 4302, in predict\n",
      "    return super(HybridGradientBoostingClassifier, self)._predict(\n",
      "  File \"/Users/danonchik/dev/SAP-HANA-AutoML/venv/lib/python3.9/site-packages/hana_ml/algorithms/pal/sqlgen.py\", line 318, in function_with_sql_tracing\n",
      "    return func(*args, **kwargs)\n",
      "  File \"/Users/danonchik/dev/SAP-HANA-AutoML/venv/lib/python3.9/site-packages/hana_ml/algorithms/pal/trees.py\", line 3769, in _predict\n",
      "    call_pal_auto(conn,\n",
      "  File \"/Users/danonchik/dev/SAP-HANA-AutoML/venv/lib/python3.9/site-packages/hana_ml/algorithms/pal/pal_base.py\", line 338, in call_pal_auto\n",
      "    if try_exec(cur, sql):\n",
      "  File \"/Users/danonchik/dev/SAP-HANA-AutoML/venv/lib/python3.9/site-packages/hana_ml/algorithms/pal/pal_base.py\", line 309, in try_exec\n",
      "    execute_logged(cur, sql, conn.sql_tracer) # SQLTRACE added sql_tracer\n",
      "  File \"/Users/danonchik/dev/SAP-HANA-AutoML/venv/lib/python3.9/site-packages/hana_ml/ml_base.py\", line 338, in execute_logged\n",
      "    cursor.execute(statement)\n",
      "hdbcli.dbapi.Error: (256, 'sql processing error: \"DEVELOPER\".\"(DO statement)\": line 9 col 1 (at pos 1309): search table error: _SYS_AFL.AFLPAL:HGBTPREDICT_ANY: [102] (range 1) TypeMismatch exception: Column \\'age\\' does not exist')\u001b[0m\n"
     ]
    },
    {
     "ename": "Error",
     "evalue": "(256, 'sql processing error: \"DEVELOPER\".\"(DO statement)\": line 9 col 1 (at pos 1309): search table error: _SYS_AFL.AFLPAL:HGBTPREDICT_ANY: [102] (range 1) TypeMismatch exception: Column \\'age\\' does not exist')",
     "output_type": "error",
     "traceback": [
      "\u001b[0;31m---------------------------------------------------------------------------\u001b[0m",
      "\u001b[0;31mError\u001b[0m                                     Traceback (most recent call last)",
      "\u001b[0;32m<ipython-input-8-889a5d0e823f>\u001b[0m in \u001b[0;36m<module>\u001b[0;34m\u001b[0m\n\u001b[0;32m----> 1\u001b[0;31m \u001b[0mb\u001b[0m\u001b[0;34m.\u001b[0m\u001b[0mrun\u001b[0m\u001b[0;34m(\u001b[0m\u001b[0;34m'./data/benchmark/cls/kr-vs-kp.csv'\u001b[0m\u001b[0;34m,\u001b[0m \u001b[0mtask\u001b[0m\u001b[0;34m=\u001b[0m\u001b[0;34m'cls'\u001b[0m\u001b[0;34m,\u001b[0m \u001b[0mlabel\u001b[0m\u001b[0;34m=\u001b[0m\u001b[0;34m'class'\u001b[0m\u001b[0;34m,\u001b[0m \u001b[0mcategorical\u001b[0m\u001b[0;34m=\u001b[0m\u001b[0;34m[\u001b[0m\u001b[0;34m'class'\u001b[0m\u001b[0;34m]\u001b[0m\u001b[0;34m,\u001b[0m \u001b[0mgrad_boost\u001b[0m\u001b[0;34m=\u001b[0m\u001b[0mGRADIENT\u001b[0m\u001b[0;34m)\u001b[0m\u001b[0;34m\u001b[0m\u001b[0;34m\u001b[0m\u001b[0m\n\u001b[0m\u001b[1;32m      2\u001b[0m \u001b[0mapl_acc\u001b[0m\u001b[0;34m.\u001b[0m\u001b[0mappend\u001b[0m\u001b[0;34m(\u001b[0m\u001b[0mb\u001b[0m\u001b[0;34m.\u001b[0m\u001b[0mapl_accuracy\u001b[0m\u001b[0;34m)\u001b[0m\u001b[0;34m\u001b[0m\u001b[0;34m\u001b[0m\u001b[0m\n\u001b[1;32m      3\u001b[0m \u001b[0mhana_acc\u001b[0m\u001b[0;34m.\u001b[0m\u001b[0mappend\u001b[0m\u001b[0;34m(\u001b[0m\u001b[0mb\u001b[0m\u001b[0;34m.\u001b[0m\u001b[0mautoml_accuracy\u001b[0m\u001b[0;34m)\u001b[0m\u001b[0;34m\u001b[0m\u001b[0;34m\u001b[0m\u001b[0m\n\u001b[1;32m      4\u001b[0m \u001b[0mget_ipython\u001b[0m\u001b[0;34m(\u001b[0m\u001b[0;34m)\u001b[0m\u001b[0;34m.\u001b[0m\u001b[0msystem\u001b[0m\u001b[0;34m(\u001b[0m\u001b[0;34m'python3 hana_automl/utils/cleanup.py'\u001b[0m\u001b[0;34m)\u001b[0m\u001b[0;34m\u001b[0m\u001b[0;34m\u001b[0m\u001b[0m\n\u001b[1;32m      5\u001b[0m \u001b[0;34m\u001b[0m\u001b[0m\n",
      "\u001b[0;32m~/dev/SAP-HANA-AutoML/hana_automl/utils/perfomance.py\u001b[0m in \u001b[0;36mrun\u001b[0;34m(self, dataset, task, grad_boost, label, id_column, categorical)\u001b[0m\n\u001b[1;32m     86\u001b[0m \u001b[0;34m\u001b[0m\u001b[0m\n\u001b[1;32m     87\u001b[0m         \u001b[0mstart_time\u001b[0m \u001b[0;34m=\u001b[0m \u001b[0mtime\u001b[0m\u001b[0;34m.\u001b[0m\u001b[0mtime\u001b[0m\u001b[0;34m(\u001b[0m\u001b[0;34m)\u001b[0m\u001b[0;34m\u001b[0m\u001b[0;34m\u001b[0m\u001b[0m\n\u001b[0;32m---> 88\u001b[0;31m         self.automl_model.fit(\n\u001b[0m\u001b[1;32m     89\u001b[0m             \u001b[0mtrain\u001b[0m\u001b[0;34m,\u001b[0m\u001b[0;34m\u001b[0m\u001b[0;34m\u001b[0m\u001b[0m\n\u001b[1;32m     90\u001b[0m             \u001b[0msteps\u001b[0m\u001b[0;34m=\u001b[0m\u001b[0;36m15\u001b[0m\u001b[0;34m,\u001b[0m\u001b[0;34m\u001b[0m\u001b[0;34m\u001b[0m\u001b[0m\n",
      "\u001b[0;32m~/dev/SAP-HANA-AutoML/hana_automl/automl.py\u001b[0m in \u001b[0;36mfit\u001b[0;34m(self, df, task, steps, target, file_path, table_name, columns_to_remove, categorical_features, id_column, optimizer, time_limit, ensemble, output_leaderboard)\u001b[0m\n\u001b[1;32m    121\u001b[0m             \u001b[0mdata\u001b[0m\u001b[0;34m.\u001b[0m\u001b[0mdrop\u001b[0m\u001b[0;34m(\u001b[0m\u001b[0mdroplist_columns\u001b[0m\u001b[0;34m=\u001b[0m\u001b[0mcolumns_to_remove\u001b[0m\u001b[0;34m)\u001b[0m\u001b[0;34m\u001b[0m\u001b[0;34m\u001b[0m\u001b[0m\n\u001b[1;32m    122\u001b[0m         \u001b[0mpipe\u001b[0m \u001b[0;34m=\u001b[0m \u001b[0mPipeline\u001b[0m\u001b[0;34m(\u001b[0m\u001b[0mdata\u001b[0m\u001b[0;34m=\u001b[0m\u001b[0mdata\u001b[0m\u001b[0;34m,\u001b[0m \u001b[0msteps\u001b[0m\u001b[0;34m=\u001b[0m\u001b[0msteps\u001b[0m\u001b[0;34m,\u001b[0m \u001b[0mtask\u001b[0m\u001b[0;34m=\u001b[0m\u001b[0mtask\u001b[0m\u001b[0;34m,\u001b[0m \u001b[0mtime_limit\u001b[0m\u001b[0;34m=\u001b[0m\u001b[0mtime_limit\u001b[0m\u001b[0;34m)\u001b[0m\u001b[0;34m\u001b[0m\u001b[0;34m\u001b[0m\u001b[0m\n\u001b[0;32m--> 123\u001b[0;31m         self.opt = pipe.train(\n\u001b[0m\u001b[1;32m    124\u001b[0m             \u001b[0mcategorical_features\u001b[0m\u001b[0;34m=\u001b[0m\u001b[0mcategorical_features\u001b[0m\u001b[0;34m,\u001b[0m \u001b[0moptimizer\u001b[0m\u001b[0;34m=\u001b[0m\u001b[0moptimizer\u001b[0m\u001b[0;34m\u001b[0m\u001b[0;34m\u001b[0m\u001b[0m\n\u001b[1;32m    125\u001b[0m         )\n",
      "\u001b[0;32m~/dev/SAP-HANA-AutoML/hana_automl/pipeline/pipeline.py\u001b[0m in \u001b[0;36mtrain\u001b[0;34m(self, categorical_features, optimizer)\u001b[0m\n\u001b[1;32m     72\u001b[0m         \u001b[0;32melse\u001b[0m\u001b[0;34m:\u001b[0m\u001b[0;34m\u001b[0m\u001b[0;34m\u001b[0m\u001b[0m\n\u001b[1;32m     73\u001b[0m             \u001b[0;32mraise\u001b[0m \u001b[0mPipelineError\u001b[0m\u001b[0;34m(\u001b[0m\u001b[0;34m\"Optimizer not found!\"\u001b[0m\u001b[0;34m)\u001b[0m\u001b[0;34m\u001b[0m\u001b[0;34m\u001b[0m\u001b[0m\n\u001b[0;32m---> 74\u001b[0;31m         \u001b[0mself\u001b[0m\u001b[0;34m.\u001b[0m\u001b[0mopt\u001b[0m\u001b[0;34m.\u001b[0m\u001b[0mtune\u001b[0m\u001b[0;34m(\u001b[0m\u001b[0;34m)\u001b[0m\u001b[0;34m\u001b[0m\u001b[0;34m\u001b[0m\u001b[0m\n\u001b[0m\u001b[1;32m     75\u001b[0m         \u001b[0mtime\u001b[0m\u001b[0;34m.\u001b[0m\u001b[0msleep\u001b[0m\u001b[0;34m(\u001b[0m\u001b[0;36m1\u001b[0m\u001b[0;34m)\u001b[0m\u001b[0;34m\u001b[0m\u001b[0;34m\u001b[0m\u001b[0m\n\u001b[1;32m     76\u001b[0m         \u001b[0;32mreturn\u001b[0m \u001b[0mself\u001b[0m\u001b[0;34m.\u001b[0m\u001b[0mopt\u001b[0m\u001b[0;34m\u001b[0m\u001b[0;34m\u001b[0m\u001b[0m\n",
      "\u001b[0;32m~/dev/SAP-HANA-AutoML/hana_automl/optimizers/optuna_optimizer.py\u001b[0m in \u001b[0;36mtune\u001b[0;34m(self)\u001b[0m\n\u001b[1;32m     72\u001b[0m             \u001b[0mopt\u001b[0m\u001b[0;34m.\u001b[0m\u001b[0moptimize\u001b[0m\u001b[0;34m(\u001b[0m\u001b[0mself\u001b[0m\u001b[0;34m.\u001b[0m\u001b[0mobjective\u001b[0m\u001b[0;34m,\u001b[0m \u001b[0mtimeout\u001b[0m\u001b[0;34m=\u001b[0m\u001b[0mself\u001b[0m\u001b[0;34m.\u001b[0m\u001b[0mtime_limit\u001b[0m\u001b[0;34m)\u001b[0m\u001b[0;34m\u001b[0m\u001b[0;34m\u001b[0m\u001b[0m\n\u001b[1;32m     73\u001b[0m         \u001b[0;32melse\u001b[0m\u001b[0;34m:\u001b[0m\u001b[0;34m\u001b[0m\u001b[0;34m\u001b[0m\u001b[0m\n\u001b[0;32m---> 74\u001b[0;31m             \u001b[0mopt\u001b[0m\u001b[0;34m.\u001b[0m\u001b[0moptimize\u001b[0m\u001b[0;34m(\u001b[0m\u001b[0mself\u001b[0m\u001b[0;34m.\u001b[0m\u001b[0mobjective\u001b[0m\u001b[0;34m,\u001b[0m \u001b[0mn_trials\u001b[0m\u001b[0;34m=\u001b[0m\u001b[0mself\u001b[0m\u001b[0;34m.\u001b[0m\u001b[0miterations\u001b[0m\u001b[0;34m)\u001b[0m\u001b[0;34m\u001b[0m\u001b[0;34m\u001b[0m\u001b[0m\n\u001b[0m\u001b[1;32m     75\u001b[0m         \u001b[0mtime\u001b[0m\u001b[0;34m.\u001b[0m\u001b[0msleep\u001b[0m\u001b[0;34m(\u001b[0m\u001b[0;36m2\u001b[0m\u001b[0;34m)\u001b[0m\u001b[0;34m\u001b[0m\u001b[0;34m\u001b[0m\u001b[0m\n\u001b[1;32m     76\u001b[0m         \u001b[0mself\u001b[0m\u001b[0;34m.\u001b[0m\u001b[0mtuned_params\u001b[0m \u001b[0;34m=\u001b[0m \u001b[0mopt\u001b[0m\u001b[0;34m.\u001b[0m\u001b[0mbest_params\u001b[0m\u001b[0;34m\u001b[0m\u001b[0;34m\u001b[0m\u001b[0m\n",
      "\u001b[0;32m~/dev/SAP-HANA-AutoML/venv/lib/python3.9/site-packages/optuna/study.py\u001b[0m in \u001b[0;36moptimize\u001b[0;34m(self, func, n_trials, timeout, n_jobs, catch, callbacks, gc_after_trial, show_progress_bar)\u001b[0m\n\u001b[1;32m    398\u001b[0m             )\n\u001b[1;32m    399\u001b[0m \u001b[0;34m\u001b[0m\u001b[0m\n\u001b[0;32m--> 400\u001b[0;31m         _optimize(\n\u001b[0m\u001b[1;32m    401\u001b[0m             \u001b[0mstudy\u001b[0m\u001b[0;34m=\u001b[0m\u001b[0mself\u001b[0m\u001b[0;34m,\u001b[0m\u001b[0;34m\u001b[0m\u001b[0;34m\u001b[0m\u001b[0m\n\u001b[1;32m    402\u001b[0m             \u001b[0mfunc\u001b[0m\u001b[0;34m=\u001b[0m\u001b[0mfunc\u001b[0m\u001b[0;34m,\u001b[0m\u001b[0;34m\u001b[0m\u001b[0;34m\u001b[0m\u001b[0m\n",
      "\u001b[0;32m~/dev/SAP-HANA-AutoML/venv/lib/python3.9/site-packages/optuna/_optimize.py\u001b[0m in \u001b[0;36m_optimize\u001b[0;34m(study, func, n_trials, timeout, n_jobs, catch, callbacks, gc_after_trial, show_progress_bar)\u001b[0m\n\u001b[1;32m     64\u001b[0m     \u001b[0;32mtry\u001b[0m\u001b[0;34m:\u001b[0m\u001b[0;34m\u001b[0m\u001b[0;34m\u001b[0m\u001b[0m\n\u001b[1;32m     65\u001b[0m         \u001b[0;32mif\u001b[0m \u001b[0mn_jobs\u001b[0m \u001b[0;34m==\u001b[0m \u001b[0;36m1\u001b[0m\u001b[0;34m:\u001b[0m\u001b[0;34m\u001b[0m\u001b[0;34m\u001b[0m\u001b[0m\n\u001b[0;32m---> 66\u001b[0;31m             _optimize_sequential(\n\u001b[0m\u001b[1;32m     67\u001b[0m                 \u001b[0mstudy\u001b[0m\u001b[0;34m,\u001b[0m\u001b[0;34m\u001b[0m\u001b[0;34m\u001b[0m\u001b[0m\n\u001b[1;32m     68\u001b[0m                 \u001b[0mfunc\u001b[0m\u001b[0;34m,\u001b[0m\u001b[0;34m\u001b[0m\u001b[0;34m\u001b[0m\u001b[0m\n",
      "\u001b[0;32m~/dev/SAP-HANA-AutoML/venv/lib/python3.9/site-packages/optuna/_optimize.py\u001b[0m in \u001b[0;36m_optimize_sequential\u001b[0;34m(study, func, n_trials, timeout, catch, callbacks, gc_after_trial, reseed_sampler_rng, time_start, progress_bar)\u001b[0m\n\u001b[1;32m    161\u001b[0m \u001b[0;34m\u001b[0m\u001b[0m\n\u001b[1;32m    162\u001b[0m         \u001b[0;32mtry\u001b[0m\u001b[0;34m:\u001b[0m\u001b[0;34m\u001b[0m\u001b[0;34m\u001b[0m\u001b[0m\n\u001b[0;32m--> 163\u001b[0;31m             \u001b[0mtrial\u001b[0m \u001b[0;34m=\u001b[0m \u001b[0m_run_trial\u001b[0m\u001b[0;34m(\u001b[0m\u001b[0mstudy\u001b[0m\u001b[0;34m,\u001b[0m \u001b[0mfunc\u001b[0m\u001b[0;34m,\u001b[0m \u001b[0mcatch\u001b[0m\u001b[0;34m)\u001b[0m\u001b[0;34m\u001b[0m\u001b[0;34m\u001b[0m\u001b[0m\n\u001b[0m\u001b[1;32m    164\u001b[0m         \u001b[0;32mexcept\u001b[0m \u001b[0mException\u001b[0m\u001b[0;34m:\u001b[0m\u001b[0;34m\u001b[0m\u001b[0;34m\u001b[0m\u001b[0m\n\u001b[1;32m    165\u001b[0m             \u001b[0;32mraise\u001b[0m\u001b[0;34m\u001b[0m\u001b[0;34m\u001b[0m\u001b[0m\n",
      "\u001b[0;32m~/dev/SAP-HANA-AutoML/venv/lib/python3.9/site-packages/optuna/_optimize.py\u001b[0m in \u001b[0;36m_run_trial\u001b[0;34m(study, func, catch)\u001b[0m\n\u001b[1;32m    266\u001b[0m \u001b[0;34m\u001b[0m\u001b[0m\n\u001b[1;32m    267\u001b[0m     \u001b[0;32mif\u001b[0m \u001b[0mstate\u001b[0m \u001b[0;34m==\u001b[0m \u001b[0mTrialState\u001b[0m\u001b[0;34m.\u001b[0m\u001b[0mFAIL\u001b[0m \u001b[0;32mand\u001b[0m \u001b[0mfunc_err\u001b[0m \u001b[0;32mis\u001b[0m \u001b[0;32mnot\u001b[0m \u001b[0;32mNone\u001b[0m \u001b[0;32mand\u001b[0m \u001b[0;32mnot\u001b[0m \u001b[0misinstance\u001b[0m\u001b[0;34m(\u001b[0m\u001b[0mfunc_err\u001b[0m\u001b[0;34m,\u001b[0m \u001b[0mcatch\u001b[0m\u001b[0;34m)\u001b[0m\u001b[0;34m:\u001b[0m\u001b[0;34m\u001b[0m\u001b[0;34m\u001b[0m\u001b[0m\n\u001b[0;32m--> 268\u001b[0;31m         \u001b[0;32mraise\u001b[0m \u001b[0mfunc_err\u001b[0m\u001b[0;34m\u001b[0m\u001b[0;34m\u001b[0m\u001b[0m\n\u001b[0m\u001b[1;32m    269\u001b[0m     \u001b[0;32mreturn\u001b[0m \u001b[0mtrial\u001b[0m\u001b[0;34m\u001b[0m\u001b[0;34m\u001b[0m\u001b[0m\n\u001b[1;32m    270\u001b[0m \u001b[0;34m\u001b[0m\u001b[0m\n",
      "\u001b[0;32m~/dev/SAP-HANA-AutoML/venv/lib/python3.9/site-packages/optuna/_optimize.py\u001b[0m in \u001b[0;36m_run_trial\u001b[0;34m(study, func, catch)\u001b[0m\n\u001b[1;32m    215\u001b[0m \u001b[0;34m\u001b[0m\u001b[0m\n\u001b[1;32m    216\u001b[0m     \u001b[0;32mtry\u001b[0m\u001b[0;34m:\u001b[0m\u001b[0;34m\u001b[0m\u001b[0;34m\u001b[0m\u001b[0m\n\u001b[0;32m--> 217\u001b[0;31m         \u001b[0mvalue_or_values\u001b[0m \u001b[0;34m=\u001b[0m \u001b[0mfunc\u001b[0m\u001b[0;34m(\u001b[0m\u001b[0mtrial\u001b[0m\u001b[0;34m)\u001b[0m\u001b[0;34m\u001b[0m\u001b[0;34m\u001b[0m\u001b[0m\n\u001b[0m\u001b[1;32m    218\u001b[0m     \u001b[0;32mexcept\u001b[0m \u001b[0mexceptions\u001b[0m\u001b[0;34m.\u001b[0m\u001b[0mTrialPruned\u001b[0m \u001b[0;32mas\u001b[0m \u001b[0me\u001b[0m\u001b[0;34m:\u001b[0m\u001b[0;34m\u001b[0m\u001b[0;34m\u001b[0m\u001b[0m\n\u001b[1;32m    219\u001b[0m         \u001b[0;31m# TODO(mamu): Handle multi-objective cases.\u001b[0m\u001b[0;34m\u001b[0m\u001b[0;34m\u001b[0m\u001b[0;34m\u001b[0m\u001b[0m\n",
      "\u001b[0;32m~/dev/SAP-HANA-AutoML/hana_automl/optimizers/optuna_optimizer.py\u001b[0m in \u001b[0;36mobjective\u001b[0;34m(self, trial)\u001b[0m\n\u001b[1;32m    136\u001b[0m         \u001b[0malgo\u001b[0m\u001b[0;34m.\u001b[0m\u001b[0moptunatune\u001b[0m\u001b[0;34m(\u001b[0m\u001b[0mtrial\u001b[0m\u001b[0;34m)\u001b[0m\u001b[0;34m\u001b[0m\u001b[0;34m\u001b[0m\u001b[0m\n\u001b[1;32m    137\u001b[0m         \u001b[0mself\u001b[0m\u001b[0;34m.\u001b[0m\u001b[0mfit\u001b[0m\u001b[0;34m(\u001b[0m\u001b[0malgo\u001b[0m\u001b[0;34m,\u001b[0m \u001b[0mdata\u001b[0m\u001b[0;34m)\u001b[0m\u001b[0;34m\u001b[0m\u001b[0;34m\u001b[0m\u001b[0m\n\u001b[0;32m--> 138\u001b[0;31m         \u001b[0macc\u001b[0m \u001b[0;34m=\u001b[0m \u001b[0malgo\u001b[0m\u001b[0;34m.\u001b[0m\u001b[0mscore\u001b[0m\u001b[0;34m(\u001b[0m\u001b[0mdata\u001b[0m\u001b[0;34m=\u001b[0m\u001b[0mdata\u001b[0m\u001b[0;34m,\u001b[0m \u001b[0mdf\u001b[0m\u001b[0;34m=\u001b[0m\u001b[0mdata\u001b[0m\u001b[0;34m.\u001b[0m\u001b[0mtest\u001b[0m\u001b[0;34m)\u001b[0m\u001b[0;34m\u001b[0m\u001b[0;34m\u001b[0m\u001b[0m\n\u001b[0m\u001b[1;32m    139\u001b[0m         \u001b[0mself\u001b[0m\u001b[0;34m.\u001b[0m\u001b[0mleaderboard\u001b[0m\u001b[0;34m.\u001b[0m\u001b[0maddmodel\u001b[0m\u001b[0;34m(\u001b[0m\u001b[0mModelBoard\u001b[0m\u001b[0;34m(\u001b[0m\u001b[0malgo\u001b[0m\u001b[0;34m,\u001b[0m \u001b[0macc\u001b[0m\u001b[0;34m,\u001b[0m \u001b[0mself\u001b[0m\u001b[0;34m.\u001b[0m\u001b[0mimputer\u001b[0m\u001b[0;34m)\u001b[0m\u001b[0;34m)\u001b[0m\u001b[0;34m\u001b[0m\u001b[0;34m\u001b[0m\u001b[0m\n\u001b[1;32m    140\u001b[0m         \u001b[0;32mreturn\u001b[0m \u001b[0macc\u001b[0m\u001b[0;34m\u001b[0m\u001b[0;34m\u001b[0m\u001b[0m\n",
      "\u001b[0;32m~/dev/SAP-HANA-AutoML/hana_automl/algorithms/base_algo.py\u001b[0m in \u001b[0;36mscore\u001b[0;34m(self, data, df)\u001b[0m\n\u001b[1;32m     21\u001b[0m \u001b[0;34m\u001b[0m\u001b[0m\n\u001b[1;32m     22\u001b[0m     \u001b[0;32mdef\u001b[0m \u001b[0mscore\u001b[0m\u001b[0;34m(\u001b[0m\u001b[0mself\u001b[0m\u001b[0;34m,\u001b[0m \u001b[0mdata\u001b[0m\u001b[0;34m,\u001b[0m \u001b[0mdf\u001b[0m\u001b[0;34m)\u001b[0m\u001b[0;34m:\u001b[0m\u001b[0;34m\u001b[0m\u001b[0;34m\u001b[0m\u001b[0m\n\u001b[0;32m---> 23\u001b[0;31m         \u001b[0;32mreturn\u001b[0m \u001b[0mself\u001b[0m\u001b[0;34m.\u001b[0m\u001b[0mmodel\u001b[0m\u001b[0;34m.\u001b[0m\u001b[0mscore\u001b[0m\u001b[0;34m(\u001b[0m\u001b[0mdf\u001b[0m\u001b[0;34m,\u001b[0m \u001b[0mkey\u001b[0m\u001b[0;34m=\u001b[0m\u001b[0mdata\u001b[0m\u001b[0;34m.\u001b[0m\u001b[0mid_colm\u001b[0m\u001b[0;34m,\u001b[0m \u001b[0mlabel\u001b[0m\u001b[0;34m=\u001b[0m\u001b[0mdata\u001b[0m\u001b[0;34m.\u001b[0m\u001b[0mtarget\u001b[0m\u001b[0;34m)\u001b[0m\u001b[0;34m\u001b[0m\u001b[0;34m\u001b[0m\u001b[0m\n\u001b[0m\u001b[1;32m     24\u001b[0m \u001b[0;34m\u001b[0m\u001b[0m\n\u001b[1;32m     25\u001b[0m     \u001b[0;32mdef\u001b[0m \u001b[0mset_categ\u001b[0m\u001b[0;34m(\u001b[0m\u001b[0mself\u001b[0m\u001b[0;34m,\u001b[0m \u001b[0mcat\u001b[0m\u001b[0;34m)\u001b[0m\u001b[0;34m:\u001b[0m\u001b[0;34m\u001b[0m\u001b[0;34m\u001b[0m\u001b[0m\n",
      "\u001b[0;32m~/dev/SAP-HANA-AutoML/venv/lib/python3.9/site-packages/hana_ml/algorithms/pal/trees.py\u001b[0m in \u001b[0;36mscore\u001b[0;34m(self, data, key, features, label, missing_replacement)\u001b[0m\n\u001b[1;32m   4370\u001b[0m             \u001b[0mfeatures\u001b[0m \u001b[0;34m=\u001b[0m \u001b[0mcols\u001b[0m\u001b[0;34m\u001b[0m\u001b[0;34m\u001b[0m\u001b[0m\n\u001b[1;32m   4371\u001b[0m \u001b[0;34m\u001b[0m\u001b[0m\n\u001b[0;32m-> 4372\u001b[0;31m         prediction = self.predict(data=data, key=key, features=features,\n\u001b[0m\u001b[1;32m   4373\u001b[0m                                   missing_replacement=missing_replacement)\n\u001b[1;32m   4374\u001b[0m         \u001b[0mprediction\u001b[0m \u001b[0;34m=\u001b[0m \u001b[0mprediction\u001b[0m\u001b[0;34m.\u001b[0m\u001b[0mselect\u001b[0m\u001b[0;34m(\u001b[0m\u001b[0mkey\u001b[0m\u001b[0;34m,\u001b[0m \u001b[0;34m'SCORE'\u001b[0m\u001b[0;34m)\u001b[0m\u001b[0;34m.\u001b[0m\u001b[0mrename_columns\u001b[0m\u001b[0;34m(\u001b[0m\u001b[0;34m[\u001b[0m\u001b[0;34m'ID_P'\u001b[0m\u001b[0;34m,\u001b[0m \u001b[0;34m'PREDICTION'\u001b[0m\u001b[0;34m]\u001b[0m\u001b[0;34m)\u001b[0m\u001b[0;34m\u001b[0m\u001b[0;34m\u001b[0m\u001b[0m\n",
      "\u001b[0;32m~/dev/SAP-HANA-AutoML/venv/lib/python3.9/site-packages/hana_ml/algorithms/pal/trees.py\u001b[0m in \u001b[0;36mpredict\u001b[0;34m(self, data, key, features, verbose, thread_ratio, missing_replacement)\u001b[0m\n\u001b[1;32m   4300\u001b[0m                 \u001b[0ma\u001b[0m \u001b[0;32mclass\u001b[0m \u001b[0mlabel\u001b[0m \u001b[0massignment\u001b[0m\u001b[0;34m.\u001b[0m\u001b[0;34m\u001b[0m\u001b[0;34m\u001b[0m\u001b[0m\n\u001b[1;32m   4301\u001b[0m         \"\"\"\n\u001b[0;32m-> 4302\u001b[0;31m         return super(HybridGradientBoostingClassifier, self)._predict(\n\u001b[0m\u001b[1;32m   4303\u001b[0m             \u001b[0mdata\u001b[0m\u001b[0;34m=\u001b[0m\u001b[0mdata\u001b[0m\u001b[0;34m,\u001b[0m \u001b[0mkey\u001b[0m\u001b[0;34m=\u001b[0m\u001b[0mkey\u001b[0m\u001b[0;34m,\u001b[0m \u001b[0mfeatures\u001b[0m\u001b[0;34m=\u001b[0m\u001b[0mfeatures\u001b[0m\u001b[0;34m,\u001b[0m \u001b[0mverbose\u001b[0m\u001b[0;34m=\u001b[0m\u001b[0mverbose\u001b[0m\u001b[0;34m,\u001b[0m\u001b[0;34m\u001b[0m\u001b[0;34m\u001b[0m\u001b[0m\n\u001b[1;32m   4304\u001b[0m             thread_ratio=thread_ratio, missing_replacement=missing_replacement)\n",
      "\u001b[0;32m~/dev/SAP-HANA-AutoML/venv/lib/python3.9/site-packages/hana_ml/algorithms/pal/sqlgen.py\u001b[0m in \u001b[0;36mfunction_with_sql_tracing\u001b[0;34m(*args, **kwargs)\u001b[0m\n\u001b[1;32m    316\u001b[0m                 \u001b[0mconn\u001b[0m \u001b[0;34m=\u001b[0m \u001b[0mkwargs\u001b[0m\u001b[0;34m.\u001b[0m\u001b[0mget\u001b[0m\u001b[0;34m(\u001b[0m\u001b[0;34m'data'\u001b[0m\u001b[0;34m)\u001b[0m\u001b[0;34m.\u001b[0m\u001b[0mconnection_context\u001b[0m\u001b[0;34m\u001b[0m\u001b[0;34m\u001b[0m\u001b[0m\n\u001b[1;32m    317\u001b[0m         \u001b[0mconn\u001b[0m\u001b[0;34m.\u001b[0m\u001b[0msql_tracer\u001b[0m\u001b[0;34m.\u001b[0m\u001b[0mset_sql_trace\u001b[0m\u001b[0;34m(\u001b[0m\u001b[0margs\u001b[0m\u001b[0;34m[\u001b[0m\u001b[0;36m0\u001b[0m\u001b[0;34m]\u001b[0m\u001b[0;34m,\u001b[0m \u001b[0margs\u001b[0m\u001b[0;34m[\u001b[0m\u001b[0;36m0\u001b[0m\u001b[0;34m]\u001b[0m\u001b[0;34m.\u001b[0m\u001b[0m__class__\u001b[0m\u001b[0;34m.\u001b[0m\u001b[0m__name__\u001b[0m\u001b[0;34m,\u001b[0m \u001b[0mfunc\u001b[0m\u001b[0;34m.\u001b[0m\u001b[0m__name__\u001b[0m\u001b[0;34m.\u001b[0m\u001b[0mlower\u001b[0m\u001b[0;34m(\u001b[0m\u001b[0;34m)\u001b[0m\u001b[0;34m.\u001b[0m\u001b[0mreplace\u001b[0m\u001b[0;34m(\u001b[0m\u001b[0;34m'_'\u001b[0m\u001b[0;34m,\u001b[0m \u001b[0;34m''\u001b[0m\u001b[0;34m)\u001b[0m\u001b[0;34m)\u001b[0m\u001b[0;34m\u001b[0m\u001b[0;34m\u001b[0m\u001b[0m\n\u001b[0;32m--> 318\u001b[0;31m         \u001b[0;32mreturn\u001b[0m \u001b[0mfunc\u001b[0m\u001b[0;34m(\u001b[0m\u001b[0;34m*\u001b[0m\u001b[0margs\u001b[0m\u001b[0;34m,\u001b[0m \u001b[0;34m**\u001b[0m\u001b[0mkwargs\u001b[0m\u001b[0;34m)\u001b[0m\u001b[0;34m\u001b[0m\u001b[0;34m\u001b[0m\u001b[0m\n\u001b[0m\u001b[1;32m    319\u001b[0m     \u001b[0;32mreturn\u001b[0m \u001b[0mfunction_with_sql_tracing\u001b[0m\u001b[0;34m\u001b[0m\u001b[0;34m\u001b[0m\u001b[0m\n",
      "\u001b[0;32m~/dev/SAP-HANA-AutoML/venv/lib/python3.9/site-packages/hana_ml/algorithms/pal/trees.py\u001b[0m in \u001b[0;36m_predict\u001b[0;34m(self, key, data, features, verbose, missing_replacement, thread_ratio)\u001b[0m\n\u001b[1;32m   3767\u001b[0m             \u001b[0;31m#self._create(ParameterTable(param_tbl).with_data(param_rows))\u001b[0m\u001b[0;34m\u001b[0m\u001b[0;34m\u001b[0m\u001b[0;34m\u001b[0m\u001b[0m\n\u001b[1;32m   3768\u001b[0m             \u001b[0;31m#self._create(Table(result_tbl, result_spec))\u001b[0m\u001b[0;34m\u001b[0m\u001b[0;34m\u001b[0m\u001b[0;34m\u001b[0m\u001b[0m\n\u001b[0;32m-> 3769\u001b[0;31m             call_pal_auto(conn,\n\u001b[0m\u001b[1;32m   3770\u001b[0m                           \u001b[0;34m\"PAL_HGBT_PREDICT\"\u001b[0m\u001b[0;34m,\u001b[0m\u001b[0;34m\u001b[0m\u001b[0;34m\u001b[0m\u001b[0m\n\u001b[1;32m   3771\u001b[0m                           \u001b[0mdata_\u001b[0m\u001b[0;34m,\u001b[0m\u001b[0;34m\u001b[0m\u001b[0;34m\u001b[0m\u001b[0m\n",
      "\u001b[0;32m~/dev/SAP-HANA-AutoML/venv/lib/python3.9/site-packages/hana_ml/algorithms/pal/pal_base.py\u001b[0m in \u001b[0;36mcall_pal_auto\u001b[0;34m(conn, funcname, *args)\u001b[0m\n\u001b[1;32m    336\u001b[0m         \u001b[0;31m# Optimistic execution.\u001b[0m\u001b[0;34m\u001b[0m\u001b[0;34m\u001b[0m\u001b[0;34m\u001b[0m\u001b[0m\n\u001b[1;32m    337\u001b[0m         \u001b[0;32mwith\u001b[0m \u001b[0mconn\u001b[0m\u001b[0;34m.\u001b[0m\u001b[0mconnection\u001b[0m\u001b[0;34m.\u001b[0m\u001b[0mcursor\u001b[0m\u001b[0;34m(\u001b[0m\u001b[0;34m)\u001b[0m \u001b[0;32mas\u001b[0m \u001b[0mcur\u001b[0m\u001b[0;34m:\u001b[0m\u001b[0;34m\u001b[0m\u001b[0;34m\u001b[0m\u001b[0m\n\u001b[0;32m--> 338\u001b[0;31m             \u001b[0;32mif\u001b[0m \u001b[0mtry_exec\u001b[0m\u001b[0;34m(\u001b[0m\u001b[0mcur\u001b[0m\u001b[0;34m,\u001b[0m \u001b[0msql\u001b[0m\u001b[0;34m)\u001b[0m\u001b[0;34m:\u001b[0m\u001b[0;34m\u001b[0m\u001b[0;34m\u001b[0m\u001b[0m\n\u001b[0m\u001b[1;32m    339\u001b[0m                 \u001b[0;31m# Optimistic execution succeeded, meaning all arguments with\u001b[0m\u001b[0;34m\u001b[0m\u001b[0;34m\u001b[0m\u001b[0;34m\u001b[0m\u001b[0m\n\u001b[1;32m    340\u001b[0m                 \u001b[0;31m# unknown ttab safety are safe.\u001b[0m\u001b[0;34m\u001b[0m\u001b[0;34m\u001b[0m\u001b[0;34m\u001b[0m\u001b[0m\n",
      "\u001b[0;32m~/dev/SAP-HANA-AutoML/venv/lib/python3.9/site-packages/hana_ml/algorithms/pal/pal_base.py\u001b[0m in \u001b[0;36mtry_exec\u001b[0;34m(cur, sql)\u001b[0m\n\u001b[1;32m    307\u001b[0m         \"\"\"\n\u001b[1;32m    308\u001b[0m         \u001b[0;32mtry\u001b[0m\u001b[0;34m:\u001b[0m\u001b[0;34m\u001b[0m\u001b[0;34m\u001b[0m\u001b[0m\n\u001b[0;32m--> 309\u001b[0;31m             \u001b[0mexecute_logged\u001b[0m\u001b[0;34m(\u001b[0m\u001b[0mcur\u001b[0m\u001b[0;34m,\u001b[0m \u001b[0msql\u001b[0m\u001b[0;34m,\u001b[0m \u001b[0mconn\u001b[0m\u001b[0;34m.\u001b[0m\u001b[0msql_tracer\u001b[0m\u001b[0;34m)\u001b[0m \u001b[0;31m# SQLTRACE added sql_tracer\u001b[0m\u001b[0;34m\u001b[0m\u001b[0;34m\u001b[0m\u001b[0m\n\u001b[0m\u001b[1;32m    310\u001b[0m             \u001b[0;32mreturn\u001b[0m \u001b[0;32mTrue\u001b[0m\u001b[0;34m\u001b[0m\u001b[0;34m\u001b[0m\u001b[0m\n\u001b[1;32m    311\u001b[0m         \u001b[0;32mexcept\u001b[0m \u001b[0mdbapi\u001b[0m\u001b[0;34m.\u001b[0m\u001b[0mError\u001b[0m \u001b[0;32mas\u001b[0m \u001b[0merr\u001b[0m\u001b[0;34m:\u001b[0m\u001b[0;34m\u001b[0m\u001b[0;34m\u001b[0m\u001b[0m\n",
      "\u001b[0;32m~/dev/SAP-HANA-AutoML/venv/lib/python3.9/site-packages/hana_ml/ml_base.py\u001b[0m in \u001b[0;36mexecute_logged\u001b[0;34m(cursor, statement, sql_tracer)\u001b[0m\n\u001b[1;32m    336\u001b[0m     \u001b[0;32mif\u001b[0m \u001b[0msql_tracer\u001b[0m\u001b[0;34m:\u001b[0m\u001b[0;34m\u001b[0m\u001b[0;34m\u001b[0m\u001b[0m\n\u001b[1;32m    337\u001b[0m         \u001b[0msql_tracer\u001b[0m\u001b[0;34m.\u001b[0m\u001b[0mtrace_sql\u001b[0m\u001b[0;34m(\u001b[0m\u001b[0mstatement\u001b[0m\u001b[0;34m)\u001b[0m\u001b[0;34m\u001b[0m\u001b[0;34m\u001b[0m\u001b[0m\n\u001b[0;32m--> 338\u001b[0;31m     \u001b[0mcursor\u001b[0m\u001b[0;34m.\u001b[0m\u001b[0mexecute\u001b[0m\u001b[0;34m(\u001b[0m\u001b[0mstatement\u001b[0m\u001b[0;34m)\u001b[0m\u001b[0;34m\u001b[0m\u001b[0;34m\u001b[0m\u001b[0m\n\u001b[0m\u001b[1;32m    339\u001b[0m \u001b[0;34m\u001b[0m\u001b[0m\n\u001b[1;32m    340\u001b[0m \u001b[0mINTEGER\u001b[0m \u001b[0;34m=\u001b[0m \u001b[0;34m\"INTEGER\"\u001b[0m\u001b[0;34m\u001b[0m\u001b[0;34m\u001b[0m\u001b[0m\n",
      "\u001b[0;31mError\u001b[0m: (256, 'sql processing error: \"DEVELOPER\".\"(DO statement)\": line 9 col 1 (at pos 1309): search table error: _SYS_AFL.AFLPAL:HGBTPREDICT_ANY: [102] (range 1) TypeMismatch exception: Column \\'age\\' does not exist')"
     ]
    }
   ],
   "source": [
    "b.run('./data/benchmark/cls/kr-vs-kp.csv', task='cls', label='class', categorical=['class'], grad_boost=GRADIENT)\n",
    "apl_acc.append(b.apl_accuracy)\n",
    "hana_acc.append(b.automl_accuracy)\n",
    "!python3 hana_automl/utils/cleanup.py\n",
    "\n",
    "b.run('./data/benchmark/cls/australian.csv', task='cls', \n",
    "      label='A15', \n",
    "      categorical=['A15', 'A1', 'A4', 'A5', 'A6', 'A8', 'A9', 'A11', 'A12'],\n",
    "      grad_boost=GRADIENT)\n",
    "apl_acc.append(b.apl_accuracy)\n",
    "hana_acc.append(b.automl_accuracy)\n",
    "!python3 hana_automl/utils/cleanup.py\n",
    "\n",
    "\n",
    "b.run('./data/benchmark/cls/phoneme.csv', task='cls', label='Class', categorical=['Class'], grad_boost=GRADIENT)\n",
    "apl_acc.append(b.apl_accuracy)\n",
    "hana_acc.append(b.automl_accuracy)\n",
    "!python3 hana_automl/utils/cleanup.py\n",
    "\n",
    "b.run('./data/benchmark/cls/adult.csv', task='cls', label='class', categorical=['workclass', 'education', 'marital-status', 'occupation', 'relationship', 'race', 'sex', 'native-country', 'class'], grad_boost=GRADIENT)\n",
    "apl_acc.append(b.apl_accuracy)\n",
    "hana_acc.append(b.automl_accuracy)\n",
    "!python3 hana_automl/utils/cleanup.py\n",
    "\n",
    "b.run('./data/benchmark/cls/blood.csv', task='cls', label='Class', categorical=['Class'], grad_boost=GRADIENT)\n",
    "apl_acc.append(b.apl_accuracy)\n",
    "hana_acc.append(b.automl_accuracy)\n",
    "!python3 hana_automl/utils/cleanup.py\n",
    "\n",
    "b.run('./data/benchmark/cls/higgs.csv', task='cls', label='class', categorical=['class'], grad_boost=GRADIENT)\n",
    "apl_acc.append(b.apl_accuracy)\n",
    "hana_acc.append(b.automl_accuracy)\n",
    "!python3 hana_automl/utils/cleanup.py\n",
    "\n",
    "b.run('./data/benchmark/cls/sylvine.csv', task='cls', label='class', categorical=['class'], grad_boost=GRADIENT)\n",
    "apl_acc.append(b.apl_accuracy)\n",
    "hana_acc.append(b.automl_accuracy)\n",
    "!python3 hana_automl/utils/cleanup.py\n",
    "\n",
    "b.run('./data/benchmark/cls/credit.csv', task='cls', label='class', categorical=['class', 'checking_status', 'credit_history', 'purpose', 'savings_status', 'employment', 'personal_status', 'other_parties', 'property_magnitude', 'other_payment_plans', 'housing', 'job', 'own_telephone', 'foreign_worker'], grad_boost=GRADIENT)\n",
    "apl_acc.append(b.apl_accuracy)\n",
    "hana_acc.append(b.automl_accuracy)\n",
    "!python3 hana_automl/utils/cleanup.py\n",
    "\n",
    "b.run('./data/benchmark/cls/kc1.csv', task='cls', label='defects', categorical=['defects'], grad_boost=GRADIENT)\n",
    "apl_acc.append(b.apl_accuracy)\n",
    "hana_acc.append(b.automl_accuracy)\n",
    "!python3 hana_automl/utils/cleanup.py"
   ]
  },
  {
   "cell_type": "code",
   "execution_count": null,
   "id": "10802ad7",
   "metadata": {},
   "outputs": [],
   "source": [
    "plot_results(task='Classification', boosting=GRADIENT)"
   ]
  },
  {
   "cell_type": "markdown",
   "id": "dd5d2372",
   "metadata": {},
   "source": [
    "## Regression"
   ]
  },
  {
   "cell_type": "code",
   "execution_count": 14,
   "id": "fe1bb1f6",
   "metadata": {},
   "outputs": [],
   "source": [
    "datasets = ['elevators.csv', 'wine_quality.csv', 'baseball.csv']\n",
    "hana_acc = []\n",
    "apl_acc = []"
   ]
  },
  {
   "cell_type": "code",
   "execution_count": 15,
   "id": "186fc763",
   "metadata": {},
   "outputs": [
    {
     "name": "stderr",
     "output_type": "stream",
     "text": [
      "100%|██████████| 1/1 [00:01<00:00,  1.31s/it]\n",
      "100%|██████████| 1/1 [00:00<00:00,  1.22it/s]\n"
     ]
    },
    {
     "name": "stdout",
     "output_type": "stream",
     "text": [
      "Finished in 8 seconds\n",
      "APL accuracy:  0.8421264187068715\n",
      "Recreating table BENCHMARK_AUTOML with data from dataframe\n"
     ]
    },
    {
     "name": "stderr",
     "output_type": "stream",
     "text": [
      "100%|██████████| 1/1 [00:02<00:00,  2.14s/it]\n"
     ]
    },
    {
     "name": "stdout",
     "output_type": "stream",
     "text": [
      "Done\n",
      "Task: reg\n",
      "Finished in 260 seconds\n",
      "hana_automl accuracy: 0.7078043165454868\n"
     ]
    }
   ],
   "source": [
    "# https://www.openml.org/d/216\n",
    "b.run('./data/benchmark/reg/elevators.csv', task='reg', label='Goal', grad_boost=False)\n",
    "apl_acc.append(b.apl_accuracy)\n",
    "hana_acc.append(b.automl_accuracy)"
   ]
  },
  {
   "cell_type": "code",
   "execution_count": 16,
   "id": "fbc96bd7",
   "metadata": {
    "scrolled": false
   },
   "outputs": [
    {
     "name": "stderr",
     "output_type": "stream",
     "text": [
      "100%|██████████| 1/1 [00:00<00:00,  2.72it/s]\n",
      "100%|██████████| 1/1 [00:00<00:00,  4.36it/s]\n"
     ]
    },
    {
     "name": "stdout",
     "output_type": "stream",
     "text": [
      "Finished in 6 seconds\n",
      "APL accuracy:  0.2129412541058407\n",
      "Recreating table BENCHMARK_AUTOML with data from dataframe\n"
     ]
    },
    {
     "name": "stderr",
     "output_type": "stream",
     "text": [
      "100%|██████████| 1/1 [00:00<00:00,  2.68it/s]\n"
     ]
    },
    {
     "name": "stdout",
     "output_type": "stream",
     "text": [
      "Done\n",
      "Task: reg\n",
      "Finished in 309 seconds\n",
      "hana_automl accuracy: 0.35223293773110864\n"
     ]
    }
   ],
   "source": [
    "# https://www.openml.org/d/287\n",
    "b.run('./data/benchmark/reg/wine_quality.csv', task='reg', label='quality', grad_boost=False)\n",
    "apl_acc.append(b.apl_accuracy)\n",
    "hana_acc.append(b.automl_accuracy)"
   ]
  },
  {
   "cell_type": "code",
   "execution_count": 17,
   "id": "28d50323",
   "metadata": {},
   "outputs": [
    {
     "name": "stderr",
     "output_type": "stream",
     "text": [
      "100%|██████████| 1/1 [00:00<00:00,  5.58it/s]\n",
      "100%|██████████| 1/1 [00:00<00:00,  6.04it/s]\n"
     ]
    },
    {
     "name": "stdout",
     "output_type": "stream",
     "text": [
      "Finished in 5 seconds\n",
      "APL accuracy:  0.9417645462157332\n",
      "Recreating table BENCHMARK_AUTOML with data from dataframe\n"
     ]
    },
    {
     "name": "stderr",
     "output_type": "stream",
     "text": [
      "100%|██████████| 1/1 [00:00<00:00,  5.64it/s]\n"
     ]
    },
    {
     "name": "stdout",
     "output_type": "stream",
     "text": [
      "Done\n",
      "Task: reg\n",
      "Finished in 259 seconds\n",
      "hana_automl accuracy: 0.9276013428577136\n"
     ]
    }
   ],
   "source": [
    "# https://www.openml.org/d/41021\n",
    "b.run('./data/benchmark/reg/baseball.csv', task='reg', label='RS', grad_boost=False)\n",
    "apl_acc.append(b.apl_accuracy)\n",
    "hana_acc.append(b.automl_accuracy)"
   ]
  },
  {
   "cell_type": "code",
   "execution_count": 18,
   "id": "cf74ac0f",
   "metadata": {},
   "outputs": [
    {
     "data": {
      "image/png": "[encoded data removed]",
      "text/plain": [
       "<Figure size 720x360 with 1 Axes>"
      ]
     },
     "metadata": {
      "needs_background": "light"
     },
     "output_type": "display_data"
    }
   ],
   "source": [
    "plot_results(task='Regression', boosting=False)"
   ]
  },
  {
   "cell_type": "markdown",
   "id": "933fc063",
   "metadata": {},
   "source": [
    "## Gradient boosting enabled"
   ]
  },
  {
   "cell_type": "markdown",
   "id": "b0424d9b",
   "metadata": {},
   "source": [
    "## Classification"
   ]
  },
  {
   "cell_type": "code",
   "execution_count": 19,
   "id": "bb915cbb",
   "metadata": {},
   "outputs": [],
   "source": [
    "datasets = ['kr-vs-kp.csv', 'australian.csv', 'phoneme.csv']\n",
    "hana_acc = []\n",
    "apl_acc = []"
   ]
  },
  {
   "cell_type": "code",
   "execution_count": null,
   "id": "3b1e3915",
   "metadata": {},
   "outputs": [],
   "source": [
    "# https://www.openml.org/d/3\n",
    "b.run('./data/benchmark/cls/kr-vs-kp.csv', task='cls', label='class', categorical=['class'], grad_boost=True)\n",
    "apl_acc.append(b.apl_accuracy)\n",
    "hana_acc.append(b.automl_accuracy)"
   ]
  },
  {
   "cell_type": "code",
   "execution_count": null,
   "id": "37b6a175",
   "metadata": {},
   "outputs": [],
   "source": [
    "# https://www.openml.org/d/40981\n",
    "b.run('./data/benchmark/cls/australian.csv', task='cls', \n",
    "      label='A15', \n",
    "      categorical=['A15', 'A1', 'A4', 'A5', 'A6', 'A8', 'A9', 'A11', 'A12'],\n",
    "      grad_boost=True)\n",
    "apl_acc.append(b.apl_accuracy)\n",
    "hana_acc.append(b.automl_accuracy)"
   ]
  },
  {
   "cell_type": "code",
   "execution_count": null,
   "id": "18f376c1",
   "metadata": {},
   "outputs": [],
   "source": [
    "# https://www.openml.org/d/1489\n",
    "b.run('./data/benchmark/cls/phoneme.csv', task='cls', label='Class', categorical=['Class'], grad_boost=True)\n",
    "apl_acc.append(b.apl_accuracy)\n",
    "hana_acc.append(b.automl_accuracy)"
   ]
  },
  {
   "cell_type": "code",
   "execution_count": 23,
   "id": "f6580fbb",
   "metadata": {},
   "outputs": [
    {
     "data": {
      "image/png": "[encoded data removed]",
      "text/plain": [
       "<Figure size 720x360 with 1 Axes>"
      ]
     },
     "metadata": {
      "needs_background": "light"
     },
     "output_type": "display_data"
    }
   ],
   "source": [
    "plot_results(task='Classification', boosting=True)"
   ]
  },
  {
   "cell_type": "markdown",
   "id": "84646f80",
   "metadata": {},
   "source": [
    "## Regression"
   ]
  },
  {
   "cell_type": "code",
   "execution_count": 7,
   "id": "3e1b1a91",
   "metadata": {},
   "outputs": [],
   "source": [
    "datasets = ['elevators.csv', 'wine_quality.csv', 'baseball.csv']\n",
    "hana_acc = []\n",
    "apl_acc = []"
   ]
  },
  {
   "cell_type": "code",
   "execution_count": 8,
   "id": "c67bbff5",
   "metadata": {},
   "outputs": [
    {
     "name": "stderr",
     "output_type": "stream",
     "text": [
      "100%|██████████| 1/1 [00:01<00:00,  1.25s/it]\n",
      "100%|██████████| 1/1 [00:00<00:00,  1.25it/s]\n"
     ]
    },
    {
     "name": "stdout",
     "output_type": "stream",
     "text": [
      "Finished in 9 seconds\n",
      "APL accuracy:  0.9052400971457588\n",
      "Recreating table BENCHMARK_AUTOML with data from dataframe\n"
     ]
    },
    {
     "name": "stderr",
     "output_type": "stream",
     "text": [
      "100%|██████████| 1/1 [00:01<00:00,  1.42s/it]\n"
     ]
    },
    {
     "name": "stdout",
     "output_type": "stream",
     "text": [
      "Done\n",
      "Task: reg\n",
      "Finished in 257 seconds\n",
      "hana_automl accuracy: 0.8187620834659429\n"
     ]
    }
   ],
   "source": [
    "# https://www.openml.org/d/216\n",
    "b.run('./data/benchmark/reg/elevators.csv', task='reg', label='Goal', grad_boost=True)\n",
    "apl_acc.append(b.apl_accuracy)\n",
    "hana_acc.append(b.automl_accuracy)"
   ]
  },
  {
   "cell_type": "code",
   "execution_count": 9,
   "id": "76e93918",
   "metadata": {},
   "outputs": [
    {
     "name": "stderr",
     "output_type": "stream",
     "text": [
      "100%|██████████| 1/1 [00:00<00:00,  2.05it/s]\n",
      "100%|██████████| 1/1 [00:00<00:00,  1.94it/s]\n"
     ]
    },
    {
     "name": "stdout",
     "output_type": "stream",
     "text": [
      "Finished in 6 seconds\n",
      "APL accuracy:  0.32326066404388615\n",
      "Recreating table BENCHMARK_AUTOML with data from dataframe\n"
     ]
    },
    {
     "name": "stderr",
     "output_type": "stream",
     "text": [
      "100%|██████████| 1/1 [00:00<00:00,  2.21it/s]\n"
     ]
    },
    {
     "name": "stdout",
     "output_type": "stream",
     "text": [
      "Done\n",
      "Task: reg\n",
      "Finished in 251 seconds\n",
      "hana_automl accuracy: 0.3355386669058269\n"
     ]
    }
   ],
   "source": [
    "# https://www.openml.org/d/287\n",
    "b.run('./data/benchmark/reg/wine_quality.csv', task='reg', label='quality', grad_boost=True)\n",
    "apl_acc.append(b.apl_accuracy)\n",
    "hana_acc.append(b.automl_accuracy)"
   ]
  },
  {
   "cell_type": "code",
   "execution_count": 10,
   "id": "95be586a",
   "metadata": {},
   "outputs": [
    {
     "name": "stderr",
     "output_type": "stream",
     "text": [
      "100%|██████████| 1/1 [00:00<00:00,  5.79it/s]\n",
      "100%|██████████| 1/1 [00:00<00:00,  6.54it/s]\n"
     ]
    },
    {
     "name": "stdout",
     "output_type": "stream",
     "text": [
      "Finished in 5 seconds\n",
      "APL accuracy:  0.9396105251438497\n",
      "Recreating table BENCHMARK_AUTOML with data from dataframe\n"
     ]
    },
    {
     "name": "stderr",
     "output_type": "stream",
     "text": [
      "100%|██████████| 1/1 [00:00<00:00,  4.63it/s]\n"
     ]
    },
    {
     "name": "stdout",
     "output_type": "stream",
     "text": [
      "Done\n",
      "Task: reg\n",
      "Finished in 288 seconds\n",
      "hana_automl accuracy: 0.9377257874515008\n"
     ]
    }
   ],
   "source": [
    "# https://www.openml.org/d/41021\n",
    "b.run('./data/benchmark/reg/baseball.csv', task='reg', label='RS', grad_boost=True)\n",
    "apl_acc.append(b.apl_accuracy)\n",
    "hana_acc.append(b.automl_accuracy)"
   ]
  },
  {
   "cell_type": "code",
   "execution_count": 11,
   "id": "c8186edd",
   "metadata": {},
   "outputs": [
    {
     "data": {
      "image/png": "[encoded data removed]",
      "text/plain": [
       "<Figure size 720x360 with 1 Axes>"
      ]
     },
     "metadata": {
      "needs_background": "light"
     },
     "output_type": "display_data"
    }
   ],
   "source": [
    "plot_results(task='Regression', boosting=True)"
   ]
  },
  {
   "cell_type": "code",
   "execution_count": null,
   "id": "74069e77",
   "metadata": {},
   "outputs": [],
   "source": []
  }
 ],
 "metadata": {
  "kernelspec": {
   "display_name": "Python 3",
   "language": "python",
   "name": "python3"
  },
  "language_info": {
   "codemirror_mode": {
    "name": "ipython",
    "version": 3
   },
   "file_extension": ".py",
   "mimetype": "text/x-python",
   "name": "python",
   "nbconvert_exporter": "python",
   "pygments_lexer": "ipython3",
   "version": "3.9.2"
  }
 },
 "nbformat": 4,
 "nbformat_minor": 5
}
