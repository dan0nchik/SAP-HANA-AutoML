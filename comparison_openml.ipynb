{
 "cells": [
  {
   "cell_type": "markdown",
   "id": "08491fde",
   "metadata": {},
   "source": [
    "# Comparison with APL library on OpenML benchmark datasets"
   ]
  },
  {
   "cell_type": "markdown",
   "id": "2a2f1c0e",
   "metadata": {},
   "source": [
    "In this notebook we will compare our library with official SAP HANA Automated Predictive Library (details here: https://help.sap.com/viewer/cb31bd99d09747089754a0ba75067ed2/2.5.0.0/en-US). In most cases, our library beats it in accuracy. However, there is always room for improvement. "
   ]
  },
  {
   "cell_type": "code",
   "execution_count": null,
   "id": "dcb1f14b",
   "metadata": {},
   "outputs": [],
   "source": [
    "from hana_automl.utils.perfomance import Benchmark\n",
    "from hana_automl.utils.connection import connection_context\n",
    "import seaborn as sns\n",
    "import pandas as pd\n",
    "import numpy as np\n",
    "import matplotlib.pyplot as plt\n",
    "from hana_automl.utils.cleanup import clean\n",
    "%load_ext jupyternotify\n",
    "import time"
   ]
  },
  {
   "cell_type": "code",
   "execution_count": null,
   "id": "b9e67ae3",
   "metadata": {
    "tags": [
     "hide-cell"
    ]
   },
   "outputs": [],
   "source": [
    "b = Benchmark(connection_context)\n",
    "GRADIENT = False\n",
    "apl_acc = []\n",
    "hana_acc = []\n",
    "datasets = ['kr-vs-kp.csv', 'australian.csv', 'phoneme.csv', 'adult.csv', 'blood.csv', 'sylvine.csv', 'credit.csv', 'kc1.csv']\n",
    "df = pd.DataFrame()"
   ]
  },
  {
   "cell_type": "code",
   "execution_count": null,
   "id": "e19d3aaa",
   "metadata": {
    "tags": [
     "hide-cell"
    ]
   },
   "outputs": [],
   "source": [
    "def plot_results(task: str, boosting: bool):\n",
    "    df['APL'] = apl_acc\n",
    "    df['HANA AutoML'] = hana_acc\n",
    "    df['Dataset'] = datasets\n",
    "    x = np.arange(len(datasets))  # the label locations\n",
    "    width = 0.35  # the width of the bars\n",
    "\n",
    "    fig, ax = plt.subplots()\n",
    "    rects1 = ax.bar(x - width/2, apl_acc, width, label='APL')\n",
    "    rects2 = ax.bar(x + width/2, hana_acc, width, label='HANA AutoML')\n",
    "\n",
    "    # Add some text for labels, title and custom x-axis tick labels, etc.\n",
    "    ax.set_ylabel('Accuracy')\n",
    "    if boosting:\n",
    "        ax.set_title(f'{task} (APL with Gradient Boosting)')\n",
    "    else:\n",
    "        ax.set_title(f'{task} (APL without Gradient Boosting)')\n",
    "    \n",
    "    ax.set_xticks(x)\n",
    "    ax.set_xticklabels(datasets)\n",
    "    ax.legend()\n",
    "\n",
    "    ax.bar_label(rects1)\n",
    "    ax.bar_label(rects2)\n",
    "\n",
    "    plt.gcf().set_size_inches(20,10)\n",
    "    plt.show()\n",
    "    \n",
    "def finish(benchmark):\n",
    "    apl_acc.append(benchmark.apl_accuracy)\n",
    "    hana_acc.append(benchmark.automl_accuracy)\n",
    "    clean()\n",
    "    time.sleep(180)"
   ]
  },
  {
   "cell_type": "markdown",
   "id": "3a930848",
   "metadata": {},
   "source": [
    "## Just APL, without Gradient Boosting enabled:\n",
    "Don't know what is Gradient Boosting? Check here: https://machinelearningmastery.com/gentle-introduction-gradient-boosting-algorithm-machine-learning/ . We are using special benchmark datasets from OpenML to compare model accuracy."
   ]
  },
  {
   "cell_type": "markdown",
   "id": "8812536f",
   "metadata": {},
   "source": [
    "## Classification"
   ]
  },
  {
   "cell_type": "code",
   "execution_count": null,
   "id": "c65d71d9",
   "metadata": {
    "tags": [
     "hide-cell"
    ]
   },
   "outputs": [],
   "source": [
    "clean()\n",
    "b.run('./data/benchmark/cls/kr-vs-kp.csv', task='cls', label='class', categorical=['class'], grad_boost=GRADIENT)\n",
    "finish(b)"
   ]
  },
  {
   "cell_type": "code",
   "execution_count": null,
   "id": "f68cf0fe",
   "metadata": {
    "tags": [
     "hide-cell"
    ]
   },
   "outputs": [],
   "source": [
    "b.run('./data/benchmark/cls/australian.csv', task='cls', \n",
    "      label='A15', \n",
    "      categorical=['A15', 'A1', 'A4', 'A5', 'A6', 'A8', 'A9', 'A11', 'A12'],\n",
    "      grad_boost=GRADIENT)\n",
    "finish(b)"
   ]
  },
  {
   "cell_type": "code",
   "execution_count": null,
   "id": "86890c7a",
   "metadata": {
    "scrolled": true,
    "tags": [
     "hide-cell"
    ]
   },
   "outputs": [],
   "source": [
    "b.run('./data/benchmark/cls/phoneme.csv', task='cls', label='Class', categorical=['Class'], grad_boost=GRADIENT)\n",
    "finish(b)"
   ]
  },
  {
   "cell_type": "code",
   "execution_count": null,
   "id": "8cca500f",
   "metadata": {
    "tags": [
     "hide-cell"
    ]
   },
   "outputs": [],
   "source": [
    "%%notify\n",
    "b.run('./data/benchmark/cls/adult.csv', task='cls', label='class', categorical=['workclass', 'education', 'marital-status', 'occupation', 'relationship', 'race', 'sex', 'native-country', 'class'], grad_boost=GRADIENT)\n",
    "finish(b)"
   ]
  },
  {
   "cell_type": "code",
   "execution_count": null,
   "id": "6f22c6e2",
   "metadata": {
    "tags": [
     "hide-cell"
    ]
   },
   "outputs": [],
   "source": [
    "%%notify\n",
    "b.run('./data/benchmark/cls/blood.csv', task='cls', label='Class', categorical=['Class'], grad_boost=GRADIENT)\n",
    "finish(b)"
   ]
  },
  {
   "cell_type": "code",
   "execution_count": null,
   "id": "30d1ceb5",
   "metadata": {},
   "outputs": [],
   "source": [
    "# b.run('./data/benchmark/cls/higgs.csv', task='cls', label='class', categorical=['class'], grad_boost=GRADIENT)\n",
    "# apl_acc.append(b.apl_accuracy)\n",
    "# hana_acc.append(b.automl_accuracy)\n",
    "# clean()"
   ]
  },
  {
   "cell_type": "code",
   "execution_count": null,
   "id": "a566a5f2",
   "metadata": {
    "tags": [
     "hide-cell"
    ]
   },
   "outputs": [],
   "source": [
    "b.run('./data/benchmark/cls/sylvine.csv', task='cls', label='class', categorical=['class'], grad_boost=GRADIENT)\n",
    "finish(b)"
   ]
  },
  {
   "cell_type": "code",
   "execution_count": null,
   "id": "b361b6a4",
   "metadata": {
    "tags": [
     "hide-cell"
    ]
   },
   "outputs": [],
   "source": [
    "b.run('./data/benchmark/cls/credit.csv', task='cls', label='class', categorical=['class', 'checking_status', 'credit_history', 'purpose', 'savings_status', 'employment', 'personal_status', 'other_parties', 'property_magnitude', 'other_payment_plans', 'housing', 'job', 'own_telephone', 'foreign_worker'], grad_boost=GRADIENT)\n",
    "finish(b)"
   ]
  },
  {
   "cell_type": "code",
   "execution_count": null,
   "id": "1a1acba7",
   "metadata": {
    "tags": [
     "hide-cell"
    ]
   },
   "outputs": [],
   "source": [
    "b.run('./data/benchmark/cls/kc1.csv', task='cls', label='defects', categorical=['defects'], grad_boost=GRADIENT)\n",
    "finish(b)"
   ]
  },
  {
   "cell_type": "code",
   "execution_count": null,
   "id": "10802ad7",
   "metadata": {},
   "outputs": [],
   "source": [
    "plot_results(task='Classification', boosting=GRADIENT)"
   ]
  },
  {
   "cell_type": "markdown",
   "id": "dd5d2372",
   "metadata": {},
   "source": [
    "## Regression"
   ]
  },
  {
   "cell_type": "code",
   "execution_count": null,
   "id": "fe1bb1f6",
   "metadata": {},
   "outputs": [],
   "source": [
    "datasets = ['elevators.csv', 'wine_quality.csv', 'baseball.csv', 'boston.csv', 'tecator.csv', 'space_ga.csv', 'pol.csv', 'quake.csv']\n",
    "hana_acc = []\n",
    "apl_acc = []"
   ]
  },
  {
   "cell_type": "code",
   "execution_count": null,
   "id": "186fc763",
   "metadata": {},
   "outputs": [],
   "source": [
    "# https://www.openml.org/d/216\n",
    "b.run('./data/benchmark/reg/elevators.csv', task='reg', label='Goal', grad_boost=GRADIENT)\n",
    "finish(b)"
   ]
  },
  {
   "cell_type": "code",
   "execution_count": null,
   "id": "fbc96bd7",
   "metadata": {
    "scrolled": false
   },
   "outputs": [],
   "source": [
    "# https://www.openml.org/d/287\n",
    "b.run('./data/benchmark/reg/wine_quality.csv', task='reg', label='quality', grad_boost=GRADIENT)\n",
    "finish(b)"
   ]
  },
  {
   "cell_type": "code",
   "execution_count": null,
   "id": "28d50323",
   "metadata": {},
   "outputs": [],
   "source": [
    "# https://www.openml.org/d/41021\n",
    "b.run('./data/benchmark/reg/baseball.csv', task='reg', label='RS', grad_boost=GRADIENT)\n",
    "finish(b)"
   ]
  },
  {
   "cell_type": "code",
   "execution_count": null,
   "id": "62deb11d",
   "metadata": {},
   "outputs": [],
   "source": [
    "b.run('./data/benchmark/reg/boston.csv', task='reg', label='MEDV', grad_boost=G)\n",
    "finish(b)"
   ]
  },
  {
   "cell_type": "code",
   "execution_count": null,
   "id": "188a22d7",
   "metadata": {},
   "outputs": [],
   "source": [
    "b.run('./data/benchmark/reg/tecator.csv', task='reg', label='fat', grad_boost=GRADIENT)\n",
    "finish(b)"
   ]
  },
  {
   "cell_type": "code",
   "execution_count": null,
   "id": "e9ff9199",
   "metadata": {},
   "outputs": [],
   "source": [
    "b.run('./data/benchmark/reg/space_ga.csv', task='reg', label='ln(VOTES/POP)', grad_boost=GRADIENT)\n",
    "finish(b)"
   ]
  },
  {
   "cell_type": "code",
   "execution_count": null,
   "id": "a5d9f792",
   "metadata": {},
   "outputs": [],
   "source": [
    "b.run('./data/benchmark/reg/pol.csv', task='reg', label='foo', grad_boost=GRADIENT)\n",
    "finish(b)"
   ]
  },
  {
   "cell_type": "code",
   "execution_count": null,
   "id": "5d0adcc2",
   "metadata": {},
   "outputs": [],
   "source": [
    "b.run('./data/benchmark/reg/quake.csv', task='reg', label='col_4', grad_boost=GRADIENT)\n",
    "finish(b)"
   ]
  },
  {
   "cell_type": "code",
   "execution_count": null,
   "id": "cf74ac0f",
   "metadata": {},
   "outputs": [],
   "source": [
    "plot_results(task='Regression', boosting=False)"
   ]
  },
  {
   "cell_type": "markdown",
   "id": "933fc063",
   "metadata": {},
   "source": [
    "## Gradient boosting enabled"
   ]
  },
  {
   "cell_type": "markdown",
   "id": "b0424d9b",
   "metadata": {},
   "source": [
    "## Classification"
   ]
  },
  {
   "cell_type": "code",
   "execution_count": null,
   "id": "bb915cbb",
   "metadata": {},
   "outputs": [],
   "source": [
    "datasets = ['kr-vs-kp.csv', 'australian.csv', 'phoneme.csv']\n",
    "hana_acc = []\n",
    "apl_acc = []"
   ]
  },
  {
   "cell_type": "code",
   "execution_count": null,
   "id": "3b1e3915",
   "metadata": {},
   "outputs": [],
   "source": [
    "# https://www.openml.org/d/3\n",
    "b.run('./data/benchmark/cls/kr-vs-kp.csv', task='cls', label='class', categorical=['class'], grad_boost=True)\n",
    "apl_acc.append(b.apl_accuracy)\n",
    "hana_acc.append(b.automl_accuracy)"
   ]
  },
  {
   "cell_type": "code",
   "execution_count": null,
   "id": "37b6a175",
   "metadata": {},
   "outputs": [],
   "source": [
    "# https://www.openml.org/d/40981\n",
    "b.run('./data/benchmark/cls/australian.csv', task='cls', \n",
    "      label='A15', \n",
    "      categorical=['A15', 'A1', 'A4', 'A5', 'A6', 'A8', 'A9', 'A11', 'A12'],\n",
    "      grad_boost=True)\n",
    "apl_acc.append(b.apl_accuracy)\n",
    "hana_acc.append(b.automl_accuracy)"
   ]
  },
  {
   "cell_type": "code",
   "execution_count": null,
   "id": "18f376c1",
   "metadata": {},
   "outputs": [],
   "source": [
    "# https://www.openml.org/d/1489\n",
    "b.run('./data/benchmark/cls/phoneme.csv', task='cls', label='Class', categorical=['Class'], grad_boost=True)\n",
    "apl_acc.append(b.apl_accuracy)\n",
    "hana_acc.append(b.automl_accuracy)"
   ]
  },
  {
   "cell_type": "code",
   "execution_count": null,
   "id": "f6580fbb",
   "metadata": {},
   "outputs": [],
   "source": [
    "plot_results(task='Classification', boosting=True)"
   ]
  },
  {
   "cell_type": "markdown",
   "id": "84646f80",
   "metadata": {},
   "source": [
    "## Regression"
   ]
  },
  {
   "cell_type": "code",
   "execution_count": null,
   "id": "3e1b1a91",
   "metadata": {},
   "outputs": [],
   "source": [
    "datasets = ['elevators.csv', 'wine_quality.csv', 'baseball.csv']\n",
    "hana_acc = []\n",
    "apl_acc = []"
   ]
  },
  {
   "cell_type": "code",
   "execution_count": null,
   "id": "c67bbff5",
   "metadata": {},
   "outputs": [],
   "source": [
    "# https://www.openml.org/d/216\n",
    "b.run('./data/benchmark/reg/elevators.csv', task='reg', label='Goal', grad_boost=True)\n",
    "apl_acc.append(b.apl_accuracy)\n",
    "hana_acc.append(b.automl_accuracy)"
   ]
  },
  {
   "cell_type": "code",
   "execution_count": null,
   "id": "76e93918",
   "metadata": {},
   "outputs": [],
   "source": [
    "# https://www.openml.org/d/287\n",
    "b.run('./data/benchmark/reg/wine_quality.csv', task='reg', label='quality', grad_boost=True)\n",
    "apl_acc.append(b.apl_accuracy)\n",
    "hana_acc.append(b.automl_accuracy)"
   ]
  },
  {
   "cell_type": "code",
   "execution_count": null,
   "id": "95be586a",
   "metadata": {},
   "outputs": [],
   "source": [
    "# https://www.openml.org/d/41021\n",
    "b.run('./data/benchmark/reg/baseball.csv', task='reg', label='RS', grad_boost=True)\n",
    "apl_acc.append(b.apl_accuracy)\n",
    "hana_acc.append(b.automl_accuracy)"
   ]
  },
  {
   "cell_type": "code",
   "execution_count": null,
   "id": "c8186edd",
   "metadata": {},
   "outputs": [],
   "source": [
    "plot_results(task='Regression', boosting=True)"
   ]
  },
  {
   "cell_type": "code",
   "execution_count": null,
   "id": "74069e77",
   "metadata": {},
   "outputs": [],
   "source": []
  }
 ],
 "metadata": {
  "kernelspec": {
   "display_name": "Python 3",
   "language": "python",
   "name": "python3"
  },
  "language_info": {
   "codemirror_mode": {
    "name": "ipython",
    "version": 3
   },
   "file_extension": ".py",
   "mimetype": "text/x-python",
   "name": "python",
   "nbconvert_exporter": "python",
   "pygments_lexer": "ipython3",
   "version": "3.9.2"
  }
 },
 "nbformat": 4,
 "nbformat_minor": 5
}
