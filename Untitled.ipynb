{
 "cells": [
  {
   "cell_type": "code",
   "execution_count": 44,
   "id": "normal-elite",
   "metadata": {},
   "outputs": [],
   "source": [
    "from hana_automl.automl import AutoML\n",
    "from hana_ml.dataframe import ConnectionContext, create_dataframe_from_pandas\n",
    "import pandas as pd\n",
    "from hana_automl.pipeline.data import Data\n"
   ]
  },
  {
   "cell_type": "code",
   "execution_count": 22,
   "id": "seasonal-barrier",
   "metadata": {},
   "outputs": [
    {
     "name": "stdout",
     "output_type": "stream",
     "text": [
      "HANA DB User : DEVELOPER Password : ········\n"
     ]
    }
   ],
   "source": [
    "cc = ConnectionContext(address='localhost', port=39015, user='DEVELOPER')"
   ]
  },
  {
   "cell_type": "code",
   "execution_count": 33,
   "id": "liquid-banner",
   "metadata": {},
   "outputs": [],
   "source": [
    "automl = AutoML(cc)"
   ]
  },
  {
   "cell_type": "code",
   "execution_count": 47,
   "id": "first-relation",
   "metadata": {},
   "outputs": [
    {
     "name": "stdout",
     "output_type": "stream",
     "text": [
      "Creating table with name: AUTOML3564c3d1-34a2-4967-9cd6-d7662ebf993b\n"
     ]
    },
    {
     "name": "stderr",
     "output_type": "stream",
     "text": [
      "100%|██████████| 1/1 [00:00<00:00,  7.09it/s]\n"
     ]
    },
    {
     "name": "stdout",
     "output_type": "stream",
     "text": [
      "Task: cls\n",
      "All iterations completed successfully!\n",
      "Starting model accuracy evaluation on the validation data!\n"
     ]
    }
   ],
   "source": [
    "automl.fit(file_path='data/benchmark/cls/blood.csv',\n",
    "           categorical_features=['Class'], \n",
    "           id_column=None, \n",
    "           target='Class', \n",
    "           steps=5, \n",
    "           verbosity=1)"
   ]
  },
  {
   "cell_type": "code",
   "execution_count": 48,
   "id": "irish-livestock",
   "metadata": {},
   "outputs": [
    {
     "name": "stderr",
     "output_type": "stream",
     "text": [
      "100%|██████████| 1/1 [00:00<00:00,  7.40it/s]\n"
     ]
    }
   ],
   "source": [
    "test_df = create_dataframe_from_pandas(cc, pd.read_csv('data/benchmark/cls/test_blood.csv'), 'TEST_AUTOML', force=True) \n",
    "test_df = test_df.add_id()"
   ]
  },
  {
   "cell_type": "code",
   "execution_count": 52,
   "id": "essential-gravity",
   "metadata": {},
   "outputs": [
    {
     "data": {
      "text/plain": [
       "0.44"
      ]
     },
     "execution_count": 52,
     "metadata": {},
     "output_type": "execute_result"
    }
   ],
   "source": [
    "automl.algorithm.score(data=Data(id_col='ID', target='Class', train=None, test=None, valid=None), df=test_df)"
   ]
  },
  {
   "cell_type": "code",
   "execution_count": null,
   "id": "conditional-republican",
   "metadata": {},
   "outputs": [],
   "source": []
  },
  {
   "cell_type": "code",
   "execution_count": null,
   "id": "premium-likelihood",
   "metadata": {},
   "outputs": [],
   "source": []
  }
 ],
 "metadata": {
  "kernelspec": {
   "display_name": "Python 3",
   "language": "python",
   "name": "python3"
  },
  "language_info": {
   "codemirror_mode": {
    "name": "ipython",
    "version": 3
   },
   "file_extension": ".py",
   "mimetype": "text/x-python",
   "name": "python",
   "nbconvert_exporter": "python",
   "pygments_lexer": "ipython3",
   "version": "3.9.2"
  }
 },
 "nbformat": 4,
 "nbformat_minor": 5
}
