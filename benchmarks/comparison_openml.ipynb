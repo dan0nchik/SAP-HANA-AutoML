{
 "cells": [
  {
   "cell_type": "markdown",
   "id": "08491fde",
   "metadata": {},
   "source": [
    "# Comparison with APL library on OpenML benchmark datasets"
   ]
  },
  {
   "cell_type": "markdown",
   "id": "2a2f1c0e",
   "metadata": {},
   "source": [
    "In this notebook we will compare our library with official SAP HANA Automated Predictive Library (details here: https://help.sap.com/viewer/cb31bd99d09747089754a0ba75067ed2/2.5.0.0/en-US). In most cases, our library beats it in accuracy. However, there is always room for improvement. "
   ]
  },
  {
   "cell_type": "code",
   "execution_count": 1,
   "id": "dcb1f14b",
   "metadata": {},
   "outputs": [
    {
     "ename": "ModuleNotFoundError",
     "evalue": "No module named 'hana_automl'",
     "output_type": "error",
     "traceback": [
      "\u001b[0;31m---------------------------------------------------------------------------\u001b[0m",
      "\u001b[0;31mModuleNotFoundError\u001b[0m                       Traceback (most recent call last)",
      "\u001b[0;32m<ipython-input-1-0a93a45c426c>\u001b[0m in \u001b[0;36m<module>\u001b[0;34m\u001b[0m\n\u001b[0;32m----> 1\u001b[0;31m \u001b[0;32mfrom\u001b[0m \u001b[0mhana_automl\u001b[0m\u001b[0;34m.\u001b[0m\u001b[0mutils\u001b[0m\u001b[0;34m.\u001b[0m\u001b[0mperfomance\u001b[0m \u001b[0;32mimport\u001b[0m \u001b[0mBenchmark\u001b[0m\u001b[0;34m\u001b[0m\u001b[0;34m\u001b[0m\u001b[0m\n\u001b[0m\u001b[1;32m      2\u001b[0m \u001b[0;32mfrom\u001b[0m \u001b[0mtests\u001b[0m\u001b[0;34m.\u001b[0m\u001b[0mconnection\u001b[0m \u001b[0;32mimport\u001b[0m \u001b[0mconnection_context\u001b[0m\u001b[0;34m\u001b[0m\u001b[0;34m\u001b[0m\u001b[0m\n\u001b[1;32m      3\u001b[0m \u001b[0;32mimport\u001b[0m \u001b[0mseaborn\u001b[0m \u001b[0;32mas\u001b[0m \u001b[0msns\u001b[0m\u001b[0;34m\u001b[0m\u001b[0;34m\u001b[0m\u001b[0m\n\u001b[1;32m      4\u001b[0m \u001b[0;32mimport\u001b[0m \u001b[0mpandas\u001b[0m \u001b[0;32mas\u001b[0m \u001b[0mpd\u001b[0m\u001b[0;34m\u001b[0m\u001b[0;34m\u001b[0m\u001b[0m\n\u001b[1;32m      5\u001b[0m \u001b[0;32mimport\u001b[0m \u001b[0mnumpy\u001b[0m \u001b[0;32mas\u001b[0m \u001b[0mnp\u001b[0m\u001b[0;34m\u001b[0m\u001b[0;34m\u001b[0m\u001b[0m\n",
      "\u001b[0;31mModuleNotFoundError\u001b[0m: No module named 'hana_automl'"
     ]
    }
   ],
   "source": [
    "from hana_automl.utils.perfomance import Benchmark\n",
    "from tests.connection import connection_context\n",
    "import seaborn as sns\n",
    "import pandas as pd\n",
    "import numpy as np\n",
    "import matplotlib.pyplot as plt\n",
    "from hana_automl.utils.cleanup import clean\n",
    "%load_ext jupyternotify\n",
    "import time"
   ]
  },
  {
   "cell_type": "code",
   "execution_count": 2,
   "id": "8a2566e0",
   "metadata": {
    "tags": [
     "hide-cell"
    ]
   },
   "outputs": [],
   "source": [
    "b = Benchmark(connection_context)\n",
    "GRADIENT = True"
   ]
  },
  {
   "cell_type": "code",
   "execution_count": 3,
   "id": "70d1ad35",
   "metadata": {
    "tags": [
     "hide-cell"
    ]
   },
   "outputs": [],
   "source": [
    "df = pd.DataFrame()"
   ]
  },
  {
   "cell_type": "code",
   "execution_count": 4,
   "id": "e19d3aaa",
   "metadata": {
    "tags": [
     "hide-cell"
    ]
   },
   "outputs": [
    {
     "name": "stdout",
     "output_type": "stream",
     "text": [
      "['Solarize_Light2', '_classic_test_patch', 'bmh', 'classic', 'dark_background', 'fast', 'fivethirtyeight', 'ggplot', 'grayscale', 'seaborn', 'seaborn-bright', 'seaborn-colorblind', 'seaborn-dark', 'seaborn-dark-palette', 'seaborn-darkgrid', 'seaborn-deep', 'seaborn-muted', 'seaborn-notebook', 'seaborn-paper', 'seaborn-pastel', 'seaborn-poster', 'seaborn-talk', 'seaborn-ticks', 'seaborn-white', 'seaborn-whitegrid', 'tableau-colorblind10']\n"
     ]
    }
   ],
   "source": [
    "def plot_results(task: str, boosting: bool):\n",
    "    df['APL'] = apl_acc\n",
    "    df['HANA AutoML'] = hana_acc\n",
    "    df['Dataset'] = datasets\n",
    "    x = np.arange(len(datasets))  # the label locations\n",
    "    width = 0.45  # the width of the bars\n",
    "\n",
    "    fig, ax = plt.subplots()\n",
    "    rects1 = ax.bar(x - width/2, apl_acc, width, label='APL')\n",
    "    rects2 = ax.bar(x + width/2, hana_acc, width, label='HANA AutoML')\n",
    "    # Add some text for labels, title and custom x-axis tick labels, etc.\n",
    "    ax.set_ylabel('Accuracy')\n",
    "    if boosting:\n",
    "        ax.set_title(f'{task} (APL with Gradient Boosting)')\n",
    "    else:\n",
    "        ax.set_title(f'{task} (APL without Gradient Boosting)')\n",
    "    \n",
    "    ax.set_xticks(x)\n",
    "    ax.set_xticklabels(datasets)\n",
    "    ax.legend()\n",
    "\n",
    "    ax.bar_label(rects1)\n",
    "    ax.bar_label(rects2)\n",
    "\n",
    "    plt.gcf().set_size_inches(25,15)\n",
    "    plt.style.use('default')\n",
    "    plt.show()\n",
    "    \n",
    "def finish(benchmark):\n",
    "    apl_acc.append(benchmark.apl_accuracy)\n",
    "    hana_acc.append(benchmark.automl_accuracy)\n",
    "    clean()\n",
    "    time.sleep(180)\n",
    "    \n",
    "print(plt.style.available)"
   ]
  },
  {
   "cell_type": "markdown",
   "id": "3a930848",
   "metadata": {},
   "source": [
    "## Enable Gradient boosting in APL by setting GRADIENT to True\n",
    "Don't know what is Gradient Boosting? Check here: https://machinelearningmastery.com/gentle-introduction-gradient-boosting-algorithm-machine-learning/ . We are using special benchmark datasets from OpenML to compare model accuracy."
   ]
  },
  {
   "cell_type": "markdown",
   "id": "8812536f",
   "metadata": {},
   "source": [
    "## Classification"
   ]
  },
  {
   "cell_type": "code",
   "execution_count": 24,
   "id": "7d7cc53c",
   "metadata": {},
   "outputs": [],
   "source": [
    "apl_acc = []\n",
    "hana_acc = []\n",
    "datasets = ['kr-vs-kp.csv', 'australian.csv', 'phoneme.csv', 'adult.csv', 'blood.csv', 'sylvine.csv', 'credit.csv', 'kc1.csv']"
   ]
  },
  {
   "cell_type": "code",
   "execution_count": null,
   "id": "c65d71d9",
   "metadata": {
    "tags": [
     "hide-cell"
    ]
   },
   "outputs": [],
   "source": [
    "clean()\n",
    "b.run('./data/benchmark/cls/kr-vs-kp.csv', task='cls', label='class', categorical=['class'], grad_boost=GRADIENT)\n",
    "finish(b)"
   ]
  },
  {
   "cell_type": "code",
   "execution_count": null,
   "id": "f68cf0fe",
   "metadata": {
    "tags": [
     "hide-cell"
    ]
   },
   "outputs": [],
   "source": [
    "b.run('./data/benchmark/cls/australian.csv', task='cls', \n",
    "      label='A15', \n",
    "      categorical=['A15', 'A1', 'A4', 'A5', 'A6', 'A8', 'A9', 'A11', 'A12'],\n",
    "      grad_boost=GRADIENT)\n",
    "finish(b)"
   ]
  },
  {
   "cell_type": "code",
   "execution_count": null,
   "id": "86890c7a",
   "metadata": {
    "scrolled": true,
    "tags": [
     "hide-cell"
    ]
   },
   "outputs": [],
   "source": [
    "b.run('./data/benchmark/cls/phoneme.csv', task='cls', label='Class', categorical=['Class'], grad_boost=GRADIENT)\n",
    "finish(b)"
   ]
  },
  {
   "cell_type": "code",
   "execution_count": 31,
   "id": "8cca500f",
   "metadata": {
    "tags": [
     "hide-cell"
    ]
   },
   "outputs": [
    {
     "name": "stderr",
     "output_type": "stream",
     "text": [
      "100%|██████████| 1/1 [00:05<00:00,  5.79s/it]\n",
      "100%|██████████| 1/1 [00:01<00:00,  1.81s/it]\n"
     ]
    },
    {
     "name": "stdout",
     "output_type": "stream",
     "text": [
      "Finished in 11 seconds\n",
      "APL accuracy:  0.8757933528970177\n",
      "REMOVED ALL TABLES FROM DEVELOPER\n",
      "Recreating table BENCHMARK_AUTOML with data from dataframe\n"
     ]
    },
    {
     "name": "stderr",
     "output_type": "stream",
     "text": [
      "100%|██████████| 1/1 [00:06<00:00,  6.75s/it]\n"
     ]
    },
    {
     "name": "stdout",
     "output_type": "stream",
     "text": [
      "Task: cls\n",
      "All iterations completed successfully!\n",
      "Starting model accuracy evaluation on the validation data!\n",
      "Finished in 442 seconds\n"
     ]
    },
    {
     "name": "stderr",
     "output_type": "stream",
     "text": [
      "100%|██████████| 1/1 [00:01<00:00,  1.30s/it]\n"
     ]
    },
    {
     "name": "stdout",
     "output_type": "stream",
     "text": [
      "hana_automl accuracy: 0.868013\n",
      "REMOVED ALL TABLES FROM DEVELOPER\n"
     ]
    }
   ],
   "source": [
    "b.run('./data/benchmark/cls/adult.csv', task='cls', label='class', categorical=['workclass', 'education', 'marital-status', 'occupation', 'relationship', 'race', 'sex', 'native-country', 'class'], grad_boost=GRADIENT)\n",
    "finish(b)"
   ]
  },
  {
   "cell_type": "code",
   "execution_count": 33,
   "id": "6f22c6e2",
   "metadata": {
    "tags": [
     "hide-cell"
    ]
   },
   "outputs": [
    {
     "name": "stderr",
     "output_type": "stream",
     "text": [
      "100%|██████████| 1/1 [00:00<00:00,  5.80it/s]\n",
      "100%|██████████| 1/1 [00:00<00:00,  6.27it/s]\n"
     ]
    },
    {
     "name": "stdout",
     "output_type": "stream",
     "text": [
      "Finished in 6 seconds\n",
      "APL accuracy:  0.7866666666666666\n",
      "REMOVED ALL TABLES FROM DEVELOPER\n",
      "Recreating table BENCHMARK_AUTOML with data from dataframe\n"
     ]
    },
    {
     "name": "stderr",
     "output_type": "stream",
     "text": [
      "100%|██████████| 1/1 [00:00<00:00,  3.88it/s]\n"
     ]
    },
    {
     "name": "stdout",
     "output_type": "stream",
     "text": [
      "Task: cls\n",
      "All iterations completed successfully!\n",
      "Starting model accuracy evaluation on the validation data!\n",
      "Finished in 303 seconds\n"
     ]
    },
    {
     "name": "stderr",
     "output_type": "stream",
     "text": [
      "100%|██████████| 1/1 [00:00<00:00,  6.31it/s]\n"
     ]
    },
    {
     "name": "stdout",
     "output_type": "stream",
     "text": [
      "hana_automl accuracy: 0.782222\n",
      "REMOVED ALL TABLES FROM DEVELOPER\n"
     ]
    }
   ],
   "source": [
    "b.run('./data/benchmark/cls/blood.csv', task='cls', label='Class', categorical=['Class'], grad_boost=GRADIENT)\n",
    "finish(b)"
   ]
  },
  {
   "cell_type": "code",
   "execution_count": 35,
   "id": "a566a5f2",
   "metadata": {
    "tags": [
     "hide-cell"
    ]
   },
   "outputs": [
    {
     "name": "stderr",
     "output_type": "stream",
     "text": [
      "100%|██████████| 1/1 [00:00<00:00,  1.83it/s]\n",
      "100%|██████████| 1/1 [00:00<00:00,  3.15it/s]\n"
     ]
    },
    {
     "name": "stdout",
     "output_type": "stream",
     "text": [
      "Finished in 7 seconds\n",
      "APL accuracy:  0.9460338101430429\n",
      "REMOVED ALL TABLES FROM DEVELOPER\n",
      "Recreating table BENCHMARK_AUTOML with data from dataframe\n"
     ]
    },
    {
     "name": "stderr",
     "output_type": "stream",
     "text": [
      "100%|██████████| 1/1 [00:00<00:00,  1.80it/s]\n"
     ]
    },
    {
     "name": "stdout",
     "output_type": "stream",
     "text": [
      "Task: cls\n",
      "All iterations completed successfully!\n",
      "Starting model accuracy evaluation on the validation data!\n",
      "Finished in 344 seconds\n"
     ]
    },
    {
     "name": "stderr",
     "output_type": "stream",
     "text": [
      "100%|██████████| 1/1 [00:00<00:00,  1.66it/s]\n"
     ]
    },
    {
     "name": "stdout",
     "output_type": "stream",
     "text": [
      "hana_automl accuracy: 0.931729\n",
      "REMOVED ALL TABLES FROM DEVELOPER\n"
     ]
    }
   ],
   "source": [
    "b.run('./data/benchmark/cls/sylvine.csv', task='cls', label='class', categorical=['class'], grad_boost=GRADIENT)\n",
    "finish(b)"
   ]
  },
  {
   "cell_type": "code",
   "execution_count": 36,
   "id": "b361b6a4",
   "metadata": {
    "tags": [
     "hide-cell"
    ]
   },
   "outputs": [
    {
     "name": "stderr",
     "output_type": "stream",
     "text": [
      "100%|██████████| 1/1 [00:00<00:00,  1.73it/s]\n",
      "100%|██████████| 1/1 [00:00<00:00,  3.78it/s]\n"
     ]
    },
    {
     "name": "stdout",
     "output_type": "stream",
     "text": [
      "Finished in 7 seconds\n",
      "APL accuracy:  0.7866666666666666\n",
      "REMOVED ALL TABLES FROM DEVELOPER\n",
      "Recreating table BENCHMARK_AUTOML with data from dataframe\n"
     ]
    },
    {
     "name": "stderr",
     "output_type": "stream",
     "text": [
      "100%|██████████| 1/1 [00:00<00:00,  2.45it/s]\n"
     ]
    },
    {
     "name": "stdout",
     "output_type": "stream",
     "text": [
      "Task: cls\n",
      "All iterations completed successfully!\n",
      "Starting model accuracy evaluation on the validation data!\n",
      "Finished in 322 seconds\n"
     ]
    },
    {
     "name": "stderr",
     "output_type": "stream",
     "text": [
      "100%|██████████| 1/1 [00:00<00:00,  3.11it/s]\n"
     ]
    },
    {
     "name": "stdout",
     "output_type": "stream",
     "text": [
      "hana_automl accuracy: 0.743333\n",
      "REMOVED ALL TABLES FROM DEVELOPER\n"
     ]
    }
   ],
   "source": [
    "b.run('./data/benchmark/cls/credit.csv', task='cls', label='class', categorical=['class', 'checking_status', 'credit_history', 'purpose', 'savings_status', 'employment', 'personal_status', 'other_parties', 'property_magnitude', 'other_payment_plans', 'housing', 'job', 'own_telephone', 'foreign_worker'], grad_boost=GRADIENT)\n",
    "finish(b)"
   ]
  },
  {
   "cell_type": "code",
   "execution_count": 37,
   "id": "1a1acba7",
   "metadata": {
    "tags": [
     "hide-cell"
    ]
   },
   "outputs": [
    {
     "name": "stderr",
     "output_type": "stream",
     "text": [
      "100%|██████████| 1/1 [00:00<00:00,  1.41it/s]\n",
      "100%|██████████| 1/1 [00:00<00:00,  3.83it/s]\n"
     ]
    },
    {
     "name": "stdout",
     "output_type": "stream",
     "text": [
      "Finished in 6 seconds\n",
      "APL accuracy:  0.8499210110584519\n",
      "REMOVED ALL TABLES FROM DEVELOPER\n",
      "Recreating table BENCHMARK_AUTOML with data from dataframe\n"
     ]
    },
    {
     "name": "stderr",
     "output_type": "stream",
     "text": [
      "100%|██████████| 1/1 [00:00<00:00,  1.49it/s]\n"
     ]
    },
    {
     "name": "stdout",
     "output_type": "stream",
     "text": [
      "Task: cls\n",
      "All iterations completed successfully!\n",
      "Starting model accuracy evaluation on the validation data!\n",
      "Finished in 348 seconds\n"
     ]
    },
    {
     "name": "stderr",
     "output_type": "stream",
     "text": [
      "100%|██████████| 1/1 [00:00<00:00,  1.75it/s]\n"
     ]
    },
    {
     "name": "stdout",
     "output_type": "stream",
     "text": [
      "hana_automl accuracy: 0.846761\n",
      "REMOVED ALL TABLES FROM DEVELOPER\n"
     ]
    }
   ],
   "source": [
    "b.run('./data/benchmark/cls/kc1.csv', task='cls', label='defects', categorical=['defects'], grad_boost=GRADIENT)\n",
    "finish(b)"
   ]
  },
  {
   "cell_type": "code",
   "execution_count": 43,
   "id": "10802ad7",
   "metadata": {},
   "outputs": [
    {
     "data": {
      "image/png": "[encoded data removed]",
      "text/plain": [
       "<Figure size 1800x1080 with 1 Axes>"
      ]
     },
     "metadata": {
      "needs_background": "light"
     },
     "output_type": "display_data"
    }
   ],
   "source": [
    "hana_acc = [0.985401, 0.801932, 0.894574, 0.868013, 0.782222, 0.931729, 0.743333, 0.8467610]\n",
    "apl_acc = [0.9885297184567258, 0.8260869565217391, 0.8803945745992602, 0.8757933528970177, 0.7866666666666666, 0.9460338101430429, 0.7866666666666666, 0.8499210110584519]\n",
    "plot_results(task='Classification', boosting=GRADIENT)"
   ]
  },
  {
   "cell_type": "markdown",
   "id": "dd5d2372",
   "metadata": {},
   "source": [
    "## Regression"
   ]
  },
  {
   "cell_type": "code",
   "execution_count": 5,
   "id": "fe1bb1f6",
   "metadata": {},
   "outputs": [
    {
     "name": "stdout",
     "output_type": "stream",
     "text": [
      "REMOVED ALL TABLES FROM DEVELOPER\n"
     ]
    }
   ],
   "source": [
    "datasets = ['elevators.csv', 'wine_quality.csv', 'baseball.csv', 'boston.csv', 'tecator.csv', 'space_ga.csv', 'pol.csv', 'socmob.csv']\n",
    "hana_acc = []\n",
    "apl_acc = []\n",
    "clean()"
   ]
  },
  {
   "cell_type": "code",
   "execution_count": null,
   "id": "186fc763",
   "metadata": {},
   "outputs": [
    {
     "name": "stdout",
     "output_type": "stream",
     "text": [
      "REMOVED ALL TABLES FROM DEVELOPER\n"
     ]
    },
    {
     "name": "stderr",
     "output_type": "stream",
     "text": [
      "100%|██████████| 1/1 [00:02<00:00,  2.21s/it]\n",
      "100%|██████████| 1/1 [00:00<00:00,  1.29it/s]\n"
     ]
    },
    {
     "name": "stdout",
     "output_type": "stream",
     "text": [
      "Finished in 9 seconds\n",
      "APL accuracy:  0.9051122074476603\n",
      "REMOVED ALL TABLES FROM DEVELOPER\n",
      "Recreating table BENCHMARK_AUTOML with data from dataframe\n"
     ]
    },
    {
     "name": "stderr",
     "output_type": "stream",
     "text": [
      "100%|██████████| 1/1 [00:01<00:00,  1.93s/it]\n"
     ]
    },
    {
     "name": "stdout",
     "output_type": "stream",
     "text": [
      "Task: reg\n"
     ]
    }
   ],
   "source": [
    "%%notify\n",
    "clean()\n",
    "b.run('./data/benchmark/reg/elevators.csv', task='reg', label='Goal', grad_boost=GRADIENT)\n",
    "finish(b)"
   ]
  },
  {
   "cell_type": "code",
   "execution_count": null,
   "id": "fbc96bd7",
   "metadata": {
    "scrolled": false
   },
   "outputs": [],
   "source": [
    "%%notify\n",
    "b.run('./data/benchmark/reg/wine_quality.csv', task='reg', label='quality', grad_boost=GRADIENT)\n",
    "finish(b)"
   ]
  },
  {
   "cell_type": "code",
   "execution_count": null,
   "id": "28d50323",
   "metadata": {},
   "outputs": [],
   "source": [
    "%%notify\n",
    "b.run('./data/benchmark/reg/baseball.csv', task='reg', label='RS', grad_boost=GRADIENT)\n",
    "finish(b)"
   ]
  },
  {
   "cell_type": "code",
   "execution_count": null,
   "id": "62deb11d",
   "metadata": {},
   "outputs": [],
   "source": [
    "%%notify\n",
    "b.run('./data/benchmark/reg/boston.csv', task='reg', label='MEDV', grad_boost=GRADIENT)\n",
    "finish(b)"
   ]
  },
  {
   "cell_type": "code",
   "execution_count": null,
   "id": "188a22d7",
   "metadata": {},
   "outputs": [],
   "source": [
    "%%notify\n",
    "b.run('./data/benchmark/reg/tecator.csv', task='reg', label='fat', grad_boost=GRADIENT)\n",
    "finish(b)"
   ]
  },
  {
   "cell_type": "code",
   "execution_count": null,
   "id": "e9ff9199",
   "metadata": {},
   "outputs": [],
   "source": [
    "%%notify\n",
    "b.run('./data/benchmark/reg/space_ga.csv', task='reg', label='ln(VOTES/POP)', grad_boost=GRADIENT)\n",
    "finish(b)"
   ]
  },
  {
   "cell_type": "code",
   "execution_count": null,
   "id": "a5d9f792",
   "metadata": {},
   "outputs": [],
   "source": [
    "%%notify\n",
    "b.run('./data/benchmark/reg/pol.csv', task='reg', label='foo', grad_boost=GRADIENT)\n",
    "finish(b)"
   ]
  },
  {
   "cell_type": "code",
   "execution_count": null,
   "id": "5d0adcc2",
   "metadata": {},
   "outputs": [],
   "source": [
    "%%notify\n",
    "b.run('./data/benchmark/reg/socmob.csv', task='reg', label='counts_for_sons_current_occupation', categorical=['fathers_occupation','sons_occupation', 'family_structure', 'race'],grad_boost=GRADIENT)\n",
    "finish(b)"
   ]
  },
  {
   "cell_type": "code",
   "execution_count": null,
   "id": "cf74ac0f",
   "metadata": {},
   "outputs": [],
   "source": [
    "hana_acc = [0.8753186740608836, 0.38712821265860387, 0.9366921697454966, 0.8272694767533825, 0.9943877154701021, 0.7081623532908919, 0.980216625155045, 0.9376376904944593]\n",
    "apl_acc = [0.8382246438752253, 0.17297255051855154, 0.9337722036910887, 0.7792124816136172, 0.9930549624241458, 0.7075101327273563, 0.8782178100191081, 0.6624122582210749]\n",
    "\n",
    "print('APL ACCURACY', apl_acc)\n",
    "print('AutoML ACCURACY', hana_acc)\n",
    "print(len(datasets), len(hana_acc), len(apl_acc))\n",
    "plot_results(task='Regression', boosting=False)"
   ]
  }
 ],
 "metadata": {
  "kernelspec": {
   "display_name": "Python 3",
   "language": "python",
   "name": "python3"
  },
  "language_info": {
   "codemirror_mode": {
    "name": "ipython",
    "version": 3
   },
   "file_extension": ".py",
   "mimetype": "text/x-python",
   "name": "python",
   "nbconvert_exporter": "python",
   "pygments_lexer": "ipython3",
   "version": "3.9.5"
  }
 },
 "nbformat": 4,
 "nbformat_minor": 5
}
