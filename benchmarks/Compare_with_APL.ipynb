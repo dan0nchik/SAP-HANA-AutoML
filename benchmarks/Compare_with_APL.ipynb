{
 "cells": [
  {
   "cell_type": "markdown",
   "id": "37b78775",
   "metadata": {},
   "source": [
    "# Comparsion with HANA APL Library\n",
    "In this notebook we'll find out, which AutoML library is more accurate: our or Automated Predictive Library (APL).\n",
    "Firstly, let's import all necessary packages for the experiment"
   ]
  },
  {
   "cell_type": "code",
   "execution_count": 38,
   "id": "545a4d03",
   "metadata": {},
   "outputs": [],
   "source": [
    "import pandas as pd\n",
    "from hana_automl.automl import AutoML\n",
    "from hana_ml.algorithms.apl.classification import AutoClassifier\n",
    "from hana_ml.algorithms.apl.regression import AutoRegressor\n",
    "from hana_automl.utils.connection import connection_context # connection info for database\n",
    "from hana_ml.dataframe import create_dataframe_from_pandas\n",
    "from sklearn.model_selection import train_test_split"
   ]
  },
  {
   "cell_type": "markdown",
   "id": "bb69392d",
   "metadata": {},
   "source": [
    "## Classification\n",
    "For this task, we'll use famous Titanic dataset. (https://www.kaggle.com/c/titanic)\n",
    "We have cleaned it a bit.\n",
    "Our task is to predict whether the passenger will survive or not."
   ]
  },
  {
   "cell_type": "code",
   "execution_count": 7,
   "id": "cec4b5bb",
   "metadata": {},
   "outputs": [
    {
     "data": {
      "text/html": [
       "<div>\n",
       "<style scoped>\n",
       "    .dataframe tbody tr th:only-of-type {\n",
       "        vertical-align: middle;\n",
       "    }\n",
       "\n",
       "    .dataframe tbody tr th {\n",
       "        vertical-align: top;\n",
       "    }\n",
       "\n",
       "    .dataframe thead th {\n",
       "        text-align: right;\n",
       "    }\n",
       "</style>\n",
       "<table border=\"1\" class=\"dataframe\">\n",
       "  <thead>\n",
       "    <tr style=\"text-align: right;\">\n",
       "      <th></th>\n",
       "      <th>Unnamed: 0</th>\n",
       "      <th>PassengerId</th>\n",
       "      <th>Survived</th>\n",
       "      <th>Pclass</th>\n",
       "      <th>Age</th>\n",
       "      <th>SibSp</th>\n",
       "      <th>Parch</th>\n",
       "      <th>Fare</th>\n",
       "      <th>Sex_female</th>\n",
       "      <th>Sex_male</th>\n",
       "    </tr>\n",
       "  </thead>\n",
       "  <tbody>\n",
       "    <tr>\n",
       "      <th>0</th>\n",
       "      <td>0</td>\n",
       "      <td>1</td>\n",
       "      <td>0</td>\n",
       "      <td>3</td>\n",
       "      <td>22.0</td>\n",
       "      <td>1</td>\n",
       "      <td>0</td>\n",
       "      <td>7.2500</td>\n",
       "      <td>0</td>\n",
       "      <td>1</td>\n",
       "    </tr>\n",
       "    <tr>\n",
       "      <th>1</th>\n",
       "      <td>1</td>\n",
       "      <td>2</td>\n",
       "      <td>1</td>\n",
       "      <td>1</td>\n",
       "      <td>38.0</td>\n",
       "      <td>1</td>\n",
       "      <td>0</td>\n",
       "      <td>71.2833</td>\n",
       "      <td>1</td>\n",
       "      <td>0</td>\n",
       "    </tr>\n",
       "    <tr>\n",
       "      <th>2</th>\n",
       "      <td>2</td>\n",
       "      <td>3</td>\n",
       "      <td>1</td>\n",
       "      <td>3</td>\n",
       "      <td>26.0</td>\n",
       "      <td>0</td>\n",
       "      <td>0</td>\n",
       "      <td>7.9250</td>\n",
       "      <td>1</td>\n",
       "      <td>0</td>\n",
       "    </tr>\n",
       "    <tr>\n",
       "      <th>3</th>\n",
       "      <td>3</td>\n",
       "      <td>4</td>\n",
       "      <td>1</td>\n",
       "      <td>1</td>\n",
       "      <td>35.0</td>\n",
       "      <td>1</td>\n",
       "      <td>0</td>\n",
       "      <td>53.1000</td>\n",
       "      <td>1</td>\n",
       "      <td>0</td>\n",
       "    </tr>\n",
       "    <tr>\n",
       "      <th>4</th>\n",
       "      <td>4</td>\n",
       "      <td>5</td>\n",
       "      <td>0</td>\n",
       "      <td>3</td>\n",
       "      <td>35.0</td>\n",
       "      <td>0</td>\n",
       "      <td>0</td>\n",
       "      <td>8.0500</td>\n",
       "      <td>0</td>\n",
       "      <td>1</td>\n",
       "    </tr>\n",
       "  </tbody>\n",
       "</table>\n",
       "</div>"
      ],
      "text/plain": [
       "   Unnamed: 0  PassengerId  Survived  Pclass   Age  SibSp  Parch     Fare  \\\n",
       "0           0            1         0       3  22.0      1      0   7.2500   \n",
       "1           1            2         1       1  38.0      1      0  71.2833   \n",
       "2           2            3         1       3  26.0      0      0   7.9250   \n",
       "3           3            4         1       1  35.0      1      0  53.1000   \n",
       "4           4            5         0       3  35.0      0      0   8.0500   \n",
       "\n",
       "   Sex_female  Sex_male  \n",
       "0           0         1  \n",
       "1           1         0  \n",
       "2           1         0  \n",
       "3           1         0  \n",
       "4           0         1  "
      ]
     },
     "execution_count": 7,
     "metadata": {},
     "output_type": "execute_result"
    }
   ],
   "source": [
    "cls_df = pd.read_csv('data/cleaned_train.csv')\n",
    "cls_df.head()"
   ]
  },
  {
   "cell_type": "markdown",
   "id": "6935d87d",
   "metadata": {},
   "source": [
    "Now let's split it into train and test dataframes."
   ]
  },
  {
   "cell_type": "code",
   "execution_count": 8,
   "id": "ed2c01c8",
   "metadata": {},
   "outputs": [],
   "source": [
    "cls_train, cls_test = train_test_split(cls_df, test_size=0.3)"
   ]
  },
  {
   "cell_type": "markdown",
   "id": "50f86bf0",
   "metadata": {},
   "source": [
    "To load the dataset to database, we need a connection context. For security reasons, we've imported it from our library."
   ]
  },
  {
   "cell_type": "code",
   "execution_count": 9,
   "id": "e5699a3d",
   "metadata": {},
   "outputs": [
    {
     "name": "stderr",
     "output_type": "stream",
     "text": [
      "100%|██████████| 1/1 [00:00<00:00,  5.75it/s]\n"
     ]
    }
   ],
   "source": [
    "hana_cls_df_train = create_dataframe_from_pandas(connection_context=connection_context,\n",
    "                                            pandas_df=cls_train,\n",
    "                                            table_name='cls_compare_train',\n",
    "                                            force=True,\n",
    "                                            drop_exist_tab=True)"
   ]
  },
  {
   "cell_type": "code",
   "execution_count": 10,
   "id": "71611200",
   "metadata": {},
   "outputs": [
    {
     "name": "stderr",
     "output_type": "stream",
     "text": [
      "100%|██████████| 1/1 [00:00<00:00,  6.16it/s]\n"
     ]
    }
   ],
   "source": [
    "hana_cls_df_test = create_dataframe_from_pandas(connection_context=connection_context,\n",
    "                                            pandas_df=cls_test,\n",
    "                                            table_name='cls_compare_test',\n",
    "                                            force=True,\n",
    "                                            drop_exist_tab=True)"
   ]
  },
  {
   "cell_type": "markdown",
   "id": "9714b8e8",
   "metadata": {},
   "source": [
    "### APL Library"
   ]
  },
  {
   "cell_type": "markdown",
   "id": "83a6e401",
   "metadata": {},
   "source": [
    "Create APL model and fit it"
   ]
  },
  {
   "cell_type": "code",
   "execution_count": null,
   "id": "9f028c40",
   "metadata": {},
   "outputs": [],
   "source": [
    "cls_apl_model = AutoClassifier(connection_context, variable_auto_selection=True)\n",
    "\n",
    "cls_apl_model.fit(data=hana_cls_df_train, label='Survived', key='PassengerId')"
   ]
  },
  {
   "cell_type": "markdown",
   "id": "5815ebb0",
   "metadata": {},
   "source": [
    "Score it. Remember this number!"
   ]
  },
  {
   "cell_type": "code",
   "execution_count": 13,
   "id": "facbc959",
   "metadata": {},
   "outputs": [
    {
     "data": {
      "text/plain": [
       "0.7761194029850746"
      ]
     },
     "execution_count": 13,
     "metadata": {},
     "output_type": "execute_result"
    }
   ],
   "source": [
    "cls_apl_model.score(hana_cls_df_test)"
   ]
  },
  {
   "cell_type": "markdown",
   "id": "101471be",
   "metadata": {},
   "source": [
    "### HANA AutoML library"
   ]
  },
  {
   "cell_type": "markdown",
   "id": "5f657a11",
   "metadata": {},
   "source": [
    "Create HANA AutoML model and fit it. Note that it has automatically detected the task."
   ]
  },
  {
   "cell_type": "code",
   "execution_count": 31,
   "id": "1bda11e9",
   "metadata": {},
   "outputs": [
    {
     "name": "stdout",
     "output_type": "stream",
     "text": [
      "Creating table with name: AUTOML960a91a7-eed3-421d-b0e2-2844ece32e6f\n"
     ]
    },
    {
     "name": "stderr",
     "output_type": "stream",
     "text": [
      "100%|██████████| 1/1 [00:00<00:00,  5.54it/s]\n"
     ]
    },
    {
     "name": "stdout",
     "output_type": "stream",
     "text": [
      "Done\n",
      "Task: cls\n"
     ]
    }
   ],
   "source": [
    "cls_automl = AutoML(connection_context)\n",
    "\n",
    "cls_automl.fit(\n",
    "        file_path=\"data/cleaned_train.csv\",\n",
    "        target=\"Survived\",\n",
    "        id_column=\"PassengerId\",\n",
    "        steps=30,\n",
    "        categorical_features=[\"Survived\"]\n",
    ")"
   ]
  },
  {
   "cell_type": "markdown",
   "id": "cc1b2cfe",
   "metadata": {},
   "source": [
    "Score it."
   ]
  },
  {
   "cell_type": "code",
   "execution_count": 32,
   "id": "7665f835",
   "metadata": {},
   "outputs": [
    {
     "data": {
      "text/plain": [
       "0.824626"
      ]
     },
     "execution_count": 32,
     "metadata": {},
     "output_type": "execute_result"
    }
   ],
   "source": [
    "cls_automl.get_model().score(hana_cls_df_test, label='Survived', key='PassengerId')"
   ]
  },
  {
   "cell_type": "markdown",
   "id": "50c8a0d6",
   "metadata": {},
   "source": [
    "As you see, out library is **more accurate** than HANA APL Library\n",
    "\n"
   ]
  },
  {
   "cell_type": "markdown",
   "id": "c9f345b2",
   "metadata": {},
   "source": [
    "## Regression"
   ]
  },
  {
   "cell_type": "markdown",
   "id": "2cde4c30",
   "metadata": {},
   "source": [
    "We'll use another famous Boston dataset (https://www.cs.toronto.edu/~delve/data/boston/bostonDetail.html). Let's load it.\n",
    "We need to predict 'medv' column here."
   ]
  },
  {
   "cell_type": "code",
   "execution_count": 39,
   "id": "24048ad3",
   "metadata": {},
   "outputs": [
    {
     "data": {
      "text/html": [
       "<div>\n",
       "<style scoped>\n",
       "    .dataframe tbody tr th:only-of-type {\n",
       "        vertical-align: middle;\n",
       "    }\n",
       "\n",
       "    .dataframe tbody tr th {\n",
       "        vertical-align: top;\n",
       "    }\n",
       "\n",
       "    .dataframe thead th {\n",
       "        text-align: right;\n",
       "    }\n",
       "</style>\n",
       "<table border=\"1\" class=\"dataframe\">\n",
       "  <thead>\n",
       "    <tr style=\"text-align: right;\">\n",
       "      <th></th>\n",
       "      <th>ID</th>\n",
       "      <th>crim</th>\n",
       "      <th>zn</th>\n",
       "      <th>indus</th>\n",
       "      <th>chas</th>\n",
       "      <th>nox</th>\n",
       "      <th>rm</th>\n",
       "      <th>age</th>\n",
       "      <th>dis</th>\n",
       "      <th>rad</th>\n",
       "      <th>tax</th>\n",
       "      <th>ptratio</th>\n",
       "      <th>black</th>\n",
       "      <th>lstat</th>\n",
       "      <th>medv</th>\n",
       "    </tr>\n",
       "  </thead>\n",
       "  <tbody>\n",
       "    <tr>\n",
       "      <th>0</th>\n",
       "      <td>0</td>\n",
       "      <td>0.15876</td>\n",
       "      <td>0.0</td>\n",
       "      <td>10.81</td>\n",
       "      <td>0.0</td>\n",
       "      <td>0.413</td>\n",
       "      <td>5.961</td>\n",
       "      <td>17.5</td>\n",
       "      <td>5.2873</td>\n",
       "      <td>4.0</td>\n",
       "      <td>305.0</td>\n",
       "      <td>19.2</td>\n",
       "      <td>376.94</td>\n",
       "      <td>9.88</td>\n",
       "      <td>21.7</td>\n",
       "    </tr>\n",
       "    <tr>\n",
       "      <th>1</th>\n",
       "      <td>1</td>\n",
       "      <td>0.10328</td>\n",
       "      <td>25.0</td>\n",
       "      <td>5.13</td>\n",
       "      <td>0.0</td>\n",
       "      <td>0.453</td>\n",
       "      <td>5.927</td>\n",
       "      <td>47.2</td>\n",
       "      <td>6.9320</td>\n",
       "      <td>8.0</td>\n",
       "      <td>284.0</td>\n",
       "      <td>19.7</td>\n",
       "      <td>396.90</td>\n",
       "      <td>9.22</td>\n",
       "      <td>19.6</td>\n",
       "    </tr>\n",
       "    <tr>\n",
       "      <th>2</th>\n",
       "      <td>2</td>\n",
       "      <td>0.34940</td>\n",
       "      <td>0.0</td>\n",
       "      <td>9.90</td>\n",
       "      <td>0.0</td>\n",
       "      <td>0.544</td>\n",
       "      <td>5.972</td>\n",
       "      <td>76.7</td>\n",
       "      <td>3.1025</td>\n",
       "      <td>4.0</td>\n",
       "      <td>304.0</td>\n",
       "      <td>18.4</td>\n",
       "      <td>396.24</td>\n",
       "      <td>9.97</td>\n",
       "      <td>20.3</td>\n",
       "    </tr>\n",
       "    <tr>\n",
       "      <th>3</th>\n",
       "      <td>3</td>\n",
       "      <td>2.73397</td>\n",
       "      <td>0.0</td>\n",
       "      <td>19.58</td>\n",
       "      <td>0.0</td>\n",
       "      <td>0.871</td>\n",
       "      <td>5.597</td>\n",
       "      <td>94.9</td>\n",
       "      <td>1.5257</td>\n",
       "      <td>5.0</td>\n",
       "      <td>403.0</td>\n",
       "      <td>14.7</td>\n",
       "      <td>351.85</td>\n",
       "      <td>21.45</td>\n",
       "      <td>15.4</td>\n",
       "    </tr>\n",
       "    <tr>\n",
       "      <th>4</th>\n",
       "      <td>4</td>\n",
       "      <td>0.04337</td>\n",
       "      <td>21.0</td>\n",
       "      <td>5.64</td>\n",
       "      <td>0.0</td>\n",
       "      <td>0.439</td>\n",
       "      <td>6.115</td>\n",
       "      <td>63.0</td>\n",
       "      <td>6.8147</td>\n",
       "      <td>4.0</td>\n",
       "      <td>243.0</td>\n",
       "      <td>16.8</td>\n",
       "      <td>393.97</td>\n",
       "      <td>9.43</td>\n",
       "      <td>20.5</td>\n",
       "    </tr>\n",
       "  </tbody>\n",
       "</table>\n",
       "</div>"
      ],
      "text/plain": [
       "   ID     crim    zn  indus  chas    nox     rm   age     dis  rad    tax  \\\n",
       "0   0  0.15876   0.0  10.81   0.0  0.413  5.961  17.5  5.2873  4.0  305.0   \n",
       "1   1  0.10328  25.0   5.13   0.0  0.453  5.927  47.2  6.9320  8.0  284.0   \n",
       "2   2  0.34940   0.0   9.90   0.0  0.544  5.972  76.7  3.1025  4.0  304.0   \n",
       "3   3  2.73397   0.0  19.58   0.0  0.871  5.597  94.9  1.5257  5.0  403.0   \n",
       "4   4  0.04337  21.0   5.64   0.0  0.439  6.115  63.0  6.8147  4.0  243.0   \n",
       "\n",
       "   ptratio   black  lstat  medv  \n",
       "0     19.2  376.94   9.88  21.7  \n",
       "1     19.7  396.90   9.22  19.6  \n",
       "2     18.4  396.24   9.97  20.3  \n",
       "3     14.7  351.85  21.45  15.4  \n",
       "4     16.8  393.97   9.43  20.5  "
      ]
     },
     "execution_count": 39,
     "metadata": {},
     "output_type": "execute_result"
    }
   ],
   "source": [
    "reg_df = pd.read_csv('data/boston_data.csv')\n",
    "reg_df.head()"
   ]
  },
  {
   "cell_type": "markdown",
   "id": "f5492c28",
   "metadata": {},
   "source": [
    "Again, split the dataset"
   ]
  },
  {
   "cell_type": "code",
   "execution_count": 40,
   "id": "504fda52",
   "metadata": {},
   "outputs": [],
   "source": [
    "reg_train, reg_test = train_test_split(reg_df, test_size=0.3)"
   ]
  },
  {
   "cell_type": "markdown",
   "id": "337f0e55",
   "metadata": {},
   "source": [
    "Load both dfs to the database"
   ]
  },
  {
   "cell_type": "code",
   "execution_count": 41,
   "id": "aae7b8d7",
   "metadata": {},
   "outputs": [
    {
     "name": "stderr",
     "output_type": "stream",
     "text": [
      "100%|██████████| 1/1 [00:00<00:00,  5.70it/s]\n"
     ]
    }
   ],
   "source": [
    "hana_reg_df_train = create_dataframe_from_pandas(connection_context=connection_context,\n",
    "                                            pandas_df=reg_train,\n",
    "                                            table_name='reg_compare_train',\n",
    "                                            force=True,\n",
    "                                            drop_exist_tab=True)"
   ]
  },
  {
   "cell_type": "code",
   "execution_count": 42,
   "id": "10747163",
   "metadata": {},
   "outputs": [
    {
     "name": "stderr",
     "output_type": "stream",
     "text": [
      "100%|██████████| 1/1 [00:00<00:00,  6.20it/s]\n"
     ]
    }
   ],
   "source": [
    "hana_reg_df_test = create_dataframe_from_pandas(connection_context=connection_context,\n",
    "                                            pandas_df=reg_test,\n",
    "                                            table_name='reg_compare_test',\n",
    "                                            force=True,\n",
    "                                            drop_exist_tab=True)"
   ]
  },
  {
   "cell_type": "markdown",
   "id": "61a2ce4e",
   "metadata": {},
   "source": [
    "### APL Library"
   ]
  },
  {
   "cell_type": "markdown",
   "id": "0d20f07c",
   "metadata": {},
   "source": [
    "Create APL model and fit it"
   ]
  },
  {
   "cell_type": "code",
   "execution_count": 43,
   "id": "9efee577",
   "metadata": {},
   "outputs": [],
   "source": [
    "reg_apl_model = AutoRegressor(connection_context, variable_auto_selection=True)\n",
    "\n",
    "reg_apl_model.fit(data=hana_reg_df_train, label='medv', key='ID')"
   ]
  },
  {
   "cell_type": "markdown",
   "id": "05618a99",
   "metadata": {},
   "source": [
    "Score it. Take a look at the accuracy."
   ]
  },
  {
   "cell_type": "code",
   "execution_count": 44,
   "id": "95f90e72",
   "metadata": {},
   "outputs": [
    {
     "data": {
      "text/plain": [
       "0.8590635581598624"
      ]
     },
     "execution_count": 44,
     "metadata": {},
     "output_type": "execute_result"
    }
   ],
   "source": [
    "reg_apl_model.score(hana_reg_df_test)"
   ]
  },
  {
   "cell_type": "markdown",
   "id": "25f27faa",
   "metadata": {},
   "source": [
    "### HANA AutoML library"
   ]
  },
  {
   "cell_type": "markdown",
   "id": "dcf2b60b",
   "metadata": {},
   "source": [
    "Create and fit the model."
   ]
  },
  {
   "cell_type": "code",
   "execution_count": 45,
   "id": "587b97a6",
   "metadata": {},
   "outputs": [
    {
     "name": "stdout",
     "output_type": "stream",
     "text": [
      "Creating table with name: AUTOML6d26b9f0-e457-4772-8e91-3fc2dee8194d\n"
     ]
    },
    {
     "name": "stderr",
     "output_type": "stream",
     "text": [
      "100%|██████████| 1/1 [00:00<00:00,  5.57it/s]\n"
     ]
    },
    {
     "name": "stdout",
     "output_type": "stream",
     "text": [
      "Done\n",
      "Task: reg\n"
     ]
    }
   ],
   "source": [
    "reg_automl = AutoML(connection_context)\n",
    "\n",
    "reg_automl.fit(\n",
    "        file_path=\"data/boston_data.csv\",\n",
    "        target=\"medv\",\n",
    "        id_column=\"ID\",\n",
    "        steps=30\n",
    ")"
   ]
  },
  {
   "cell_type": "markdown",
   "id": "8a22183e",
   "metadata": {},
   "source": [
    "Score it."
   ]
  },
  {
   "cell_type": "code",
   "execution_count": 47,
   "id": "ffc333de",
   "metadata": {},
   "outputs": [
    {
     "data": {
      "text/plain": [
       "0.9355457739354234"
      ]
     },
     "execution_count": 47,
     "metadata": {},
     "output_type": "execute_result"
    }
   ],
   "source": [
    "reg_automl.get_model().score(hana_reg_df_test, label='medv', key='ID')"
   ]
  },
  {
   "cell_type": "code",
   "execution_count": null,
   "id": "5e25c1ed",
   "metadata": {},
   "outputs": [],
   "source": [
    "And this time our library won again :"
   ]
  }
 ],
 "metadata": {
  "kernelspec": {
   "name": "python3",
   "language": "python",
   "display_name": "Python 3"
  },
  "language_info": {
   "codemirror_mode": {
    "name": "ipython",
    "version": 3
   },
   "file_extension": ".py",
   "mimetype": "text/x-python",
   "name": "python",
   "nbconvert_exporter": "python",
   "pygments_lexer": "ipython3",
   "version": "3.9.2"
  }
 },
 "nbformat": 4,
 "nbformat_minor": 5
}